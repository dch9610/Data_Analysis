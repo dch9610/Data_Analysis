{
 "metadata": {
  "language_info": {
   "codemirror_mode": {
    "name": "ipython",
    "version": 3
   },
   "file_extension": ".py",
   "mimetype": "text/x-python",
   "name": "python",
   "nbconvert_exporter": "python",
   "pygments_lexer": "ipython3",
   "version": "3.8.5-final"
  },
  "orig_nbformat": 2,
  "kernelspec": {
   "name": "python3",
   "display_name": "Python 3",
   "language": "python"
  }
 },
 "nbformat": 4,
 "nbformat_minor": 2,
 "cells": [
  {
   "cell_type": "code",
   "execution_count": 2,
   "metadata": {},
   "outputs": [],
   "source": [
    "import pandas as pd\n",
    "import numpy as np\n",
    "import matplotlib.pyplot as plt\n",
    "\n",
    "import matplotlib\n",
    "\n",
    "# 한글 깨짐 방지\n",
    "matplotlib.rcParams['font.family']='Malgun Gothic'\n",
    "matplotlib.rcParams['axes.unicode_minus'] = False"
   ]
  },
  {
   "cell_type": "code",
   "execution_count": 4,
   "metadata": {},
   "outputs": [
    {
     "output_type": "execute_result",
     "data": {
      "text/plain": [
       "   eng  kor  math\n",
       "a   10   20    90\n",
       "b   30   40    50\n",
       "c   50   60    20\n",
       "d   70   80    70"
      ],
      "text/html": "<div>\n<style scoped>\n    .dataframe tbody tr th:only-of-type {\n        vertical-align: middle;\n    }\n\n    .dataframe tbody tr th {\n        vertical-align: top;\n    }\n\n    .dataframe thead th {\n        text-align: right;\n    }\n</style>\n<table border=\"1\" class=\"dataframe\">\n  <thead>\n    <tr style=\"text-align: right;\">\n      <th></th>\n      <th>eng</th>\n      <th>kor</th>\n      <th>math</th>\n    </tr>\n  </thead>\n  <tbody>\n    <tr>\n      <th>a</th>\n      <td>10</td>\n      <td>20</td>\n      <td>90</td>\n    </tr>\n    <tr>\n      <th>b</th>\n      <td>30</td>\n      <td>40</td>\n      <td>50</td>\n    </tr>\n    <tr>\n      <th>c</th>\n      <td>50</td>\n      <td>60</td>\n      <td>20</td>\n    </tr>\n    <tr>\n      <th>d</th>\n      <td>70</td>\n      <td>80</td>\n      <td>70</td>\n    </tr>\n  </tbody>\n</table>\n</div>"
     },
     "metadata": {},
     "execution_count": 4
    }
   ],
   "source": [
    "data =  {'eng':[10,30,50,70],\n",
    "         'kor':[20,40,60,80],\n",
    "         'math':[90,50,20,70]}\n",
    "df = pd.DataFrame(data,index=['a','b','c','d'])\n",
    "df"
   ]
  },
  {
   "source": [
    "### 데이터프레임 통계함수 디폴트 (컬럼별) axis=1 (행별)"
   ],
   "cell_type": "markdown",
   "metadata": {}
  },
  {
   "cell_type": "code",
   "execution_count": 17,
   "metadata": {},
   "outputs": [
    {
     "output_type": "execute_result",
     "data": {
      "text/plain": [
       "eng     160\n",
       "kor     200\n",
       "math    230\n",
       "dtype: int64"
      ]
     },
     "metadata": {},
     "execution_count": 17
    }
   ],
   "source": [
    "df.sum()"
   ]
  },
  {
   "cell_type": "code",
   "execution_count": 11,
   "metadata": {},
   "outputs": [
    {
     "output_type": "execute_result",
     "data": {
      "text/plain": [
       "a    120\n",
       "b    120\n",
       "c    130\n",
       "d    220\n",
       "dtype: int64"
      ]
     },
     "metadata": {},
     "execution_count": 11
    }
   ],
   "source": [
    "df.sum(axis=1)"
   ]
  },
  {
   "cell_type": "code",
   "execution_count": 24,
   "metadata": {},
   "outputs": [
    {
     "output_type": "execute_result",
     "data": {
      "text/plain": [
       "590"
      ]
     },
     "metadata": {},
     "execution_count": 24
    }
   ],
   "source": [
    "# 전체 데이터 합\n",
    "df.values.sum()"
   ]
  },
  {
   "cell_type": "code",
   "execution_count": 29,
   "metadata": {},
   "outputs": [
    {
     "output_type": "execute_result",
     "data": {
      "text/plain": [
       "eng   a    10\n",
       "      b    30\n",
       "      c    50\n",
       "      d    70\n",
       "kor   a    20\n",
       "      b    40\n",
       "      c    60\n",
       "      d    80\n",
       "math  a    90\n",
       "      b    50\n",
       "      c    20\n",
       "      d    70\n",
       "dtype: int64"
      ]
     },
     "metadata": {},
     "execution_count": 29
    }
   ],
   "source": [
    "# 데이터프레임을 시리즈로 변환해줌\n",
    "# 멀티 인덱스\n",
    "sr = df.unstack()\n",
    "sr"
   ]
  },
  {
   "cell_type": "code",
   "execution_count": 32,
   "metadata": {},
   "outputs": [
    {
     "output_type": "execute_result",
     "data": {
      "text/plain": [
       "10"
      ]
     },
     "metadata": {},
     "execution_count": 32
    }
   ],
   "source": [
    "sr['eng']['a']"
   ]
  },
  {
   "cell_type": "code",
   "execution_count": 34,
   "metadata": {},
   "outputs": [
    {
     "output_type": "execute_result",
     "data": {
      "text/plain": [
       "590"
      ]
     },
     "metadata": {},
     "execution_count": 34
    }
   ],
   "source": [
    "df.unstack().sum()"
   ]
  },
  {
   "cell_type": "code",
   "execution_count": 41,
   "metadata": {},
   "outputs": [
    {
     "output_type": "execute_result",
     "data": {
      "text/plain": [
       "a    40.00\n",
       "b    40.00\n",
       "c    43.33\n",
       "d    73.33\n",
       "dtype: float64"
      ]
     },
     "metadata": {},
     "execution_count": 41
    }
   ],
   "source": [
    "# 컬럼별 평균\n",
    "df.mean(axis=1).round(2)"
   ]
  },
  {
   "cell_type": "code",
   "execution_count": 43,
   "metadata": {},
   "outputs": [
    {
     "output_type": "execute_result",
     "data": {
      "text/plain": [
       "49.166666666666664"
      ]
     },
     "metadata": {},
     "execution_count": 43
    }
   ],
   "source": [
    "df.mean().mean()"
   ]
  },
  {
   "cell_type": "code",
   "execution_count": 44,
   "metadata": {},
   "outputs": [
    {
     "output_type": "execute_result",
     "data": {
      "text/plain": [
       "eng     70\n",
       "kor     80\n",
       "math    90\n",
       "dtype: int64"
      ]
     },
     "metadata": {},
     "execution_count": 44
    }
   ],
   "source": [
    "df.max()"
   ]
  },
  {
   "cell_type": "code",
   "execution_count": 48,
   "metadata": {},
   "outputs": [
    {
     "output_type": "execute_result",
     "data": {
      "text/plain": [
       "eng     d\n",
       "kor     d\n",
       "math    a\n",
       "dtype: object"
      ]
     },
     "metadata": {},
     "execution_count": 48
    }
   ],
   "source": [
    "# 컬럼별 가장 큰값의 인덱스\n",
    "df.idxmax(axis=0)"
   ]
  },
  {
   "cell_type": "code",
   "execution_count": 52,
   "metadata": {},
   "outputs": [
    {
     "output_type": "execute_result",
     "data": {
      "text/plain": [
       "eng     40.0\n",
       "kor     50.0\n",
       "math    60.0\n",
       "dtype: float64"
      ]
     },
     "metadata": {},
     "execution_count": 52
    }
   ],
   "source": [
    "df.median()"
   ]
  },
  {
   "cell_type": "code",
   "execution_count": 53,
   "metadata": {},
   "outputs": [
    {
     "output_type": "execute_result",
     "data": {
      "text/plain": [
       "eng     25.819889\n",
       "kor     25.819889\n",
       "math    29.860788\n",
       "dtype: float64"
      ]
     },
     "metadata": {},
     "execution_count": 53
    }
   ],
   "source": [
    "df.std()"
   ]
  },
  {
   "cell_type": "code",
   "execution_count": 54,
   "metadata": {},
   "outputs": [
    {
     "output_type": "execute_result",
     "data": {
      "text/plain": [
       "       eng   kor  math\n",
       "0.25  25.0  35.0  42.5\n",
       "0.50  40.0  50.0  60.0\n",
       "0.75  55.0  65.0  75.0"
      ],
      "text/html": "<div>\n<style scoped>\n    .dataframe tbody tr th:only-of-type {\n        vertical-align: middle;\n    }\n\n    .dataframe tbody tr th {\n        vertical-align: top;\n    }\n\n    .dataframe thead th {\n        text-align: right;\n    }\n</style>\n<table border=\"1\" class=\"dataframe\">\n  <thead>\n    <tr style=\"text-align: right;\">\n      <th></th>\n      <th>eng</th>\n      <th>kor</th>\n      <th>math</th>\n    </tr>\n  </thead>\n  <tbody>\n    <tr>\n      <th>0.25</th>\n      <td>25.0</td>\n      <td>35.0</td>\n      <td>42.5</td>\n    </tr>\n    <tr>\n      <th>0.50</th>\n      <td>40.0</td>\n      <td>50.0</td>\n      <td>60.0</td>\n    </tr>\n    <tr>\n      <th>0.75</th>\n      <td>55.0</td>\n      <td>65.0</td>\n      <td>75.0</td>\n    </tr>\n  </tbody>\n</table>\n</div>"
     },
     "metadata": {},
     "execution_count": 54
    }
   ],
   "source": [
    "df.quantile([0.25,0.5,0.75])"
   ]
  },
  {
   "cell_type": "code",
   "execution_count": 55,
   "metadata": {},
   "outputs": [
    {
     "output_type": "execute_result",
     "data": {
      "text/plain": [
       "eng     4\n",
       "kor     4\n",
       "math    4\n",
       "dtype: int64"
      ]
     },
     "metadata": {},
     "execution_count": 55
    }
   ],
   "source": [
    "# 각 컬럼에 해당하는 행 갯수\n",
    "df.count()"
   ]
  },
  {
   "cell_type": "code",
   "execution_count": 59,
   "metadata": {},
   "outputs": [
    {
     "output_type": "execute_result",
     "data": {
      "text/plain": [
       "         eng    kor   math\n",
       "count   4.00   4.00   4.00\n",
       "mean   40.00  50.00  57.50\n",
       "std    25.82  25.82  29.86\n",
       "min    10.00  20.00  20.00\n",
       "25%    25.00  35.00  42.50\n",
       "50%    40.00  50.00  60.00\n",
       "75%    55.00  65.00  75.00\n",
       "max    70.00  80.00  90.00"
      ],
      "text/html": "<div>\n<style scoped>\n    .dataframe tbody tr th:only-of-type {\n        vertical-align: middle;\n    }\n\n    .dataframe tbody tr th {\n        vertical-align: top;\n    }\n\n    .dataframe thead th {\n        text-align: right;\n    }\n</style>\n<table border=\"1\" class=\"dataframe\">\n  <thead>\n    <tr style=\"text-align: right;\">\n      <th></th>\n      <th>eng</th>\n      <th>kor</th>\n      <th>math</th>\n    </tr>\n  </thead>\n  <tbody>\n    <tr>\n      <th>count</th>\n      <td>4.00</td>\n      <td>4.00</td>\n      <td>4.00</td>\n    </tr>\n    <tr>\n      <th>mean</th>\n      <td>40.00</td>\n      <td>50.00</td>\n      <td>57.50</td>\n    </tr>\n    <tr>\n      <th>std</th>\n      <td>25.82</td>\n      <td>25.82</td>\n      <td>29.86</td>\n    </tr>\n    <tr>\n      <th>min</th>\n      <td>10.00</td>\n      <td>20.00</td>\n      <td>20.00</td>\n    </tr>\n    <tr>\n      <th>25%</th>\n      <td>25.00</td>\n      <td>35.00</td>\n      <td>42.50</td>\n    </tr>\n    <tr>\n      <th>50%</th>\n      <td>40.00</td>\n      <td>50.00</td>\n      <td>60.00</td>\n    </tr>\n    <tr>\n      <th>75%</th>\n      <td>55.00</td>\n      <td>65.00</td>\n      <td>75.00</td>\n    </tr>\n    <tr>\n      <th>max</th>\n      <td>70.00</td>\n      <td>80.00</td>\n      <td>90.00</td>\n    </tr>\n  </tbody>\n</table>\n</div>"
     },
     "metadata": {},
     "execution_count": 59
    }
   ],
   "source": [
    "# df.describe()['eng'].round(2)\n",
    "df.describe().round(2)"
   ]
  },
  {
   "cell_type": "code",
   "execution_count": 51,
   "metadata": {},
   "outputs": [
    {
     "output_type": "execute_result",
     "data": {
      "text/plain": [
       "   eng  kor  math\n",
       "a   10   20    90\n",
       "b   30   40    50\n",
       "c   50   60    20\n",
       "d   70   80    70"
      ],
      "text/html": "<div>\n<style scoped>\n    .dataframe tbody tr th:only-of-type {\n        vertical-align: middle;\n    }\n\n    .dataframe tbody tr th {\n        vertical-align: top;\n    }\n\n    .dataframe thead th {\n        text-align: right;\n    }\n</style>\n<table border=\"1\" class=\"dataframe\">\n  <thead>\n    <tr style=\"text-align: right;\">\n      <th></th>\n      <th>eng</th>\n      <th>kor</th>\n      <th>math</th>\n    </tr>\n  </thead>\n  <tbody>\n    <tr>\n      <th>a</th>\n      <td>10</td>\n      <td>20</td>\n      <td>90</td>\n    </tr>\n    <tr>\n      <th>b</th>\n      <td>30</td>\n      <td>40</td>\n      <td>50</td>\n    </tr>\n    <tr>\n      <th>c</th>\n      <td>50</td>\n      <td>60</td>\n      <td>20</td>\n    </tr>\n    <tr>\n      <th>d</th>\n      <td>70</td>\n      <td>80</td>\n      <td>70</td>\n    </tr>\n  </tbody>\n</table>\n</div>"
     },
     "metadata": {},
     "execution_count": 51
    }
   ],
   "source": [
    "df"
   ]
  }
 ]
}