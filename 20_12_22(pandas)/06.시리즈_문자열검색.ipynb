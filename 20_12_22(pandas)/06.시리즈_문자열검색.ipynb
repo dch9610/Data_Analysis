{
 "metadata": {
  "language_info": {
   "codemirror_mode": {
    "name": "ipython",
    "version": 3
   },
   "file_extension": ".py",
   "mimetype": "text/x-python",
   "name": "python",
   "nbconvert_exporter": "python",
   "pygments_lexer": "ipython3",
   "version": "3.8.5-final"
  },
  "orig_nbformat": 2,
  "kernelspec": {
   "name": "python3",
   "display_name": "Python 3",
   "language": "python"
  }
 },
 "nbformat": 4,
 "nbformat_minor": 2,
 "cells": [
  {
   "cell_type": "code",
   "execution_count": 1,
   "metadata": {},
   "outputs": [],
   "source": [
    "import pandas as pd\n",
    "import numpy as np"
   ]
  },
  {
   "cell_type": "code",
   "execution_count": 3,
   "metadata": {},
   "outputs": [
    {
     "output_type": "execute_result",
     "data": {
      "text/plain": [
       "aa    홍길동\n",
       "bb    이순신\n",
       "cc    김철수\n",
       "dd    김순이\n",
       "ee    이홍김\n",
       "dtype: object"
      ]
     },
     "metadata": {},
     "execution_count": 3
    }
   ],
   "source": [
    "sr = pd.Series(['홍길동','이순신','김철수','김순이', '이홍김'],\n",
    "                index=['aa','bb','cc','dd','ee'])\n",
    "sr\n"
   ]
  },
  {
   "cell_type": "code",
   "execution_count": 4,
   "metadata": {},
   "outputs": [
    {
     "output_type": "execute_result",
     "data": {
      "text/plain": [
       "<pandas.core.strings.StringMethods at 0x14627a6a670>"
      ]
     },
     "metadata": {},
     "execution_count": 4
    }
   ],
   "source": [
    "# 데이터가 문자열 시리즈객체의 str 속성을 이용한다.\n",
    "# sr.index.str 문자열 index\n",
    "sr.str # 데이터가 문자열인"
   ]
  },
  {
   "source": [
    "### 문자열 인덱싱 슬라이싱"
   ],
   "cell_type": "markdown",
   "metadata": {}
  },
  {
   "source": [
    "sr.str[0]"
   ],
   "cell_type": "code",
   "metadata": {},
   "execution_count": 7,
   "outputs": [
    {
     "output_type": "execute_result",
     "data": {
      "text/plain": [
       "aa    홍\n",
       "bb    이\n",
       "cc    김\n",
       "dd    김\n",
       "ee    이\n",
       "dtype: object"
      ]
     },
     "metadata": {},
     "execution_count": 7
    }
   ]
  },
  {
   "cell_type": "code",
   "execution_count": 11,
   "metadata": {},
   "outputs": [
    {
     "output_type": "stream",
     "name": "stdout",
     "text": [
      "aa    길동\nbb    순신\ncc    철수\ndd    순이\nee    홍김\ndtype: object\naa    동\nbb    신\ncc    수\ndd    이\nee    김\ndtype: object\n"
     ]
    }
   ],
   "source": [
    "print(sr.str[1:])\n",
    "print(sr.str[-1])"
   ]
  },
  {
   "source": [
    "### 문자열 데이터 검색"
   ],
   "cell_type": "markdown",
   "metadata": {}
  },
  {
   "source": [
    "#### 정규표현식 메타기호"
   ],
   "cell_type": "markdown",
   "metadata": {}
  },
  {
   "cell_type": "code",
   "execution_count": 15,
   "metadata": {},
   "outputs": [
    {
     "output_type": "execute_result",
     "data": {
      "text/plain": [
       "aa    False\n",
       "bb    False\n",
       "cc     True\n",
       "dd    False\n",
       "ee    False\n",
       "dtype: bool"
      ]
     },
     "metadata": {},
     "execution_count": 15
    }
   ],
   "source": [
    "# () 안의 문자가 있는지 확인\n",
    "sr.str.contains('김철')"
   ]
  },
  {
   "cell_type": "code",
   "execution_count": 17,
   "metadata": {},
   "outputs": [
    {
     "output_type": "execute_result",
     "data": {
      "text/plain": [
       "cc    김철수\n",
       "dd    김순이\n",
       "dtype: object"
      ]
     },
     "metadata": {},
     "execution_count": 17
    }
   ],
   "source": [
    "# 김으로 시작하는 데이터\n",
    "sr[sr.str.contains('^김')]"
   ]
  },
  {
   "cell_type": "code",
   "execution_count": 18,
   "metadata": {},
   "outputs": [
    {
     "output_type": "execute_result",
     "data": {
      "text/plain": [
       "ee    이홍김\n",
       "dtype: object"
      ]
     },
     "metadata": {},
     "execution_count": 18
    }
   ],
   "source": [
    "# 김으로 끝나는 데이터\n",
    "sr[sr.str.contains('김$')]"
   ]
  },
  {
   "cell_type": "code",
   "execution_count": 19,
   "metadata": {},
   "outputs": [
    {
     "output_type": "execute_result",
     "data": {
      "text/plain": [
       "aa    홍길동\n",
       "bb    이순신\n",
       "dd    김순이\n",
       "ee    이홍김\n",
       "dtype: object"
      ]
     },
     "metadata": {},
     "execution_count": 19
    }
   ],
   "source": [
    "# 문자의 집합중 하나 (홍 또는 이 가 속한 데이터)\n",
    "sr[sr.str.contains('[홍이]')]"
   ]
  },
  {
   "cell_type": "code",
   "execution_count": 21,
   "metadata": {},
   "outputs": [
    {
     "output_type": "execute_result",
     "data": {
      "text/plain": [
       "bb    이순신\n",
       "dtype: object"
      ]
     },
     "metadata": {},
     "execution_count": 21
    }
   ],
   "source": [
    "# 홍순 또는 이순 이라는 데이터를 가져온다.\n",
    "sr[sr.str.contains('[홍이]순')]"
   ]
  },
  {
   "cell_type": "code",
   "execution_count": 23,
   "metadata": {},
   "outputs": [
    {
     "output_type": "execute_result",
     "data": {
      "text/plain": [
       "aa    홍길동\n",
       "dd    김순이\n",
       "dtype: object"
      ]
     },
     "metadata": {},
     "execution_count": 23
    }
   ],
   "source": [
    "# 길동 또는 순이\n",
    "sr[sr.str.contains('길동|순이')]"
   ]
  },
  {
   "cell_type": "code",
   "execution_count": 24,
   "metadata": {},
   "outputs": [
    {
     "output_type": "execute_result",
     "data": {
      "text/plain": [
       "aa    홍길동\n",
       "bb    이순신\n",
       "cc    황철수\n",
       "dd    황순이\n",
       "ee    이홍황\n",
       "dtype: object"
      ]
     },
     "metadata": {},
     "execution_count": 24
    }
   ],
   "source": [
    "# '김'을 '황'으로 변경\n",
    "# sr=sr.str.replace('김','황')\n",
    "sr.str.replace('김','황')"
   ]
  },
  {
   "cell_type": "code",
   "execution_count": 25,
   "metadata": {},
   "outputs": [
    {
     "output_type": "execute_result",
     "data": {
      "text/plain": [
       "aa    홍길동\n",
       "bb    이순신\n",
       "cc    황철수\n",
       "dd    황순이\n",
       "ee    이홍김\n",
       "dtype: object"
      ]
     },
     "metadata": {},
     "execution_count": 25
    }
   ],
   "source": [
    "sr.str.replace('^김','황')"
   ]
  },
  {
   "cell_type": "code",
   "execution_count": 26,
   "metadata": {},
   "outputs": [
    {
     "output_type": "execute_result",
     "data": {
      "text/plain": [
       "aa    홍길동\n",
       "bb    이순신\n",
       "cc     황수\n",
       "dd    김순이\n",
       "ee    이홍김\n",
       "dtype: object"
      ]
     },
     "metadata": {},
     "execution_count": 26
    }
   ],
   "source": [
    "sr.str.replace('김[철이]','황')"
   ]
  },
  {
   "cell_type": "code",
   "execution_count": 32,
   "metadata": {},
   "outputs": [
    {
     "output_type": "stream",
     "name": "stdout",
     "text": [
      "[ True False False False False]\n"
     ]
    },
    {
     "output_type": "execute_result",
     "data": {
      "text/plain": [
       "aa    홍길동\n",
       "dtype: object"
      ]
     },
     "metadata": {},
     "execution_count": 32
    }
   ],
   "source": [
    "# 인덱스의 값 가져오기\n",
    "print(sr.index.str.contains('a'))\n",
    "sr[sr.index.str.contains('a')]"
   ]
  },
  {
   "cell_type": "code",
   "execution_count": null,
   "metadata": {},
   "outputs": [],
   "source": []
  }
 ]
}