{
 "metadata": {
  "language_info": {
   "codemirror_mode": {
    "name": "ipython",
    "version": 3
   },
   "file_extension": ".py",
   "mimetype": "text/x-python",
   "name": "python",
   "nbconvert_exporter": "python",
   "pygments_lexer": "ipython3",
   "version": "3.8.5-final"
  },
  "orig_nbformat": 2,
  "kernelspec": {
   "name": "python3",
   "display_name": "Python 3",
   "language": "python"
  }
 },
 "nbformat": 4,
 "nbformat_minor": 2,
 "cells": [
  {
   "source": [
    "## Pandas\n",
    "- Series(1차원 데이터)\n",
    "\n",
    "- DataFrame(2차원 데이터(이상))"
   ],
   "cell_type": "markdown",
   "metadata": {}
  },
  {
   "cell_type": "code",
   "execution_count": 1,
   "metadata": {},
   "outputs": [],
   "source": [
    "import pandas as pd\n",
    "import numpy as np"
   ]
  },
  {
   "cell_type": "code",
   "execution_count": 3,
   "metadata": {},
   "outputs": [],
   "source": [
    "myList = [10,20,30,40] # 리스트\n",
    "t = (10,20,30,40) # 튜플\n",
    "d = {'aa':10,'bb':20,'cc':30} # 딕셔너리"
   ]
  },
  {
   "cell_type": "code",
   "execution_count": 13,
   "metadata": {},
   "outputs": [
    {
     "output_type": "execute_result",
     "data": {
      "text/plain": [
       "aa    10\n",
       "bb    20\n",
       "cc    30\n",
       "dd    40\n",
       "Name: kor, dtype: int16"
      ]
     },
     "metadata": {},
     "execution_count": 13
    }
   ],
   "source": [
    "# 인덱스    값   구조로 출력\n",
    "sr1 = pd.Series(myList, \n",
    "                index=['aa','bb','cc','dd'],\n",
    "                dtype=np.int16,\n",
    "                name='kor',\n",
    "                )\n",
    "sr1"
   ]
  },
  {
   "cell_type": "code",
   "execution_count": 14,
   "metadata": {},
   "outputs": [
    {
     "output_type": "execute_result",
     "data": {
      "text/plain": [
       "0    10\n",
       "1    20\n",
       "2    30\n",
       "3    40\n",
       "dtype: int64"
      ]
     },
     "metadata": {},
     "execution_count": 14
    }
   ],
   "source": [
    "sr2 = pd.Series(t)\n",
    "sr2"
   ]
  },
  {
   "cell_type": "code",
   "execution_count": 17,
   "metadata": {},
   "outputs": [
    {
     "output_type": "execute_result",
     "data": {
      "text/plain": [
       "aa    10\n",
       "bb    20\n",
       "cc    30\n",
       "dtype: object"
      ]
     },
     "metadata": {},
     "execution_count": 17
    }
   ],
   "source": [
    "# 딕셔너리 키는 인덱스\n",
    "sr3 = pd.Series(d, dtype=np.str)\n",
    "sr3"
   ]
  }
 ]
}