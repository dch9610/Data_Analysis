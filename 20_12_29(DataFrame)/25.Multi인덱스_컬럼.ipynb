{
 "metadata": {
  "language_info": {
   "codemirror_mode": {
    "name": "ipython",
    "version": 3
   },
   "file_extension": ".py",
   "mimetype": "text/x-python",
   "name": "python",
   "nbconvert_exporter": "python",
   "pygments_lexer": "ipython3",
   "version": "3.8.5-final"
  },
  "orig_nbformat": 2,
  "kernelspec": {
   "name": "python3",
   "display_name": "Python 3",
   "language": "python"
  }
 },
 "nbformat": 4,
 "nbformat_minor": 2,
 "cells": [
  {
   "cell_type": "code",
   "execution_count": 6,
   "metadata": {},
   "outputs": [],
   "source": [
    "import pandas as pd\n",
    "import numpy as np\n",
    "import matplotlib.pyplot as plt\n",
    "import matplotlib\n",
    "from datetime import datetime \n",
    "from pandas_datareader import data\n",
    "\n",
    "matplotlib.rcParams['font.family']='Malgun Gothic'\n",
    "matplotlib.rcParams['axes.unicode_minus'] = False"
   ]
  },
  {
   "cell_type": "code",
   "execution_count": 7,
   "metadata": {},
   "outputs": [
    {
     "output_type": "execute_result",
     "data": {
      "text/plain": [
       "array([3, 5, 5, 6])"
      ]
     },
     "metadata": {},
     "execution_count": 7
    }
   ],
   "source": [
    "data = np.random.randint(1,10, size=4)\n",
    "data"
   ]
  },
  {
   "cell_type": "code",
   "execution_count": 8,
   "metadata": {},
   "outputs": [
    {
     "output_type": "execute_result",
     "data": {
      "text/plain": [
       "array([[ 60,  30,  41,  39,  97,  76],\n",
       "       [ 84,  78,  51,  52,  31, 100],\n",
       "       [ 83,  97,  99,  58,  40,  69],\n",
       "       [ 45,  61,  61,  43,  36,  64]])"
      ]
     },
     "metadata": {},
     "execution_count": 8
    }
   ],
   "source": [
    "data = np.random.randint(30,101, size=(4,6) )\n",
    "data"
   ]
  },
  {
   "cell_type": "code",
   "execution_count": 10,
   "metadata": {},
   "outputs": [
    {
     "output_type": "execute_result",
     "data": {
      "text/plain": [
       "    0   1   2   3   4    5\n",
       "0  60  30  41  39  97   76\n",
       "1  84  78  51  52  31  100\n",
       "2  83  97  99  58  40   69\n",
       "3  45  61  61  43  36   64"
      ],
      "text/html": "<div>\n<style scoped>\n    .dataframe tbody tr th:only-of-type {\n        vertical-align: middle;\n    }\n\n    .dataframe tbody tr th {\n        vertical-align: top;\n    }\n\n    .dataframe thead th {\n        text-align: right;\n    }\n</style>\n<table border=\"1\" class=\"dataframe\">\n  <thead>\n    <tr style=\"text-align: right;\">\n      <th></th>\n      <th>0</th>\n      <th>1</th>\n      <th>2</th>\n      <th>3</th>\n      <th>4</th>\n      <th>5</th>\n    </tr>\n  </thead>\n  <tbody>\n    <tr>\n      <th>0</th>\n      <td>60</td>\n      <td>30</td>\n      <td>41</td>\n      <td>39</td>\n      <td>97</td>\n      <td>76</td>\n    </tr>\n    <tr>\n      <th>1</th>\n      <td>84</td>\n      <td>78</td>\n      <td>51</td>\n      <td>52</td>\n      <td>31</td>\n      <td>100</td>\n    </tr>\n    <tr>\n      <th>2</th>\n      <td>83</td>\n      <td>97</td>\n      <td>99</td>\n      <td>58</td>\n      <td>40</td>\n      <td>69</td>\n    </tr>\n    <tr>\n      <th>3</th>\n      <td>45</td>\n      <td>61</td>\n      <td>61</td>\n      <td>43</td>\n      <td>36</td>\n      <td>64</td>\n    </tr>\n  </tbody>\n</table>\n</div>"
     },
     "metadata": {},
     "execution_count": 10
    }
   ],
   "source": [
    "df = pd.DataFrame( data )\n",
    "df"
   ]
  },
  {
   "cell_type": "code",
   "execution_count": 11,
   "metadata": {},
   "outputs": [
    {
     "output_type": "execute_result",
     "data": {
      "text/plain": [
       "    0   1   2   3   4    5    년도   반\n",
       "0  60  30  41  39  97   76  2018  1반\n",
       "1  84  78  51  52  31  100  2018  2반\n",
       "2  83  97  99  58  40   69  2019  1반\n",
       "3  45  61  61  43  36   64  2019  2반"
      ],
      "text/html": "<div>\n<style scoped>\n    .dataframe tbody tr th:only-of-type {\n        vertical-align: middle;\n    }\n\n    .dataframe tbody tr th {\n        vertical-align: top;\n    }\n\n    .dataframe thead th {\n        text-align: right;\n    }\n</style>\n<table border=\"1\" class=\"dataframe\">\n  <thead>\n    <tr style=\"text-align: right;\">\n      <th></th>\n      <th>0</th>\n      <th>1</th>\n      <th>2</th>\n      <th>3</th>\n      <th>4</th>\n      <th>5</th>\n      <th>년도</th>\n      <th>반</th>\n    </tr>\n  </thead>\n  <tbody>\n    <tr>\n      <th>0</th>\n      <td>60</td>\n      <td>30</td>\n      <td>41</td>\n      <td>39</td>\n      <td>97</td>\n      <td>76</td>\n      <td>2018</td>\n      <td>1반</td>\n    </tr>\n    <tr>\n      <th>1</th>\n      <td>84</td>\n      <td>78</td>\n      <td>51</td>\n      <td>52</td>\n      <td>31</td>\n      <td>100</td>\n      <td>2018</td>\n      <td>2반</td>\n    </tr>\n    <tr>\n      <th>2</th>\n      <td>83</td>\n      <td>97</td>\n      <td>99</td>\n      <td>58</td>\n      <td>40</td>\n      <td>69</td>\n      <td>2019</td>\n      <td>1반</td>\n    </tr>\n    <tr>\n      <th>3</th>\n      <td>45</td>\n      <td>61</td>\n      <td>61</td>\n      <td>43</td>\n      <td>36</td>\n      <td>64</td>\n      <td>2019</td>\n      <td>2반</td>\n    </tr>\n  </tbody>\n</table>\n</div>"
     },
     "metadata": {},
     "execution_count": 11
    }
   ],
   "source": [
    "df['년도'] = [2018,2018,2019,2019]\n",
    "df['반'] = ['1반','2반','1반','2반']\n",
    "df"
   ]
  },
  {
   "cell_type": "code",
   "execution_count": 12,
   "metadata": {},
   "outputs": [
    {
     "output_type": "execute_result",
     "data": {
      "text/plain": [
       "          0   1   2   3   4    5\n",
       "년도   반                          \n",
       "2018 1반  60  30  41  39  97   76\n",
       "     2반  84  78  51  52  31  100\n",
       "2019 1반  83  97  99  58  40   69\n",
       "     2반  45  61  61  43  36   64"
      ],
      "text/html": "<div>\n<style scoped>\n    .dataframe tbody tr th:only-of-type {\n        vertical-align: middle;\n    }\n\n    .dataframe tbody tr th {\n        vertical-align: top;\n    }\n\n    .dataframe thead th {\n        text-align: right;\n    }\n</style>\n<table border=\"1\" class=\"dataframe\">\n  <thead>\n    <tr style=\"text-align: right;\">\n      <th></th>\n      <th></th>\n      <th>0</th>\n      <th>1</th>\n      <th>2</th>\n      <th>3</th>\n      <th>4</th>\n      <th>5</th>\n    </tr>\n    <tr>\n      <th>년도</th>\n      <th>반</th>\n      <th></th>\n      <th></th>\n      <th></th>\n      <th></th>\n      <th></th>\n      <th></th>\n    </tr>\n  </thead>\n  <tbody>\n    <tr>\n      <th rowspan=\"2\" valign=\"top\">2018</th>\n      <th>1반</th>\n      <td>60</td>\n      <td>30</td>\n      <td>41</td>\n      <td>39</td>\n      <td>97</td>\n      <td>76</td>\n    </tr>\n    <tr>\n      <th>2반</th>\n      <td>84</td>\n      <td>78</td>\n      <td>51</td>\n      <td>52</td>\n      <td>31</td>\n      <td>100</td>\n    </tr>\n    <tr>\n      <th rowspan=\"2\" valign=\"top\">2019</th>\n      <th>1반</th>\n      <td>83</td>\n      <td>97</td>\n      <td>99</td>\n      <td>58</td>\n      <td>40</td>\n      <td>69</td>\n    </tr>\n    <tr>\n      <th>2반</th>\n      <td>45</td>\n      <td>61</td>\n      <td>61</td>\n      <td>43</td>\n      <td>36</td>\n      <td>64</td>\n    </tr>\n  </tbody>\n</table>\n</div>"
     },
     "metadata": {},
     "execution_count": 12
    }
   ],
   "source": [
    "# 멀티 인덱스 설정\n",
    "df.set_index(['년도','반'])"
   ]
  },
  {
   "cell_type": "code",
   "execution_count": 16,
   "metadata": {},
   "outputs": [
    {
     "output_type": "execute_result",
     "data": {
      "text/plain": [
       "          0   1   2   3   4    5    년도   반\n",
       "년도   반                                    \n",
       "2018 1반  60  30  41  39  97   76  2018  1반\n",
       "     2반  84  78  51  52  31  100  2018  2반\n",
       "2019 1반  83  97  99  58  40   69  2019  1반\n",
       "     2반  45  61  61  43  36   64  2019  2반"
      ],
      "text/html": "<div>\n<style scoped>\n    .dataframe tbody tr th:only-of-type {\n        vertical-align: middle;\n    }\n\n    .dataframe tbody tr th {\n        vertical-align: top;\n    }\n\n    .dataframe thead th {\n        text-align: right;\n    }\n</style>\n<table border=\"1\" class=\"dataframe\">\n  <thead>\n    <tr style=\"text-align: right;\">\n      <th></th>\n      <th></th>\n      <th>0</th>\n      <th>1</th>\n      <th>2</th>\n      <th>3</th>\n      <th>4</th>\n      <th>5</th>\n      <th>년도</th>\n      <th>반</th>\n    </tr>\n    <tr>\n      <th>년도</th>\n      <th>반</th>\n      <th></th>\n      <th></th>\n      <th></th>\n      <th></th>\n      <th></th>\n      <th></th>\n      <th></th>\n      <th></th>\n    </tr>\n  </thead>\n  <tbody>\n    <tr>\n      <th rowspan=\"2\" valign=\"top\">2018</th>\n      <th>1반</th>\n      <td>60</td>\n      <td>30</td>\n      <td>41</td>\n      <td>39</td>\n      <td>97</td>\n      <td>76</td>\n      <td>2018</td>\n      <td>1반</td>\n    </tr>\n    <tr>\n      <th>2반</th>\n      <td>84</td>\n      <td>78</td>\n      <td>51</td>\n      <td>52</td>\n      <td>31</td>\n      <td>100</td>\n      <td>2018</td>\n      <td>2반</td>\n    </tr>\n    <tr>\n      <th rowspan=\"2\" valign=\"top\">2019</th>\n      <th>1반</th>\n      <td>83</td>\n      <td>97</td>\n      <td>99</td>\n      <td>58</td>\n      <td>40</td>\n      <td>69</td>\n      <td>2019</td>\n      <td>1반</td>\n    </tr>\n    <tr>\n      <th>2반</th>\n      <td>45</td>\n      <td>61</td>\n      <td>61</td>\n      <td>43</td>\n      <td>36</td>\n      <td>64</td>\n      <td>2019</td>\n      <td>2반</td>\n    </tr>\n  </tbody>\n</table>\n</div>"
     },
     "metadata": {},
     "execution_count": 16
    }
   ],
   "source": [
    "df.index = pd.MultiIndex.from_product([[2018,2019],['1반','2반']], \n",
    "                    names=['년도','반'])\n",
    "df"
   ]
  },
  {
   "cell_type": "code",
   "execution_count": 18,
   "metadata": {},
   "outputs": [
    {
     "output_type": "execute_result",
     "data": {
      "text/plain": [
       "Int64Index([2018, 2019], dtype='int64', name='년도')"
      ]
     },
     "metadata": {},
     "execution_count": 18
    }
   ],
   "source": [
    "df.index.levels[0]"
   ]
  },
  {
   "cell_type": "code",
   "execution_count": 21,
   "metadata": {},
   "outputs": [
    {
     "output_type": "execute_result",
     "data": {
      "text/plain": [
       "Index(['1반', '2반'], dtype='object', name='반')"
      ]
     },
     "metadata": {},
     "execution_count": 21
    }
   ],
   "source": [
    "df.index.levels[1]"
   ]
  },
  {
   "cell_type": "code",
   "execution_count": 24,
   "metadata": {},
   "outputs": [
    {
     "output_type": "execute_result",
     "data": {
      "text/plain": [
       "Int64Index([2018, 2018, 2019, 2019], dtype='int64', name='년도')"
      ]
     },
     "metadata": {},
     "execution_count": 24
    }
   ],
   "source": [
    "# 멀티인덱스 값 가져오기\n",
    "df.index.get_level_values(0)"
   ]
  },
  {
   "cell_type": "code",
   "execution_count": 26,
   "metadata": {},
   "outputs": [],
   "source": [
    "df.drop(columns=['년도','반'], inplace=True)"
   ]
  },
  {
   "cell_type": "code",
   "execution_count": 28,
   "metadata": {},
   "outputs": [
    {
     "output_type": "execute_result",
     "data": {
      "text/plain": [
       "     년도   반   0   1   2   3   4    5\n",
       "0  2018  1반  60  30  41  39  97   76\n",
       "1  2018  2반  84  78  51  52  31  100\n",
       "2  2019  1반  83  97  99  58  40   69\n",
       "3  2019  2반  45  61  61  43  36   64"
      ],
      "text/html": "<div>\n<style scoped>\n    .dataframe tbody tr th:only-of-type {\n        vertical-align: middle;\n    }\n\n    .dataframe tbody tr th {\n        vertical-align: top;\n    }\n\n    .dataframe thead th {\n        text-align: right;\n    }\n</style>\n<table border=\"1\" class=\"dataframe\">\n  <thead>\n    <tr style=\"text-align: right;\">\n      <th></th>\n      <th>년도</th>\n      <th>반</th>\n      <th>0</th>\n      <th>1</th>\n      <th>2</th>\n      <th>3</th>\n      <th>4</th>\n      <th>5</th>\n    </tr>\n  </thead>\n  <tbody>\n    <tr>\n      <th>0</th>\n      <td>2018</td>\n      <td>1반</td>\n      <td>60</td>\n      <td>30</td>\n      <td>41</td>\n      <td>39</td>\n      <td>97</td>\n      <td>76</td>\n    </tr>\n    <tr>\n      <th>1</th>\n      <td>2018</td>\n      <td>2반</td>\n      <td>84</td>\n      <td>78</td>\n      <td>51</td>\n      <td>52</td>\n      <td>31</td>\n      <td>100</td>\n    </tr>\n    <tr>\n      <th>2</th>\n      <td>2019</td>\n      <td>1반</td>\n      <td>83</td>\n      <td>97</td>\n      <td>99</td>\n      <td>58</td>\n      <td>40</td>\n      <td>69</td>\n    </tr>\n    <tr>\n      <th>3</th>\n      <td>2019</td>\n      <td>2반</td>\n      <td>45</td>\n      <td>61</td>\n      <td>61</td>\n      <td>43</td>\n      <td>36</td>\n      <td>64</td>\n    </tr>\n  </tbody>\n</table>\n</div>"
     },
     "metadata": {},
     "execution_count": 28
    }
   ],
   "source": [
    "# 인덱스를 컬럼으로 만들어준다.\n",
    "df.reset_index()"
   ]
  },
  {
   "cell_type": "code",
   "execution_count": 30,
   "metadata": {},
   "outputs": [
    {
     "output_type": "execute_result",
     "data": {
      "text/plain": [
       "     0   1   2   3   4    5\n",
       "반                          \n",
       "1반  60  30  41  39  97   76\n",
       "2반  84  78  51  52  31  100"
      ],
      "text/html": "<div>\n<style scoped>\n    .dataframe tbody tr th:only-of-type {\n        vertical-align: middle;\n    }\n\n    .dataframe tbody tr th {\n        vertical-align: top;\n    }\n\n    .dataframe thead th {\n        text-align: right;\n    }\n</style>\n<table border=\"1\" class=\"dataframe\">\n  <thead>\n    <tr style=\"text-align: right;\">\n      <th></th>\n      <th>0</th>\n      <th>1</th>\n      <th>2</th>\n      <th>3</th>\n      <th>4</th>\n      <th>5</th>\n    </tr>\n    <tr>\n      <th>반</th>\n      <th></th>\n      <th></th>\n      <th></th>\n      <th></th>\n      <th></th>\n      <th></th>\n    </tr>\n  </thead>\n  <tbody>\n    <tr>\n      <th>1반</th>\n      <td>60</td>\n      <td>30</td>\n      <td>41</td>\n      <td>39</td>\n      <td>97</td>\n      <td>76</td>\n    </tr>\n    <tr>\n      <th>2반</th>\n      <td>84</td>\n      <td>78</td>\n      <td>51</td>\n      <td>52</td>\n      <td>31</td>\n      <td>100</td>\n    </tr>\n  </tbody>\n</table>\n</div>"
     },
     "metadata": {},
     "execution_count": 30
    }
   ],
   "source": [
    "df.loc[2018]"
   ]
  },
  {
   "cell_type": "code",
   "execution_count": 32,
   "metadata": {},
   "outputs": [
    {
     "output_type": "execute_result",
     "data": {
      "text/plain": [
       "년도      홍길동     이순신     임꺽정     \n",
       "반        영어  국어  영어  국어  영어   국어\n",
       "년도   반                          \n",
       "2018 1반  60  30  41  39  97   76\n",
       "     2반  84  78  51  52  31  100\n",
       "2019 1반  83  97  99  58  40   69\n",
       "     2반  45  61  61  43  36   64"
      ],
      "text/html": "<div>\n<style scoped>\n    .dataframe tbody tr th:only-of-type {\n        vertical-align: middle;\n    }\n\n    .dataframe tbody tr th {\n        vertical-align: top;\n    }\n\n    .dataframe thead tr th {\n        text-align: left;\n    }\n\n    .dataframe thead tr:last-of-type th {\n        text-align: right;\n    }\n</style>\n<table border=\"1\" class=\"dataframe\">\n  <thead>\n    <tr>\n      <th></th>\n      <th>년도</th>\n      <th colspan=\"2\" halign=\"left\">홍길동</th>\n      <th colspan=\"2\" halign=\"left\">이순신</th>\n      <th colspan=\"2\" halign=\"left\">임꺽정</th>\n    </tr>\n    <tr>\n      <th></th>\n      <th>반</th>\n      <th>영어</th>\n      <th>국어</th>\n      <th>영어</th>\n      <th>국어</th>\n      <th>영어</th>\n      <th>국어</th>\n    </tr>\n    <tr>\n      <th>년도</th>\n      <th>반</th>\n      <th></th>\n      <th></th>\n      <th></th>\n      <th></th>\n      <th></th>\n      <th></th>\n    </tr>\n  </thead>\n  <tbody>\n    <tr>\n      <th rowspan=\"2\" valign=\"top\">2018</th>\n      <th>1반</th>\n      <td>60</td>\n      <td>30</td>\n      <td>41</td>\n      <td>39</td>\n      <td>97</td>\n      <td>76</td>\n    </tr>\n    <tr>\n      <th>2반</th>\n      <td>84</td>\n      <td>78</td>\n      <td>51</td>\n      <td>52</td>\n      <td>31</td>\n      <td>100</td>\n    </tr>\n    <tr>\n      <th rowspan=\"2\" valign=\"top\">2019</th>\n      <th>1반</th>\n      <td>83</td>\n      <td>97</td>\n      <td>99</td>\n      <td>58</td>\n      <td>40</td>\n      <td>69</td>\n    </tr>\n    <tr>\n      <th>2반</th>\n      <td>45</td>\n      <td>61</td>\n      <td>61</td>\n      <td>43</td>\n      <td>36</td>\n      <td>64</td>\n    </tr>\n  </tbody>\n</table>\n</div>"
     },
     "metadata": {},
     "execution_count": 32
    }
   ],
   "source": [
    "df.columns = pd.MultiIndex.from_product([['홍길동','이순신','임꺽정'],['영어','국어']], \n",
    "                    names=['년도','반'])\n",
    "df"
   ]
  },
  {
   "cell_type": "code",
   "execution_count": 33,
   "metadata": {},
   "outputs": [
    {
     "output_type": "execute_result",
     "data": {
      "text/plain": [
       "Index(['이순신', '임꺽정', '홍길동'], dtype='object', name='년도')"
      ]
     },
     "metadata": {},
     "execution_count": 33
    }
   ],
   "source": [
    "df.columns.levels[0]"
   ]
  },
  {
   "cell_type": "code",
   "execution_count": 34,
   "metadata": {},
   "outputs": [
    {
     "output_type": "execute_result",
     "data": {
      "text/plain": [
       "Index(['국어', '영어'], dtype='object', name='반')"
      ]
     },
     "metadata": {},
     "execution_count": 34
    }
   ],
   "source": [
    "df.columns.levels[1]"
   ]
  },
  {
   "cell_type": "code",
   "execution_count": 35,
   "metadata": {},
   "outputs": [
    {
     "output_type": "execute_result",
     "data": {
      "text/plain": [
       "반        영어  국어\n",
       "년도   반         \n",
       "2018 1반  41  39\n",
       "     2반  51  52\n",
       "2019 1반  99  58\n",
       "     2반  61  43"
      ],
      "text/html": "<div>\n<style scoped>\n    .dataframe tbody tr th:only-of-type {\n        vertical-align: middle;\n    }\n\n    .dataframe tbody tr th {\n        vertical-align: top;\n    }\n\n    .dataframe thead th {\n        text-align: right;\n    }\n</style>\n<table border=\"1\" class=\"dataframe\">\n  <thead>\n    <tr style=\"text-align: right;\">\n      <th></th>\n      <th>반</th>\n      <th>영어</th>\n      <th>국어</th>\n    </tr>\n    <tr>\n      <th>년도</th>\n      <th>반</th>\n      <th></th>\n      <th></th>\n    </tr>\n  </thead>\n  <tbody>\n    <tr>\n      <th rowspan=\"2\" valign=\"top\">2018</th>\n      <th>1반</th>\n      <td>41</td>\n      <td>39</td>\n    </tr>\n    <tr>\n      <th>2반</th>\n      <td>51</td>\n      <td>52</td>\n    </tr>\n    <tr>\n      <th rowspan=\"2\" valign=\"top\">2019</th>\n      <th>1반</th>\n      <td>99</td>\n      <td>58</td>\n    </tr>\n    <tr>\n      <th>2반</th>\n      <td>61</td>\n      <td>43</td>\n    </tr>\n  </tbody>\n</table>\n</div>"
     },
     "metadata": {},
     "execution_count": 35
    }
   ],
   "source": [
    "df['이순신']"
   ]
  }
 ]
}