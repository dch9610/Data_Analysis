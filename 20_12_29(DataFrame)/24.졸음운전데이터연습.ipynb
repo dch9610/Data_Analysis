{
 "metadata": {
  "language_info": {
   "codemirror_mode": {
    "name": "ipython",
    "version": 3
   },
   "file_extension": ".py",
   "mimetype": "text/x-python",
   "name": "python",
   "nbconvert_exporter": "python",
   "pygments_lexer": "ipython3",
   "version": "3.8.5-final"
  },
  "orig_nbformat": 2,
  "kernelspec": {
   "name": "python3",
   "display_name": "Python 3",
   "language": "python"
  }
 },
 "nbformat": 4,
 "nbformat_minor": 2,
 "cells": [
  {
   "cell_type": "code",
   "execution_count": 2,
   "metadata": {},
   "outputs": [],
   "source": [
    "import pandas as pd\n",
    "import numpy as np\n",
    "import matplotlib.pyplot as plt\n",
    "import matplotlib\n",
    "from datetime import datetime \n",
    "\n",
    "matplotlib.rcParams['font.family']='Malgun Gothic'\n",
    "matplotlib.rcParams['axes.unicode_minus'] = False"
   ]
  },
  {
   "source": [
    "### 데이터 불러오기"
   ],
   "cell_type": "markdown",
   "metadata": {}
  },
  {
   "cell_type": "code",
   "execution_count": 3,
   "metadata": {},
   "outputs": [],
   "source": [
    "df = pd.read_csv('../data/2014년 졸음운전 교통사고.csv',encoding='euc-kr')\n",
    "df1 = pd.read_csv('../data/2015년 졸음운전 교통사고.csv',encoding='euc-kr')\n",
    "df2 = pd.read_csv('../data/2016년 졸음운전 교통사고.csv',encoding='euc-kr')"
   ]
  },
  {
   "source": [
    "### 1. 3개의 데이터를 병합하시요.\n"
   ],
   "cell_type": "markdown",
   "metadata": {}
  },
  {
   "cell_type": "code",
   "execution_count": 31,
   "metadata": {},
   "outputs": [
    {
     "output_type": "execute_result",
     "data": {
      "text/plain": [
       "          사고(건)  사망(명)  부상(명)\n",
       "구분                           \n",
       "2014년1월     169      7    347\n",
       "2014년2월     145      3    268\n",
       "2014년3월     206     12    358\n",
       "2014년4월     182      4    360\n",
       "2014년5월     218     17    474\n",
       "2014년6월     233     13    457\n",
       "2014년7월     229     14    431\n",
       "2014년8월     222      9    447\n",
       "2014년9월     225     15    430\n",
       "2014년10월    210     14    392\n",
       "2014년11월    209     10    386\n",
       "2014년12월    178     12    329\n",
       "2015년1월     205      8    375\n",
       "2015년2월     175      8    375\n",
       "2015년3월     237      4    492\n",
       "2015년4월     227     10    486\n",
       "2015년5월     231      9    504\n",
       "2015년6월     207      8    401\n",
       "2015년7월     273      7    556\n",
       "2015년8월     268     19    534\n",
       "2015년9월     252     10    501\n",
       "2015년10월    214     14    475\n",
       "2015년11월    199      3    398\n",
       "2015년12월    213      8    428\n",
       "2016년1월     192      5    387\n",
       "2016년2월     174      6    328\n",
       "2016년3월     217      7    435\n",
       "2016년4월     216      7    419\n",
       "2016년5월     239     13    522\n",
       "2016년6월     200     12    362\n",
       "2016년7월     227      9    460\n",
       "2016년8월     230      7    490\n",
       "2016년9월     187     13    347\n",
       "2016년10월    183     10    367\n",
       "2016년11월    200      5    418\n",
       "2016년12월    168      4    364"
      ],
      "text/html": "<div>\n<style scoped>\n    .dataframe tbody tr th:only-of-type {\n        vertical-align: middle;\n    }\n\n    .dataframe tbody tr th {\n        vertical-align: top;\n    }\n\n    .dataframe thead th {\n        text-align: right;\n    }\n</style>\n<table border=\"1\" class=\"dataframe\">\n  <thead>\n    <tr style=\"text-align: right;\">\n      <th></th>\n      <th>사고(건)</th>\n      <th>사망(명)</th>\n      <th>부상(명)</th>\n    </tr>\n    <tr>\n      <th>구분</th>\n      <th></th>\n      <th></th>\n      <th></th>\n    </tr>\n  </thead>\n  <tbody>\n    <tr>\n      <th>2014년1월</th>\n      <td>169</td>\n      <td>7</td>\n      <td>347</td>\n    </tr>\n    <tr>\n      <th>2014년2월</th>\n      <td>145</td>\n      <td>3</td>\n      <td>268</td>\n    </tr>\n    <tr>\n      <th>2014년3월</th>\n      <td>206</td>\n      <td>12</td>\n      <td>358</td>\n    </tr>\n    <tr>\n      <th>2014년4월</th>\n      <td>182</td>\n      <td>4</td>\n      <td>360</td>\n    </tr>\n    <tr>\n      <th>2014년5월</th>\n      <td>218</td>\n      <td>17</td>\n      <td>474</td>\n    </tr>\n    <tr>\n      <th>2014년6월</th>\n      <td>233</td>\n      <td>13</td>\n      <td>457</td>\n    </tr>\n    <tr>\n      <th>2014년7월</th>\n      <td>229</td>\n      <td>14</td>\n      <td>431</td>\n    </tr>\n    <tr>\n      <th>2014년8월</th>\n      <td>222</td>\n      <td>9</td>\n      <td>447</td>\n    </tr>\n    <tr>\n      <th>2014년9월</th>\n      <td>225</td>\n      <td>15</td>\n      <td>430</td>\n    </tr>\n    <tr>\n      <th>2014년10월</th>\n      <td>210</td>\n      <td>14</td>\n      <td>392</td>\n    </tr>\n    <tr>\n      <th>2014년11월</th>\n      <td>209</td>\n      <td>10</td>\n      <td>386</td>\n    </tr>\n    <tr>\n      <th>2014년12월</th>\n      <td>178</td>\n      <td>12</td>\n      <td>329</td>\n    </tr>\n    <tr>\n      <th>2015년1월</th>\n      <td>205</td>\n      <td>8</td>\n      <td>375</td>\n    </tr>\n    <tr>\n      <th>2015년2월</th>\n      <td>175</td>\n      <td>8</td>\n      <td>375</td>\n    </tr>\n    <tr>\n      <th>2015년3월</th>\n      <td>237</td>\n      <td>4</td>\n      <td>492</td>\n    </tr>\n    <tr>\n      <th>2015년4월</th>\n      <td>227</td>\n      <td>10</td>\n      <td>486</td>\n    </tr>\n    <tr>\n      <th>2015년5월</th>\n      <td>231</td>\n      <td>9</td>\n      <td>504</td>\n    </tr>\n    <tr>\n      <th>2015년6월</th>\n      <td>207</td>\n      <td>8</td>\n      <td>401</td>\n    </tr>\n    <tr>\n      <th>2015년7월</th>\n      <td>273</td>\n      <td>7</td>\n      <td>556</td>\n    </tr>\n    <tr>\n      <th>2015년8월</th>\n      <td>268</td>\n      <td>19</td>\n      <td>534</td>\n    </tr>\n    <tr>\n      <th>2015년9월</th>\n      <td>252</td>\n      <td>10</td>\n      <td>501</td>\n    </tr>\n    <tr>\n      <th>2015년10월</th>\n      <td>214</td>\n      <td>14</td>\n      <td>475</td>\n    </tr>\n    <tr>\n      <th>2015년11월</th>\n      <td>199</td>\n      <td>3</td>\n      <td>398</td>\n    </tr>\n    <tr>\n      <th>2015년12월</th>\n      <td>213</td>\n      <td>8</td>\n      <td>428</td>\n    </tr>\n    <tr>\n      <th>2016년1월</th>\n      <td>192</td>\n      <td>5</td>\n      <td>387</td>\n    </tr>\n    <tr>\n      <th>2016년2월</th>\n      <td>174</td>\n      <td>6</td>\n      <td>328</td>\n    </tr>\n    <tr>\n      <th>2016년3월</th>\n      <td>217</td>\n      <td>7</td>\n      <td>435</td>\n    </tr>\n    <tr>\n      <th>2016년4월</th>\n      <td>216</td>\n      <td>7</td>\n      <td>419</td>\n    </tr>\n    <tr>\n      <th>2016년5월</th>\n      <td>239</td>\n      <td>13</td>\n      <td>522</td>\n    </tr>\n    <tr>\n      <th>2016년6월</th>\n      <td>200</td>\n      <td>12</td>\n      <td>362</td>\n    </tr>\n    <tr>\n      <th>2016년7월</th>\n      <td>227</td>\n      <td>9</td>\n      <td>460</td>\n    </tr>\n    <tr>\n      <th>2016년8월</th>\n      <td>230</td>\n      <td>7</td>\n      <td>490</td>\n    </tr>\n    <tr>\n      <th>2016년9월</th>\n      <td>187</td>\n      <td>13</td>\n      <td>347</td>\n    </tr>\n    <tr>\n      <th>2016년10월</th>\n      <td>183</td>\n      <td>10</td>\n      <td>367</td>\n    </tr>\n    <tr>\n      <th>2016년11월</th>\n      <td>200</td>\n      <td>5</td>\n      <td>418</td>\n    </tr>\n    <tr>\n      <th>2016년12월</th>\n      <td>168</td>\n      <td>4</td>\n      <td>364</td>\n    </tr>\n  </tbody>\n</table>\n</div>"
     },
     "metadata": {},
     "execution_count": 31
    }
   ],
   "source": [
    "df4 = pd.concat( [df,df1,df2])\n",
    "df5 = df4.set_index('구분')\n",
    "df5"
   ]
  },
  {
   "cell_type": "code",
   "execution_count": 32,
   "metadata": {},
   "outputs": [
    {
     "output_type": "execute_result",
     "data": {
      "text/plain": [
       "            사고(건)  사망(명)  부상(명)\n",
       "구분                             \n",
       "2014-01-01    169      7    347\n",
       "2014-02-01    145      3    268\n",
       "2014-03-01    206     12    358\n",
       "2014-04-01    182      4    360\n",
       "2014-05-01    218     17    474\n",
       "2014-06-01    233     13    457\n",
       "2014-07-01    229     14    431\n",
       "2014-08-01    222      9    447\n",
       "2014-09-01    225     15    430\n",
       "2014-10-01    210     14    392\n",
       "2014-11-01    209     10    386\n",
       "2014-12-01    178     12    329\n",
       "2015-01-01    205      8    375\n",
       "2015-02-01    175      8    375\n",
       "2015-03-01    237      4    492\n",
       "2015-04-01    227     10    486\n",
       "2015-05-01    231      9    504\n",
       "2015-06-01    207      8    401\n",
       "2015-07-01    273      7    556\n",
       "2015-08-01    268     19    534\n",
       "2015-09-01    252     10    501\n",
       "2015-10-01    214     14    475\n",
       "2015-11-01    199      3    398\n",
       "2015-12-01    213      8    428\n",
       "2016-01-01    192      5    387\n",
       "2016-02-01    174      6    328\n",
       "2016-03-01    217      7    435\n",
       "2016-04-01    216      7    419\n",
       "2016-05-01    239     13    522\n",
       "2016-06-01    200     12    362\n",
       "2016-07-01    227      9    460\n",
       "2016-08-01    230      7    490\n",
       "2016-09-01    187     13    347\n",
       "2016-10-01    183     10    367\n",
       "2016-11-01    200      5    418\n",
       "2016-12-01    168      4    364"
      ],
      "text/html": "<div>\n<style scoped>\n    .dataframe tbody tr th:only-of-type {\n        vertical-align: middle;\n    }\n\n    .dataframe tbody tr th {\n        vertical-align: top;\n    }\n\n    .dataframe thead th {\n        text-align: right;\n    }\n</style>\n<table border=\"1\" class=\"dataframe\">\n  <thead>\n    <tr style=\"text-align: right;\">\n      <th></th>\n      <th>사고(건)</th>\n      <th>사망(명)</th>\n      <th>부상(명)</th>\n    </tr>\n    <tr>\n      <th>구분</th>\n      <th></th>\n      <th></th>\n      <th></th>\n    </tr>\n  </thead>\n  <tbody>\n    <tr>\n      <th>2014-01-01</th>\n      <td>169</td>\n      <td>7</td>\n      <td>347</td>\n    </tr>\n    <tr>\n      <th>2014-02-01</th>\n      <td>145</td>\n      <td>3</td>\n      <td>268</td>\n    </tr>\n    <tr>\n      <th>2014-03-01</th>\n      <td>206</td>\n      <td>12</td>\n      <td>358</td>\n    </tr>\n    <tr>\n      <th>2014-04-01</th>\n      <td>182</td>\n      <td>4</td>\n      <td>360</td>\n    </tr>\n    <tr>\n      <th>2014-05-01</th>\n      <td>218</td>\n      <td>17</td>\n      <td>474</td>\n    </tr>\n    <tr>\n      <th>2014-06-01</th>\n      <td>233</td>\n      <td>13</td>\n      <td>457</td>\n    </tr>\n    <tr>\n      <th>2014-07-01</th>\n      <td>229</td>\n      <td>14</td>\n      <td>431</td>\n    </tr>\n    <tr>\n      <th>2014-08-01</th>\n      <td>222</td>\n      <td>9</td>\n      <td>447</td>\n    </tr>\n    <tr>\n      <th>2014-09-01</th>\n      <td>225</td>\n      <td>15</td>\n      <td>430</td>\n    </tr>\n    <tr>\n      <th>2014-10-01</th>\n      <td>210</td>\n      <td>14</td>\n      <td>392</td>\n    </tr>\n    <tr>\n      <th>2014-11-01</th>\n      <td>209</td>\n      <td>10</td>\n      <td>386</td>\n    </tr>\n    <tr>\n      <th>2014-12-01</th>\n      <td>178</td>\n      <td>12</td>\n      <td>329</td>\n    </tr>\n    <tr>\n      <th>2015-01-01</th>\n      <td>205</td>\n      <td>8</td>\n      <td>375</td>\n    </tr>\n    <tr>\n      <th>2015-02-01</th>\n      <td>175</td>\n      <td>8</td>\n      <td>375</td>\n    </tr>\n    <tr>\n      <th>2015-03-01</th>\n      <td>237</td>\n      <td>4</td>\n      <td>492</td>\n    </tr>\n    <tr>\n      <th>2015-04-01</th>\n      <td>227</td>\n      <td>10</td>\n      <td>486</td>\n    </tr>\n    <tr>\n      <th>2015-05-01</th>\n      <td>231</td>\n      <td>9</td>\n      <td>504</td>\n    </tr>\n    <tr>\n      <th>2015-06-01</th>\n      <td>207</td>\n      <td>8</td>\n      <td>401</td>\n    </tr>\n    <tr>\n      <th>2015-07-01</th>\n      <td>273</td>\n      <td>7</td>\n      <td>556</td>\n    </tr>\n    <tr>\n      <th>2015-08-01</th>\n      <td>268</td>\n      <td>19</td>\n      <td>534</td>\n    </tr>\n    <tr>\n      <th>2015-09-01</th>\n      <td>252</td>\n      <td>10</td>\n      <td>501</td>\n    </tr>\n    <tr>\n      <th>2015-10-01</th>\n      <td>214</td>\n      <td>14</td>\n      <td>475</td>\n    </tr>\n    <tr>\n      <th>2015-11-01</th>\n      <td>199</td>\n      <td>3</td>\n      <td>398</td>\n    </tr>\n    <tr>\n      <th>2015-12-01</th>\n      <td>213</td>\n      <td>8</td>\n      <td>428</td>\n    </tr>\n    <tr>\n      <th>2016-01-01</th>\n      <td>192</td>\n      <td>5</td>\n      <td>387</td>\n    </tr>\n    <tr>\n      <th>2016-02-01</th>\n      <td>174</td>\n      <td>6</td>\n      <td>328</td>\n    </tr>\n    <tr>\n      <th>2016-03-01</th>\n      <td>217</td>\n      <td>7</td>\n      <td>435</td>\n    </tr>\n    <tr>\n      <th>2016-04-01</th>\n      <td>216</td>\n      <td>7</td>\n      <td>419</td>\n    </tr>\n    <tr>\n      <th>2016-05-01</th>\n      <td>239</td>\n      <td>13</td>\n      <td>522</td>\n    </tr>\n    <tr>\n      <th>2016-06-01</th>\n      <td>200</td>\n      <td>12</td>\n      <td>362</td>\n    </tr>\n    <tr>\n      <th>2016-07-01</th>\n      <td>227</td>\n      <td>9</td>\n      <td>460</td>\n    </tr>\n    <tr>\n      <th>2016-08-01</th>\n      <td>230</td>\n      <td>7</td>\n      <td>490</td>\n    </tr>\n    <tr>\n      <th>2016-09-01</th>\n      <td>187</td>\n      <td>13</td>\n      <td>347</td>\n    </tr>\n    <tr>\n      <th>2016-10-01</th>\n      <td>183</td>\n      <td>10</td>\n      <td>367</td>\n    </tr>\n    <tr>\n      <th>2016-11-01</th>\n      <td>200</td>\n      <td>5</td>\n      <td>418</td>\n    </tr>\n    <tr>\n      <th>2016-12-01</th>\n      <td>168</td>\n      <td>4</td>\n      <td>364</td>\n    </tr>\n  </tbody>\n</table>\n</div>"
     },
     "metadata": {},
     "execution_count": 32
    }
   ],
   "source": [
    "df5.index = pd.to_datetime(df5.index, format='%Y년%m월')\n",
    "df5"
   ]
  },
  {
   "source": [
    "### 2. 년도, 월별로 인덱스를 설정(멀티인덱스) 하고 데이터를 보여 주시요\n"
   ],
   "cell_type": "markdown",
   "metadata": {}
  },
  {
   "cell_type": "code",
   "execution_count": 68,
   "metadata": {},
   "outputs": [
    {
     "output_type": "execute_result",
     "data": {
      "text/plain": [
       "         사고(건)  사망(명)  부상(명)\n",
       "구분   구분                     \n",
       "2014 1     169      7    347\n",
       "     2     145      3    268\n",
       "     3     206     12    358\n",
       "     4     182      4    360\n",
       "     5     218     17    474\n",
       "     6     233     13    457\n",
       "     7     229     14    431\n",
       "     8     222      9    447\n",
       "     9     225     15    430\n",
       "     10    210     14    392\n",
       "     11    209     10    386\n",
       "     12    178     12    329\n",
       "2015 1     205      8    375\n",
       "     2     175      8    375\n",
       "     3     237      4    492\n",
       "     4     227     10    486\n",
       "     5     231      9    504\n",
       "     6     207      8    401\n",
       "     7     273      7    556\n",
       "     8     268     19    534\n",
       "     9     252     10    501\n",
       "     10    214     14    475\n",
       "     11    199      3    398\n",
       "     12    213      8    428\n",
       "2016 1     192      5    387\n",
       "     2     174      6    328\n",
       "     3     217      7    435\n",
       "     4     216      7    419\n",
       "     5     239     13    522\n",
       "     6     200     12    362\n",
       "     7     227      9    460\n",
       "     8     230      7    490\n",
       "     9     187     13    347\n",
       "     10    183     10    367\n",
       "     11    200      5    418\n",
       "     12    168      4    364"
      ],
      "text/html": "<div>\n<style scoped>\n    .dataframe tbody tr th:only-of-type {\n        vertical-align: middle;\n    }\n\n    .dataframe tbody tr th {\n        vertical-align: top;\n    }\n\n    .dataframe thead th {\n        text-align: right;\n    }\n</style>\n<table border=\"1\" class=\"dataframe\">\n  <thead>\n    <tr style=\"text-align: right;\">\n      <th></th>\n      <th></th>\n      <th>사고(건)</th>\n      <th>사망(명)</th>\n      <th>부상(명)</th>\n    </tr>\n    <tr>\n      <th>구분</th>\n      <th>구분</th>\n      <th></th>\n      <th></th>\n      <th></th>\n    </tr>\n  </thead>\n  <tbody>\n    <tr>\n      <th rowspan=\"12\" valign=\"top\">2014</th>\n      <th>1</th>\n      <td>169</td>\n      <td>7</td>\n      <td>347</td>\n    </tr>\n    <tr>\n      <th>2</th>\n      <td>145</td>\n      <td>3</td>\n      <td>268</td>\n    </tr>\n    <tr>\n      <th>3</th>\n      <td>206</td>\n      <td>12</td>\n      <td>358</td>\n    </tr>\n    <tr>\n      <th>4</th>\n      <td>182</td>\n      <td>4</td>\n      <td>360</td>\n    </tr>\n    <tr>\n      <th>5</th>\n      <td>218</td>\n      <td>17</td>\n      <td>474</td>\n    </tr>\n    <tr>\n      <th>6</th>\n      <td>233</td>\n      <td>13</td>\n      <td>457</td>\n    </tr>\n    <tr>\n      <th>7</th>\n      <td>229</td>\n      <td>14</td>\n      <td>431</td>\n    </tr>\n    <tr>\n      <th>8</th>\n      <td>222</td>\n      <td>9</td>\n      <td>447</td>\n    </tr>\n    <tr>\n      <th>9</th>\n      <td>225</td>\n      <td>15</td>\n      <td>430</td>\n    </tr>\n    <tr>\n      <th>10</th>\n      <td>210</td>\n      <td>14</td>\n      <td>392</td>\n    </tr>\n    <tr>\n      <th>11</th>\n      <td>209</td>\n      <td>10</td>\n      <td>386</td>\n    </tr>\n    <tr>\n      <th>12</th>\n      <td>178</td>\n      <td>12</td>\n      <td>329</td>\n    </tr>\n    <tr>\n      <th rowspan=\"12\" valign=\"top\">2015</th>\n      <th>1</th>\n      <td>205</td>\n      <td>8</td>\n      <td>375</td>\n    </tr>\n    <tr>\n      <th>2</th>\n      <td>175</td>\n      <td>8</td>\n      <td>375</td>\n    </tr>\n    <tr>\n      <th>3</th>\n      <td>237</td>\n      <td>4</td>\n      <td>492</td>\n    </tr>\n    <tr>\n      <th>4</th>\n      <td>227</td>\n      <td>10</td>\n      <td>486</td>\n    </tr>\n    <tr>\n      <th>5</th>\n      <td>231</td>\n      <td>9</td>\n      <td>504</td>\n    </tr>\n    <tr>\n      <th>6</th>\n      <td>207</td>\n      <td>8</td>\n      <td>401</td>\n    </tr>\n    <tr>\n      <th>7</th>\n      <td>273</td>\n      <td>7</td>\n      <td>556</td>\n    </tr>\n    <tr>\n      <th>8</th>\n      <td>268</td>\n      <td>19</td>\n      <td>534</td>\n    </tr>\n    <tr>\n      <th>9</th>\n      <td>252</td>\n      <td>10</td>\n      <td>501</td>\n    </tr>\n    <tr>\n      <th>10</th>\n      <td>214</td>\n      <td>14</td>\n      <td>475</td>\n    </tr>\n    <tr>\n      <th>11</th>\n      <td>199</td>\n      <td>3</td>\n      <td>398</td>\n    </tr>\n    <tr>\n      <th>12</th>\n      <td>213</td>\n      <td>8</td>\n      <td>428</td>\n    </tr>\n    <tr>\n      <th rowspan=\"12\" valign=\"top\">2016</th>\n      <th>1</th>\n      <td>192</td>\n      <td>5</td>\n      <td>387</td>\n    </tr>\n    <tr>\n      <th>2</th>\n      <td>174</td>\n      <td>6</td>\n      <td>328</td>\n    </tr>\n    <tr>\n      <th>3</th>\n      <td>217</td>\n      <td>7</td>\n      <td>435</td>\n    </tr>\n    <tr>\n      <th>4</th>\n      <td>216</td>\n      <td>7</td>\n      <td>419</td>\n    </tr>\n    <tr>\n      <th>5</th>\n      <td>239</td>\n      <td>13</td>\n      <td>522</td>\n    </tr>\n    <tr>\n      <th>6</th>\n      <td>200</td>\n      <td>12</td>\n      <td>362</td>\n    </tr>\n    <tr>\n      <th>7</th>\n      <td>227</td>\n      <td>9</td>\n      <td>460</td>\n    </tr>\n    <tr>\n      <th>8</th>\n      <td>230</td>\n      <td>7</td>\n      <td>490</td>\n    </tr>\n    <tr>\n      <th>9</th>\n      <td>187</td>\n      <td>13</td>\n      <td>347</td>\n    </tr>\n    <tr>\n      <th>10</th>\n      <td>183</td>\n      <td>10</td>\n      <td>367</td>\n    </tr>\n    <tr>\n      <th>11</th>\n      <td>200</td>\n      <td>5</td>\n      <td>418</td>\n    </tr>\n    <tr>\n      <th>12</th>\n      <td>168</td>\n      <td>4</td>\n      <td>364</td>\n    </tr>\n  </tbody>\n</table>\n</div>"
     },
     "metadata": {},
     "execution_count": 68
    }
   ],
   "source": [
    "df5.set_index([df5.index.year, df5.index.month])"
   ]
  },
  {
   "source": [
    "### 3. 년도 및 월별 평균 사망자를 보여주시요"
   ],
   "cell_type": "markdown",
   "metadata": {}
  },
  {
   "cell_type": "code",
   "execution_count": 33,
   "metadata": {},
   "outputs": [
    {
     "output_type": "execute_result",
     "data": {
      "text/plain": [
       "            사고(건)  사망(명)  부상(명)\n",
       "구분                             \n",
       "2014-01-01    169      7    347\n",
       "2014-02-01    145      3    268\n",
       "2014-03-01    206     12    358\n",
       "2014-04-01    182      4    360\n",
       "2014-05-01    218     17    474"
      ],
      "text/html": "<div>\n<style scoped>\n    .dataframe tbody tr th:only-of-type {\n        vertical-align: middle;\n    }\n\n    .dataframe tbody tr th {\n        vertical-align: top;\n    }\n\n    .dataframe thead th {\n        text-align: right;\n    }\n</style>\n<table border=\"1\" class=\"dataframe\">\n  <thead>\n    <tr style=\"text-align: right;\">\n      <th></th>\n      <th>사고(건)</th>\n      <th>사망(명)</th>\n      <th>부상(명)</th>\n    </tr>\n    <tr>\n      <th>구분</th>\n      <th></th>\n      <th></th>\n      <th></th>\n    </tr>\n  </thead>\n  <tbody>\n    <tr>\n      <th>2014-01-01</th>\n      <td>169</td>\n      <td>7</td>\n      <td>347</td>\n    </tr>\n    <tr>\n      <th>2014-02-01</th>\n      <td>145</td>\n      <td>3</td>\n      <td>268</td>\n    </tr>\n    <tr>\n      <th>2014-03-01</th>\n      <td>206</td>\n      <td>12</td>\n      <td>358</td>\n    </tr>\n    <tr>\n      <th>2014-04-01</th>\n      <td>182</td>\n      <td>4</td>\n      <td>360</td>\n    </tr>\n    <tr>\n      <th>2014-05-01</th>\n      <td>218</td>\n      <td>17</td>\n      <td>474</td>\n    </tr>\n  </tbody>\n</table>\n</div>"
     },
     "metadata": {},
     "execution_count": 33
    }
   ],
   "source": [
    "df5.head()"
   ]
  },
  {
   "cell_type": "code",
   "execution_count": 8,
   "metadata": {},
   "outputs": [
    {
     "output_type": "execute_result",
     "data": {
      "text/plain": [
       "         사망(명)\n",
       "구분   구분       \n",
       "2014 1       7\n",
       "     2       3\n",
       "     3      12\n",
       "     4       4\n",
       "     5      17\n",
       "     6      13\n",
       "     7      14\n",
       "     8       9\n",
       "     9      15\n",
       "     10     14\n",
       "     11     10\n",
       "     12     12\n",
       "2015 1       8\n",
       "     2       8\n",
       "     3       4\n",
       "     4      10\n",
       "     5       9\n",
       "     6       8\n",
       "     7       7\n",
       "     8      19\n",
       "     9      10\n",
       "     10     14\n",
       "     11      3\n",
       "     12      8\n",
       "2016 1       5\n",
       "     2       6\n",
       "     3       7\n",
       "     4       7\n",
       "     5      13\n",
       "     6      12\n",
       "     7       9\n",
       "     8       7\n",
       "     9      13\n",
       "     10     10\n",
       "     11      5\n",
       "     12      4"
      ],
      "text/html": "<div>\n<style scoped>\n    .dataframe tbody tr th:only-of-type {\n        vertical-align: middle;\n    }\n\n    .dataframe tbody tr th {\n        vertical-align: top;\n    }\n\n    .dataframe thead th {\n        text-align: right;\n    }\n</style>\n<table border=\"1\" class=\"dataframe\">\n  <thead>\n    <tr style=\"text-align: right;\">\n      <th></th>\n      <th></th>\n      <th>사망(명)</th>\n    </tr>\n    <tr>\n      <th>구분</th>\n      <th>구분</th>\n      <th></th>\n    </tr>\n  </thead>\n  <tbody>\n    <tr>\n      <th rowspan=\"12\" valign=\"top\">2014</th>\n      <th>1</th>\n      <td>7</td>\n    </tr>\n    <tr>\n      <th>2</th>\n      <td>3</td>\n    </tr>\n    <tr>\n      <th>3</th>\n      <td>12</td>\n    </tr>\n    <tr>\n      <th>4</th>\n      <td>4</td>\n    </tr>\n    <tr>\n      <th>5</th>\n      <td>17</td>\n    </tr>\n    <tr>\n      <th>6</th>\n      <td>13</td>\n    </tr>\n    <tr>\n      <th>7</th>\n      <td>14</td>\n    </tr>\n    <tr>\n      <th>8</th>\n      <td>9</td>\n    </tr>\n    <tr>\n      <th>9</th>\n      <td>15</td>\n    </tr>\n    <tr>\n      <th>10</th>\n      <td>14</td>\n    </tr>\n    <tr>\n      <th>11</th>\n      <td>10</td>\n    </tr>\n    <tr>\n      <th>12</th>\n      <td>12</td>\n    </tr>\n    <tr>\n      <th rowspan=\"12\" valign=\"top\">2015</th>\n      <th>1</th>\n      <td>8</td>\n    </tr>\n    <tr>\n      <th>2</th>\n      <td>8</td>\n    </tr>\n    <tr>\n      <th>3</th>\n      <td>4</td>\n    </tr>\n    <tr>\n      <th>4</th>\n      <td>10</td>\n    </tr>\n    <tr>\n      <th>5</th>\n      <td>9</td>\n    </tr>\n    <tr>\n      <th>6</th>\n      <td>8</td>\n    </tr>\n    <tr>\n      <th>7</th>\n      <td>7</td>\n    </tr>\n    <tr>\n      <th>8</th>\n      <td>19</td>\n    </tr>\n    <tr>\n      <th>9</th>\n      <td>10</td>\n    </tr>\n    <tr>\n      <th>10</th>\n      <td>14</td>\n    </tr>\n    <tr>\n      <th>11</th>\n      <td>3</td>\n    </tr>\n    <tr>\n      <th>12</th>\n      <td>8</td>\n    </tr>\n    <tr>\n      <th rowspan=\"12\" valign=\"top\">2016</th>\n      <th>1</th>\n      <td>5</td>\n    </tr>\n    <tr>\n      <th>2</th>\n      <td>6</td>\n    </tr>\n    <tr>\n      <th>3</th>\n      <td>7</td>\n    </tr>\n    <tr>\n      <th>4</th>\n      <td>7</td>\n    </tr>\n    <tr>\n      <th>5</th>\n      <td>13</td>\n    </tr>\n    <tr>\n      <th>6</th>\n      <td>12</td>\n    </tr>\n    <tr>\n      <th>7</th>\n      <td>9</td>\n    </tr>\n    <tr>\n      <th>8</th>\n      <td>7</td>\n    </tr>\n    <tr>\n      <th>9</th>\n      <td>13</td>\n    </tr>\n    <tr>\n      <th>10</th>\n      <td>10</td>\n    </tr>\n    <tr>\n      <th>11</th>\n      <td>5</td>\n    </tr>\n    <tr>\n      <th>12</th>\n      <td>4</td>\n    </tr>\n  </tbody>\n</table>\n</div>"
     },
     "metadata": {},
     "execution_count": 8
    }
   ],
   "source": [
    "df4.groupby([df4.index.year, df4.index.month]).mean()[['사망(명)']]"
   ]
  },
  {
   "source": [
    "### 4.  2016년 사고대비 사망율을 구하시요"
   ],
   "cell_type": "markdown",
   "metadata": {}
  },
  {
   "cell_type": "code",
   "execution_count": 57,
   "metadata": {},
   "outputs": [
    {
     "output_type": "execute_result",
     "data": {
      "text/plain": [
       "            사고(건)  사망(명)  부상(명)  사고대비 사망율\n",
       "구분                                       \n",
       "2016-01-01    192      5    387      2.60\n",
       "2016-02-01    174      6    328      3.45\n",
       "2016-03-01    217      7    435      3.23\n",
       "2016-04-01    216      7    419      3.24\n",
       "2016-05-01    239     13    522      5.44\n",
       "2016-06-01    200     12    362      6.00\n",
       "2016-07-01    227      9    460      3.96\n",
       "2016-08-01    230      7    490      3.04\n",
       "2016-09-01    187     13    347      6.95\n",
       "2016-10-01    183     10    367      5.46\n",
       "2016-11-01    200      5    418      2.50\n",
       "2016-12-01    168      4    364      2.38"
      ],
      "text/html": "<div>\n<style scoped>\n    .dataframe tbody tr th:only-of-type {\n        vertical-align: middle;\n    }\n\n    .dataframe tbody tr th {\n        vertical-align: top;\n    }\n\n    .dataframe thead th {\n        text-align: right;\n    }\n</style>\n<table border=\"1\" class=\"dataframe\">\n  <thead>\n    <tr style=\"text-align: right;\">\n      <th></th>\n      <th>사고(건)</th>\n      <th>사망(명)</th>\n      <th>부상(명)</th>\n      <th>사고대비 사망율</th>\n    </tr>\n    <tr>\n      <th>구분</th>\n      <th></th>\n      <th></th>\n      <th></th>\n      <th></th>\n    </tr>\n  </thead>\n  <tbody>\n    <tr>\n      <th>2016-01-01</th>\n      <td>192</td>\n      <td>5</td>\n      <td>387</td>\n      <td>2.60</td>\n    </tr>\n    <tr>\n      <th>2016-02-01</th>\n      <td>174</td>\n      <td>6</td>\n      <td>328</td>\n      <td>3.45</td>\n    </tr>\n    <tr>\n      <th>2016-03-01</th>\n      <td>217</td>\n      <td>7</td>\n      <td>435</td>\n      <td>3.23</td>\n    </tr>\n    <tr>\n      <th>2016-04-01</th>\n      <td>216</td>\n      <td>7</td>\n      <td>419</td>\n      <td>3.24</td>\n    </tr>\n    <tr>\n      <th>2016-05-01</th>\n      <td>239</td>\n      <td>13</td>\n      <td>522</td>\n      <td>5.44</td>\n    </tr>\n    <tr>\n      <th>2016-06-01</th>\n      <td>200</td>\n      <td>12</td>\n      <td>362</td>\n      <td>6.00</td>\n    </tr>\n    <tr>\n      <th>2016-07-01</th>\n      <td>227</td>\n      <td>9</td>\n      <td>460</td>\n      <td>3.96</td>\n    </tr>\n    <tr>\n      <th>2016-08-01</th>\n      <td>230</td>\n      <td>7</td>\n      <td>490</td>\n      <td>3.04</td>\n    </tr>\n    <tr>\n      <th>2016-09-01</th>\n      <td>187</td>\n      <td>13</td>\n      <td>347</td>\n      <td>6.95</td>\n    </tr>\n    <tr>\n      <th>2016-10-01</th>\n      <td>183</td>\n      <td>10</td>\n      <td>367</td>\n      <td>5.46</td>\n    </tr>\n    <tr>\n      <th>2016-11-01</th>\n      <td>200</td>\n      <td>5</td>\n      <td>418</td>\n      <td>2.50</td>\n    </tr>\n    <tr>\n      <th>2016-12-01</th>\n      <td>168</td>\n      <td>4</td>\n      <td>364</td>\n      <td>2.38</td>\n    </tr>\n  </tbody>\n</table>\n</div>"
     },
     "metadata": {},
     "execution_count": 57
    }
   ],
   "source": [
    "df5['사고대비 사망율'] = ((df5['2016']['사망(명)'] / df5['2016']['사고(건)'])*100).round(2)\n",
    "df5['2016']"
   ]
  },
  {
   "cell_type": "code",
   "execution_count": 65,
   "metadata": {},
   "outputs": [],
   "source": [
    "df5.drop(columns=['사고대비 사망율'], inplace=True)"
   ]
  },
  {
   "source": [
    "### 5. 2014년도 월별 사망, 부상 데이터를 바차트로 보여주시요\n"
   ],
   "cell_type": "markdown",
   "metadata": {}
  },
  {
   "cell_type": "code",
   "execution_count": 58,
   "metadata": {},
   "outputs": [
    {
     "output_type": "execute_result",
     "data": {
      "text/plain": [
       "            사망(명)  부상(명)\n",
       "구분                      \n",
       "2014-01-01      7    347\n",
       "2014-02-01      3    268\n",
       "2014-03-01     12    358\n",
       "2014-04-01      4    360\n",
       "2014-05-01     17    474"
      ],
      "text/html": "<div>\n<style scoped>\n    .dataframe tbody tr th:only-of-type {\n        vertical-align: middle;\n    }\n\n    .dataframe tbody tr th {\n        vertical-align: top;\n    }\n\n    .dataframe thead th {\n        text-align: right;\n    }\n</style>\n<table border=\"1\" class=\"dataframe\">\n  <thead>\n    <tr style=\"text-align: right;\">\n      <th></th>\n      <th>사망(명)</th>\n      <th>부상(명)</th>\n    </tr>\n    <tr>\n      <th>구분</th>\n      <th></th>\n      <th></th>\n    </tr>\n  </thead>\n  <tbody>\n    <tr>\n      <th>2014-01-01</th>\n      <td>7</td>\n      <td>347</td>\n    </tr>\n    <tr>\n      <th>2014-02-01</th>\n      <td>3</td>\n      <td>268</td>\n    </tr>\n    <tr>\n      <th>2014-03-01</th>\n      <td>12</td>\n      <td>358</td>\n    </tr>\n    <tr>\n      <th>2014-04-01</th>\n      <td>4</td>\n      <td>360</td>\n    </tr>\n    <tr>\n      <th>2014-05-01</th>\n      <td>17</td>\n      <td>474</td>\n    </tr>\n  </tbody>\n</table>\n</div>"
     },
     "metadata": {},
     "execution_count": 58
    }
   ],
   "source": [
    "df6 = df5['2014'][['사망(명)','부상(명)']]\n",
    "df6.head()"
   ]
  },
  {
   "cell_type": "code",
   "execution_count": 59,
   "metadata": {},
   "outputs": [
    {
     "output_type": "execute_result",
     "data": {
      "text/plain": [
       "<AxesSubplot:xlabel='구분'>"
      ]
     },
     "metadata": {},
     "execution_count": 59
    },
    {
     "output_type": "display_data",
     "data": {
      "text/plain": "<Figure size 432x288 with 1 Axes>",
      "image/svg+xml": "<?xml version=\"1.0\" encoding=\"utf-8\" standalone=\"no\"?>\r\n<!DOCTYPE svg PUBLIC \"-//W3C//DTD SVG 1.1//EN\"\r\n  \"http://www.w3.org/Graphics/SVG/1.1/DTD/svg11.dtd\">\r\n<!-- Created with matplotlib (https://matplotlib.org/) -->\r\n<svg height=\"325.740944pt\" version=\"1.1\" viewBox=\"0 0 395.245784 325.740944\" width=\"395.245784pt\" xmlns=\"http://www.w3.org/2000/svg\" xmlns:xlink=\"http://www.w3.org/1999/xlink\">\r\n <metadata>\r\n  <rdf:RDF xmlns:cc=\"http://creativecommons.org/ns#\" xmlns:dc=\"http://purl.org/dc/elements/1.1/\" xmlns:rdf=\"http://www.w3.org/1999/02/22-rdf-syntax-ns#\">\r\n   <cc:Work>\r\n    <dc:type rdf:resource=\"http://purl.org/dc/dcmitype/StillImage\"/>\r\n    <dc:date>2020-12-29T13:44:23.416646</dc:date>\r\n    <dc:format>image/svg+xml</dc:format>\r\n    <dc:creator>\r\n     <cc:Agent>\r\n      <dc:title>Matplotlib v3.3.2, https://matplotlib.org/</dc:title>\r\n     </cc:Agent>\r\n    </dc:creator>\r\n   </cc:Work>\r\n  </rdf:RDF>\r\n </metadata>\r\n <defs>\r\n  <style type=\"text/css\">*{stroke-linecap:butt;stroke-linejoin:round;}</style>\r\n </defs>\r\n <g id=\"figure_1\">\r\n  <g id=\"patch_1\">\r\n   <path d=\"M 0 325.740944 \r\nL 395.245784 325.740944 \r\nL 395.245784 0 \r\nL 0 0 \r\nz\r\n\" style=\"fill:none;\"/>\r\n  </g>\r\n  <g id=\"axes_1\">\r\n   <g id=\"patch_2\">\r\n    <path d=\"M 30.723438 224.64 \r\nL 365.523438 224.64 \r\nL 365.523438 7.2 \r\nL 30.723438 7.2 \r\nz\r\n\" style=\"fill:#ffffff;\"/>\r\n   </g>\r\n   <g id=\"patch_3\">\r\n    <path clip-path=\"url(#p7bb0c51b10)\" d=\"M 37.698438 224.64 \r\nL 44.673438 224.64 \r\nL 44.673438 221.581772 \r\nL 37.698438 221.581772 \r\nz\r\n\" style=\"fill:#1f77b4;\"/>\r\n   </g>\r\n   <g id=\"patch_4\">\r\n    <path clip-path=\"url(#p7bb0c51b10)\" d=\"M 65.598438 224.64 \r\nL 72.573437 224.64 \r\nL 72.573437 223.329331 \r\nL 65.598438 223.329331 \r\nz\r\n\" style=\"fill:#1f77b4;\"/>\r\n   </g>\r\n   <g id=\"patch_5\">\r\n    <path clip-path=\"url(#p7bb0c51b10)\" d=\"M 93.498437 224.64 \r\nL 100.473437 224.64 \r\nL 100.473437 219.397324 \r\nL 93.498437 219.397324 \r\nz\r\n\" style=\"fill:#1f77b4;\"/>\r\n   </g>\r\n   <g id=\"patch_6\">\r\n    <path clip-path=\"url(#p7bb0c51b10)\" d=\"M 121.398438 224.64 \r\nL 128.373437 224.64 \r\nL 128.373437 222.892441 \r\nL 121.398438 222.892441 \r\nz\r\n\" style=\"fill:#1f77b4;\"/>\r\n   </g>\r\n   <g id=\"patch_7\">\r\n    <path clip-path=\"url(#p7bb0c51b10)\" d=\"M 149.298438 224.64 \r\nL 156.273438 224.64 \r\nL 156.273438 217.212875 \r\nL 149.298438 217.212875 \r\nz\r\n\" style=\"fill:#1f77b4;\"/>\r\n   </g>\r\n   <g id=\"patch_8\">\r\n    <path clip-path=\"url(#p7bb0c51b10)\" d=\"M 177.198438 224.64 \r\nL 184.173438 224.64 \r\nL 184.173438 218.960434 \r\nL 177.198438 218.960434 \r\nz\r\n\" style=\"fill:#1f77b4;\"/>\r\n   </g>\r\n   <g id=\"patch_9\">\r\n    <path clip-path=\"url(#p7bb0c51b10)\" d=\"M 205.098437 224.64 \r\nL 212.073437 224.64 \r\nL 212.073437 218.523544 \r\nL 205.098437 218.523544 \r\nz\r\n\" style=\"fill:#1f77b4;\"/>\r\n   </g>\r\n   <g id=\"patch_10\">\r\n    <path clip-path=\"url(#p7bb0c51b10)\" d=\"M 232.998437 224.64 \r\nL 239.973437 224.64 \r\nL 239.973437 220.707993 \r\nL 232.998437 220.707993 \r\nz\r\n\" style=\"fill:#1f77b4;\"/>\r\n   </g>\r\n   <g id=\"patch_11\">\r\n    <path clip-path=\"url(#p7bb0c51b10)\" d=\"M 260.898438 224.64 \r\nL 267.873438 224.64 \r\nL 267.873438 218.086655 \r\nL 260.898438 218.086655 \r\nz\r\n\" style=\"fill:#1f77b4;\"/>\r\n   </g>\r\n   <g id=\"patch_12\">\r\n    <path clip-path=\"url(#p7bb0c51b10)\" d=\"M 288.798437 224.64 \r\nL 295.773438 224.64 \r\nL 295.773438 218.523544 \r\nL 288.798437 218.523544 \r\nz\r\n\" style=\"fill:#1f77b4;\"/>\r\n   </g>\r\n   <g id=\"patch_13\">\r\n    <path clip-path=\"url(#p7bb0c51b10)\" d=\"M 316.698437 224.64 \r\nL 323.673437 224.64 \r\nL 323.673437 220.271103 \r\nL 316.698437 220.271103 \r\nz\r\n\" style=\"fill:#1f77b4;\"/>\r\n   </g>\r\n   <g id=\"patch_14\">\r\n    <path clip-path=\"url(#p7bb0c51b10)\" d=\"M 344.598438 224.64 \r\nL 351.573438 224.64 \r\nL 351.573438 219.397324 \r\nL 344.598438 219.397324 \r\nz\r\n\" style=\"fill:#1f77b4;\"/>\r\n   </g>\r\n   <g id=\"patch_15\">\r\n    <path clip-path=\"url(#p7bb0c51b10)\" d=\"M 44.673438 224.64 \r\nL 51.648438 224.64 \r\nL 51.648438 73.039277 \r\nL 44.673438 73.039277 \r\nz\r\n\" style=\"fill:#ff7f0e;\"/>\r\n   </g>\r\n   <g id=\"patch_16\">\r\n    <path clip-path=\"url(#p7bb0c51b10)\" d=\"M 72.573438 224.64 \r\nL 79.548438 224.64 \r\nL 79.548438 107.553562 \r\nL 72.573438 107.553562 \r\nz\r\n\" style=\"fill:#ff7f0e;\"/>\r\n   </g>\r\n   <g id=\"patch_17\">\r\n    <path clip-path=\"url(#p7bb0c51b10)\" d=\"M 100.473438 224.64 \r\nL 107.448437 224.64 \r\nL 107.448437 68.23349 \r\nL 100.473438 68.23349 \r\nz\r\n\" style=\"fill:#ff7f0e;\"/>\r\n   </g>\r\n   <g id=\"patch_18\">\r\n    <path clip-path=\"url(#p7bb0c51b10)\" d=\"M 128.373437 224.64 \r\nL 135.348437 224.64 \r\nL 135.348437 67.359711 \r\nL 128.373437 67.359711 \r\nz\r\n\" style=\"fill:#ff7f0e;\"/>\r\n   </g>\r\n   <g id=\"patch_19\">\r\n    <path clip-path=\"url(#p7bb0c51b10)\" d=\"M 156.273438 224.64 \r\nL 163.248437 224.64 \r\nL 163.248437 17.554286 \r\nL 156.273438 17.554286 \r\nz\r\n\" style=\"fill:#ff7f0e;\"/>\r\n   </g>\r\n   <g id=\"patch_20\">\r\n    <path clip-path=\"url(#p7bb0c51b10)\" d=\"M 184.173438 224.64 \r\nL 191.148438 224.64 \r\nL 191.148438 24.98141 \r\nL 184.173438 24.98141 \r\nz\r\n\" style=\"fill:#ff7f0e;\"/>\r\n   </g>\r\n   <g id=\"patch_21\">\r\n    <path clip-path=\"url(#p7bb0c51b10)\" d=\"M 212.073437 224.64 \r\nL 219.048437 224.64 \r\nL 219.048437 36.340542 \r\nL 212.073437 36.340542 \r\nz\r\n\" style=\"fill:#ff7f0e;\"/>\r\n   </g>\r\n   <g id=\"patch_22\">\r\n    <path clip-path=\"url(#p7bb0c51b10)\" d=\"M 239.973437 224.64 \r\nL 246.948437 224.64 \r\nL 246.948437 29.350307 \r\nL 239.973437 29.350307 \r\nz\r\n\" style=\"fill:#ff7f0e;\"/>\r\n   </g>\r\n   <g id=\"patch_23\">\r\n    <path clip-path=\"url(#p7bb0c51b10)\" d=\"M 267.873438 224.64 \r\nL 274.848438 224.64 \r\nL 274.848438 36.777432 \r\nL 267.873438 36.777432 \r\nz\r\n\" style=\"fill:#ff7f0e;\"/>\r\n   </g>\r\n   <g id=\"patch_24\">\r\n    <path clip-path=\"url(#p7bb0c51b10)\" d=\"M 295.773438 224.64 \r\nL 302.748438 224.64 \r\nL 302.748438 53.379241 \r\nL 295.773438 53.379241 \r\nz\r\n\" style=\"fill:#ff7f0e;\"/>\r\n   </g>\r\n   <g id=\"patch_25\">\r\n    <path clip-path=\"url(#p7bb0c51b10)\" d=\"M 323.673437 224.64 \r\nL 330.648438 224.64 \r\nL 330.648438 56.000579 \r\nL 323.673437 56.000579 \r\nz\r\n\" style=\"fill:#ff7f0e;\"/>\r\n   </g>\r\n   <g id=\"patch_26\">\r\n    <path clip-path=\"url(#p7bb0c51b10)\" d=\"M 351.573437 224.64 \r\nL 358.548437 224.64 \r\nL 358.548437 80.903291 \r\nL 351.573437 80.903291 \r\nz\r\n\" style=\"fill:#ff7f0e;\"/>\r\n   </g>\r\n   <g id=\"matplotlib.axis_1\">\r\n    <g id=\"xtick_1\">\r\n     <g id=\"line2d_1\">\r\n      <defs>\r\n       <path d=\"M 0 0 \r\nL 0 3.5 \r\n\" id=\"mf6e7414375\" style=\"stroke:#000000;stroke-width:0.8;\"/>\r\n      </defs>\r\n      <g>\r\n       <use style=\"stroke:#000000;stroke-width:0.8;\" x=\"44.673438\" xlink:href=\"#mf6e7414375\" y=\"224.64\"/>\r\n      </g>\r\n     </g>\r\n     <g id=\"text_1\">\r\n      <!-- 2014-01-01 00:00:00 -->\r\n      <g transform=\"translate(13.569578 302.913049)rotate(-45)scale(0.1 -0.1)\">\r\n       <defs>\r\n        <path d=\"M 39.359375 52.6875 \r\nQ 39.359375 59.125 35.546875 62.78125 \r\nQ 31.734375 66.453125 25.4375 66.453125 \r\nQ 20.953125 66.453125 16.453125 64.125 \r\nQ 11.96875 61.8125 8.34375 57.765625 \r\nL 8.34375 66.15625 \r\nQ 15.328125 73.046875 26.421875 73.046875 \r\nQ 35.640625 73.046875 41.28125 67.71875 \r\nQ 46.921875 62.40625 46.921875 53.375 \r\nQ 46.921875 45.609375 43.3125 39.765625 \r\nQ 39.703125 33.9375 31 27.734375 \r\nQ 22.796875 21.96875 19.59375 18.984375 \r\nQ 16.40625 16.015625 15.109375 13.34375 \r\nQ 13.8125 10.6875 13.8125 7.03125 \r\nL 48.6875 7.03125 \r\nL 48.6875 0 \r\nL 5.5625 0 \r\nL 5.5625 3.515625 \r\nQ 5.5625 9.421875 7.203125 13.59375 \r\nQ 8.84375 17.78125 12.671875 21.75 \r\nQ 16.5 25.734375 24.953125 31.59375 \r\nQ 32.671875 36.921875 36.015625 41.71875 \r\nQ 39.359375 46.53125 39.359375 52.6875 \r\nz\r\n\" id=\"MalgunGothic-50\"/>\r\n        <path d=\"M 4.34375 34.46875 \r\nQ 4.34375 53.515625 10.546875 63.28125 \r\nQ 16.75 73.046875 28.421875 73.046875 \r\nQ 50.828125 73.046875 50.828125 36.234375 \r\nQ 50.828125 18.0625 44.59375 8.421875 \r\nQ 38.375 -1.21875 26.8125 -1.21875 \r\nQ 15.875 -1.21875 10.109375 8.125 \r\nQ 4.34375 17.484375 4.34375 34.46875 \r\nz\r\nM 12.25 34.859375 \r\nQ 12.25 5.375 27.640625 5.375 \r\nQ 42.921875 5.375 42.921875 35.296875 \r\nQ 42.921875 66.40625 28.03125 66.40625 \r\nQ 12.25 66.40625 12.25 34.859375 \r\nz\r\n\" id=\"MalgunGothic-48\"/>\r\n        <path d=\"M 34.859375 0 \r\nL 27.09375 0 \r\nL 27.09375 62.0625 \r\nQ 24.859375 59.8125 19.78125 57.203125 \r\nQ 14.703125 54.59375 10.5 53.5625 \r\nL 10.5 61.859375 \r\nQ 15.875 63.375 22.015625 66.796875 \r\nQ 28.171875 70.21875 31.734375 73.4375 \r\nL 34.859375 73.4375 \r\nz\r\n\" id=\"MalgunGothic-49\"/>\r\n        <path d=\"M 42.234375 71.875 \r\nL 42.234375 24.421875 \r\nL 51.703125 24.421875 \r\nL 51.703125 17.390625 \r\nL 42.234375 17.390625 \r\nL 42.234375 0 \r\nL 34.578125 0 \r\nL 34.578125 17.390625 \r\nL 0.78125 17.390625 \r\nL 0.78125 23.96875 \r\nQ 11.375 35.890625 20.234375 48.578125 \r\nQ 29.109375 61.28125 33.9375 71.875 \r\nz\r\nM 9.765625 24.421875 \r\nL 34.578125 24.421875 \r\nL 34.578125 59.859375 \r\nQ 25.203125 43.5625 14.984375 30.953125 \r\nz\r\n\" id=\"MalgunGothic-52\"/>\r\n        <path d=\"M 34.578125 25.53125 \r\nL 7.234375 25.53125 \r\nL 7.234375 31.734375 \r\nL 34.578125 31.734375 \r\nz\r\n\" id=\"MalgunGothic-45\"/>\r\n        <path id=\"MalgunGothic-32\"/>\r\n        <path d=\"M 5.5625 46.96875 \r\nQ 5.5625 49.265625 7.171875 50.84375 \r\nQ 8.796875 52.4375 10.9375 52.4375 \r\nQ 13.09375 52.4375 14.703125 50.84375 \r\nQ 16.3125 49.265625 16.3125 46.96875 \r\nQ 16.3125 44.734375 14.71875 43.140625 \r\nQ 13.140625 41.546875 10.9375 41.546875 \r\nQ 8.734375 41.546875 7.140625 43.140625 \r\nQ 5.5625 44.734375 5.5625 46.96875 \r\nz\r\nM 5.5625 4.296875 \r\nQ 5.5625 6.59375 7.171875 8.171875 \r\nQ 8.796875 9.765625 10.9375 9.765625 \r\nQ 13.09375 9.765625 14.703125 8.171875 \r\nQ 16.3125 6.59375 16.3125 4.296875 \r\nQ 16.3125 2.15625 14.71875 0.515625 \r\nQ 13.140625 -1.125 10.9375 -1.125 \r\nQ 8.734375 -1.125 7.140625 0.453125 \r\nQ 5.5625 2.046875 5.5625 4.296875 \r\nz\r\n\" id=\"MalgunGothic-58\"/>\r\n       </defs>\r\n       <use xlink:href=\"#MalgunGothic-50\"/>\r\n       <use x=\"55.078125\" xlink:href=\"#MalgunGothic-48\"/>\r\n       <use x=\"110.15625\" xlink:href=\"#MalgunGothic-49\"/>\r\n       <use x=\"165.234375\" xlink:href=\"#MalgunGothic-52\"/>\r\n       <use x=\"220.3125\" xlink:href=\"#MalgunGothic-45\"/>\r\n       <use x=\"261.328125\" xlink:href=\"#MalgunGothic-48\"/>\r\n       <use x=\"316.40625\" xlink:href=\"#MalgunGothic-49\"/>\r\n       <use x=\"371.484375\" xlink:href=\"#MalgunGothic-45\"/>\r\n       <use x=\"412.5\" xlink:href=\"#MalgunGothic-48\"/>\r\n       <use x=\"467.578125\" xlink:href=\"#MalgunGothic-49\"/>\r\n       <use x=\"522.65625\" xlink:href=\"#MalgunGothic-32\"/>\r\n       <use x=\"557.8125\" xlink:href=\"#MalgunGothic-48\"/>\r\n       <use x=\"612.890625\" xlink:href=\"#MalgunGothic-48\"/>\r\n       <use x=\"667.96875\" xlink:href=\"#MalgunGothic-58\"/>\r\n       <use x=\"689.84375\" xlink:href=\"#MalgunGothic-48\"/>\r\n       <use x=\"744.921875\" xlink:href=\"#MalgunGothic-48\"/>\r\n       <use x=\"800\" xlink:href=\"#MalgunGothic-58\"/>\r\n       <use x=\"821.875\" xlink:href=\"#MalgunGothic-48\"/>\r\n       <use x=\"876.953125\" xlink:href=\"#MalgunGothic-48\"/>\r\n      </g>\r\n     </g>\r\n    </g>\r\n    <g id=\"xtick_2\">\r\n     <g id=\"line2d_2\">\r\n      <g>\r\n       <use style=\"stroke:#000000;stroke-width:0.8;\" x=\"72.573438\" xlink:href=\"#mf6e7414375\" y=\"224.64\"/>\r\n      </g>\r\n     </g>\r\n     <g id=\"text_2\">\r\n      <!-- 2014-02-01 00:00:00 -->\r\n      <g transform=\"translate(41.469578 302.913049)rotate(-45)scale(0.1 -0.1)\">\r\n       <use xlink:href=\"#MalgunGothic-50\"/>\r\n       <use x=\"55.078125\" xlink:href=\"#MalgunGothic-48\"/>\r\n       <use x=\"110.15625\" xlink:href=\"#MalgunGothic-49\"/>\r\n       <use x=\"165.234375\" xlink:href=\"#MalgunGothic-52\"/>\r\n       <use x=\"220.3125\" xlink:href=\"#MalgunGothic-45\"/>\r\n       <use x=\"261.328125\" xlink:href=\"#MalgunGothic-48\"/>\r\n       <use x=\"316.40625\" xlink:href=\"#MalgunGothic-50\"/>\r\n       <use x=\"371.484375\" xlink:href=\"#MalgunGothic-45\"/>\r\n       <use x=\"412.5\" xlink:href=\"#MalgunGothic-48\"/>\r\n       <use x=\"467.578125\" xlink:href=\"#MalgunGothic-49\"/>\r\n       <use x=\"522.65625\" xlink:href=\"#MalgunGothic-32\"/>\r\n       <use x=\"557.8125\" xlink:href=\"#MalgunGothic-48\"/>\r\n       <use x=\"612.890625\" xlink:href=\"#MalgunGothic-48\"/>\r\n       <use x=\"667.96875\" xlink:href=\"#MalgunGothic-58\"/>\r\n       <use x=\"689.84375\" xlink:href=\"#MalgunGothic-48\"/>\r\n       <use x=\"744.921875\" xlink:href=\"#MalgunGothic-48\"/>\r\n       <use x=\"800\" xlink:href=\"#MalgunGothic-58\"/>\r\n       <use x=\"821.875\" xlink:href=\"#MalgunGothic-48\"/>\r\n       <use x=\"876.953125\" xlink:href=\"#MalgunGothic-48\"/>\r\n      </g>\r\n     </g>\r\n    </g>\r\n    <g id=\"xtick_3\">\r\n     <g id=\"line2d_3\">\r\n      <g>\r\n       <use style=\"stroke:#000000;stroke-width:0.8;\" x=\"100.473438\" xlink:href=\"#mf6e7414375\" y=\"224.64\"/>\r\n      </g>\r\n     </g>\r\n     <g id=\"text_3\">\r\n      <!-- 2014-03-01 00:00:00 -->\r\n      <g transform=\"translate(69.369578 302.913049)rotate(-45)scale(0.1 -0.1)\">\r\n       <defs>\r\n        <path d=\"M 6.5 11.234375 \r\nQ 13.921875 5.375 23.09375 5.375 \r\nQ 30.609375 5.375 35.21875 9.171875 \r\nQ 39.84375 12.984375 39.84375 19.484375 \r\nQ 39.84375 33.890625 19.578125 33.890625 \r\nL 13.625 33.890625 \r\nL 13.625 40.484375 \r\nL 19.28125 40.484375 \r\nQ 37.3125 40.484375 37.3125 53.953125 \r\nQ 37.3125 66.40625 23.578125 66.40625 \r\nQ 15.96875 66.40625 9.28125 61.1875 \r\nL 9.28125 68.953125 \r\nQ 16.109375 73.046875 25.53125 73.046875 \r\nQ 34.125 73.046875 39.671875 68.3125 \r\nQ 45.21875 63.578125 45.21875 55.953125 \r\nQ 45.21875 41.84375 30.8125 37.640625 \r\nL 30.8125 37.5 \r\nQ 38.578125 36.8125 43.1875 32.078125 \r\nQ 47.796875 27.34375 47.796875 20.3125 \r\nQ 47.796875 10.5 40.6875 4.640625 \r\nQ 33.59375 -1.21875 22.65625 -1.21875 \r\nQ 12.59375 -1.21875 6.5 2.640625 \r\nz\r\n\" id=\"MalgunGothic-51\"/>\r\n       </defs>\r\n       <use xlink:href=\"#MalgunGothic-50\"/>\r\n       <use x=\"55.078125\" xlink:href=\"#MalgunGothic-48\"/>\r\n       <use x=\"110.15625\" xlink:href=\"#MalgunGothic-49\"/>\r\n       <use x=\"165.234375\" xlink:href=\"#MalgunGothic-52\"/>\r\n       <use x=\"220.3125\" xlink:href=\"#MalgunGothic-45\"/>\r\n       <use x=\"261.328125\" xlink:href=\"#MalgunGothic-48\"/>\r\n       <use x=\"316.40625\" xlink:href=\"#MalgunGothic-51\"/>\r\n       <use x=\"371.484375\" xlink:href=\"#MalgunGothic-45\"/>\r\n       <use x=\"412.5\" xlink:href=\"#MalgunGothic-48\"/>\r\n       <use x=\"467.578125\" xlink:href=\"#MalgunGothic-49\"/>\r\n       <use x=\"522.65625\" xlink:href=\"#MalgunGothic-32\"/>\r\n       <use x=\"557.8125\" xlink:href=\"#MalgunGothic-48\"/>\r\n       <use x=\"612.890625\" xlink:href=\"#MalgunGothic-48\"/>\r\n       <use x=\"667.96875\" xlink:href=\"#MalgunGothic-58\"/>\r\n       <use x=\"689.84375\" xlink:href=\"#MalgunGothic-48\"/>\r\n       <use x=\"744.921875\" xlink:href=\"#MalgunGothic-48\"/>\r\n       <use x=\"800\" xlink:href=\"#MalgunGothic-58\"/>\r\n       <use x=\"821.875\" xlink:href=\"#MalgunGothic-48\"/>\r\n       <use x=\"876.953125\" xlink:href=\"#MalgunGothic-48\"/>\r\n      </g>\r\n     </g>\r\n    </g>\r\n    <g id=\"xtick_4\">\r\n     <g id=\"line2d_4\">\r\n      <g>\r\n       <use style=\"stroke:#000000;stroke-width:0.8;\" x=\"128.373437\" xlink:href=\"#mf6e7414375\" y=\"224.64\"/>\r\n      </g>\r\n     </g>\r\n     <g id=\"text_4\">\r\n      <!-- 2014-04-01 00:00:00 -->\r\n      <g transform=\"translate(97.269578 302.913049)rotate(-45)scale(0.1 -0.1)\">\r\n       <use xlink:href=\"#MalgunGothic-50\"/>\r\n       <use x=\"55.078125\" xlink:href=\"#MalgunGothic-48\"/>\r\n       <use x=\"110.15625\" xlink:href=\"#MalgunGothic-49\"/>\r\n       <use x=\"165.234375\" xlink:href=\"#MalgunGothic-52\"/>\r\n       <use x=\"220.3125\" xlink:href=\"#MalgunGothic-45\"/>\r\n       <use x=\"261.328125\" xlink:href=\"#MalgunGothic-48\"/>\r\n       <use x=\"316.40625\" xlink:href=\"#MalgunGothic-52\"/>\r\n       <use x=\"371.484375\" xlink:href=\"#MalgunGothic-45\"/>\r\n       <use x=\"412.5\" xlink:href=\"#MalgunGothic-48\"/>\r\n       <use x=\"467.578125\" xlink:href=\"#MalgunGothic-49\"/>\r\n       <use x=\"522.65625\" xlink:href=\"#MalgunGothic-32\"/>\r\n       <use x=\"557.8125\" xlink:href=\"#MalgunGothic-48\"/>\r\n       <use x=\"612.890625\" xlink:href=\"#MalgunGothic-48\"/>\r\n       <use x=\"667.96875\" xlink:href=\"#MalgunGothic-58\"/>\r\n       <use x=\"689.84375\" xlink:href=\"#MalgunGothic-48\"/>\r\n       <use x=\"744.921875\" xlink:href=\"#MalgunGothic-48\"/>\r\n       <use x=\"800\" xlink:href=\"#MalgunGothic-58\"/>\r\n       <use x=\"821.875\" xlink:href=\"#MalgunGothic-48\"/>\r\n       <use x=\"876.953125\" xlink:href=\"#MalgunGothic-48\"/>\r\n      </g>\r\n     </g>\r\n    </g>\r\n    <g id=\"xtick_5\">\r\n     <g id=\"line2d_5\">\r\n      <g>\r\n       <use style=\"stroke:#000000;stroke-width:0.8;\" x=\"156.273438\" xlink:href=\"#mf6e7414375\" y=\"224.64\"/>\r\n      </g>\r\n     </g>\r\n     <g id=\"text_5\">\r\n      <!-- 2014-05-01 00:00:00 -->\r\n      <g transform=\"translate(125.169578 302.913049)rotate(-45)scale(0.1 -0.1)\">\r\n       <defs>\r\n        <path d=\"M 48 21.921875 \r\nQ 48 11.28125 41.1875 5.03125 \r\nQ 34.375 -1.21875 22.953125 -1.21875 \r\nQ 12.9375 -1.21875 8.0625 1.765625 \r\nL 8.0625 10.15625 \r\nQ 15.53125 5.375 23.046875 5.375 \r\nQ 30.765625 5.375 35.46875 9.84375 \r\nQ 40.1875 14.3125 40.1875 21.4375 \r\nQ 40.1875 28.71875 35.390625 32.6875 \r\nQ 30.609375 36.671875 21.578125 36.671875 \r\nQ 15.53125 36.671875 9.421875 35.9375 \r\nL 11.859375 71.875 \r\nL 44.828125 71.875 \r\nL 44.828125 64.796875 \r\nL 18.84375 64.796875 \r\nL 17.28125 43.171875 \r\nQ 21.046875 43.5 24.171875 43.5 \r\nQ 35.359375 43.5 41.671875 37.71875 \r\nQ 48 31.9375 48 21.921875 \r\nz\r\n\" id=\"MalgunGothic-53\"/>\r\n       </defs>\r\n       <use xlink:href=\"#MalgunGothic-50\"/>\r\n       <use x=\"55.078125\" xlink:href=\"#MalgunGothic-48\"/>\r\n       <use x=\"110.15625\" xlink:href=\"#MalgunGothic-49\"/>\r\n       <use x=\"165.234375\" xlink:href=\"#MalgunGothic-52\"/>\r\n       <use x=\"220.3125\" xlink:href=\"#MalgunGothic-45\"/>\r\n       <use x=\"261.328125\" xlink:href=\"#MalgunGothic-48\"/>\r\n       <use x=\"316.40625\" xlink:href=\"#MalgunGothic-53\"/>\r\n       <use x=\"371.484375\" xlink:href=\"#MalgunGothic-45\"/>\r\n       <use x=\"412.5\" xlink:href=\"#MalgunGothic-48\"/>\r\n       <use x=\"467.578125\" xlink:href=\"#MalgunGothic-49\"/>\r\n       <use x=\"522.65625\" xlink:href=\"#MalgunGothic-32\"/>\r\n       <use x=\"557.8125\" xlink:href=\"#MalgunGothic-48\"/>\r\n       <use x=\"612.890625\" xlink:href=\"#MalgunGothic-48\"/>\r\n       <use x=\"667.96875\" xlink:href=\"#MalgunGothic-58\"/>\r\n       <use x=\"689.84375\" xlink:href=\"#MalgunGothic-48\"/>\r\n       <use x=\"744.921875\" xlink:href=\"#MalgunGothic-48\"/>\r\n       <use x=\"800\" xlink:href=\"#MalgunGothic-58\"/>\r\n       <use x=\"821.875\" xlink:href=\"#MalgunGothic-48\"/>\r\n       <use x=\"876.953125\" xlink:href=\"#MalgunGothic-48\"/>\r\n      </g>\r\n     </g>\r\n    </g>\r\n    <g id=\"xtick_6\">\r\n     <g id=\"line2d_6\">\r\n      <g>\r\n       <use style=\"stroke:#000000;stroke-width:0.8;\" x=\"184.173438\" xlink:href=\"#mf6e7414375\" y=\"224.64\"/>\r\n      </g>\r\n     </g>\r\n     <g id=\"text_6\">\r\n      <!-- 2014-06-01 00:00:00 -->\r\n      <g transform=\"translate(153.069578 302.913049)rotate(-45)scale(0.1 -0.1)\">\r\n       <defs>\r\n        <path d=\"M 46.578125 63.578125 \r\nQ 40.921875 66.40625 34.8125 66.40625 \r\nQ 24.859375 66.40625 19.1875 57.640625 \r\nQ 13.53125 48.875 13.578125 34.578125 \r\nL 13.8125 34.578125 \r\nQ 18.796875 44.875 30.28125 44.875 \r\nQ 39.796875 44.875 45.359375 38.71875 \r\nQ 50.921875 32.5625 50.921875 22.65625 \r\nQ 50.921875 12.453125 44.640625 5.609375 \r\nQ 38.375 -1.21875 28.515625 -1.21875 \r\nQ 17.4375 -1.21875 11.5 7.46875 \r\nQ 5.5625 16.15625 5.5625 31.546875 \r\nQ 5.5625 49.703125 13.234375 61.375 \r\nQ 20.90625 73.046875 34.71875 73.046875 \r\nQ 42.1875 73.046875 46.578125 71 \r\nz\r\nM 14.15625 23.53125 \r\nQ 14.15625 15.96875 18.203125 10.671875 \r\nQ 22.265625 5.375 28.8125 5.375 \r\nQ 35.109375 5.375 39.03125 10.078125 \r\nQ 42.96875 14.796875 42.96875 21.6875 \r\nQ 42.96875 29.5 39.203125 33.859375 \r\nQ 35.453125 38.234375 28.71875 38.234375 \r\nQ 22.5625 38.234375 18.359375 33.953125 \r\nQ 14.15625 29.6875 14.15625 23.53125 \r\nz\r\n\" id=\"MalgunGothic-54\"/>\r\n       </defs>\r\n       <use xlink:href=\"#MalgunGothic-50\"/>\r\n       <use x=\"55.078125\" xlink:href=\"#MalgunGothic-48\"/>\r\n       <use x=\"110.15625\" xlink:href=\"#MalgunGothic-49\"/>\r\n       <use x=\"165.234375\" xlink:href=\"#MalgunGothic-52\"/>\r\n       <use x=\"220.3125\" xlink:href=\"#MalgunGothic-45\"/>\r\n       <use x=\"261.328125\" xlink:href=\"#MalgunGothic-48\"/>\r\n       <use x=\"316.40625\" xlink:href=\"#MalgunGothic-54\"/>\r\n       <use x=\"371.484375\" xlink:href=\"#MalgunGothic-45\"/>\r\n       <use x=\"412.5\" xlink:href=\"#MalgunGothic-48\"/>\r\n       <use x=\"467.578125\" xlink:href=\"#MalgunGothic-49\"/>\r\n       <use x=\"522.65625\" xlink:href=\"#MalgunGothic-32\"/>\r\n       <use x=\"557.8125\" xlink:href=\"#MalgunGothic-48\"/>\r\n       <use x=\"612.890625\" xlink:href=\"#MalgunGothic-48\"/>\r\n       <use x=\"667.96875\" xlink:href=\"#MalgunGothic-58\"/>\r\n       <use x=\"689.84375\" xlink:href=\"#MalgunGothic-48\"/>\r\n       <use x=\"744.921875\" xlink:href=\"#MalgunGothic-48\"/>\r\n       <use x=\"800\" xlink:href=\"#MalgunGothic-58\"/>\r\n       <use x=\"821.875\" xlink:href=\"#MalgunGothic-48\"/>\r\n       <use x=\"876.953125\" xlink:href=\"#MalgunGothic-48\"/>\r\n      </g>\r\n     </g>\r\n    </g>\r\n    <g id=\"xtick_7\">\r\n     <g id=\"line2d_7\">\r\n      <g>\r\n       <use style=\"stroke:#000000;stroke-width:0.8;\" x=\"212.073437\" xlink:href=\"#mf6e7414375\" y=\"224.64\"/>\r\n      </g>\r\n     </g>\r\n     <g id=\"text_7\">\r\n      <!-- 2014-07-01 00:00:00 -->\r\n      <g transform=\"translate(180.969578 302.913049)rotate(-45)scale(0.1 -0.1)\">\r\n       <defs>\r\n        <path d=\"M 50.203125 67.140625 \r\nQ 38.71875 46.96875 32.25 29.96875 \r\nQ 25.78125 12.984375 24.21875 0 \r\nL 15.765625 0 \r\nQ 16.9375 8.296875 20.15625 18.375 \r\nQ 23.390625 28.46875 28.359375 39.640625 \r\nQ 33.34375 50.828125 41.109375 64.796875 \r\nL 4.546875 64.796875 \r\nL 4.546875 71.875 \r\nL 50.203125 71.875 \r\nz\r\n\" id=\"MalgunGothic-55\"/>\r\n       </defs>\r\n       <use xlink:href=\"#MalgunGothic-50\"/>\r\n       <use x=\"55.078125\" xlink:href=\"#MalgunGothic-48\"/>\r\n       <use x=\"110.15625\" xlink:href=\"#MalgunGothic-49\"/>\r\n       <use x=\"165.234375\" xlink:href=\"#MalgunGothic-52\"/>\r\n       <use x=\"220.3125\" xlink:href=\"#MalgunGothic-45\"/>\r\n       <use x=\"261.328125\" xlink:href=\"#MalgunGothic-48\"/>\r\n       <use x=\"316.40625\" xlink:href=\"#MalgunGothic-55\"/>\r\n       <use x=\"371.484375\" xlink:href=\"#MalgunGothic-45\"/>\r\n       <use x=\"412.5\" xlink:href=\"#MalgunGothic-48\"/>\r\n       <use x=\"467.578125\" xlink:href=\"#MalgunGothic-49\"/>\r\n       <use x=\"522.65625\" xlink:href=\"#MalgunGothic-32\"/>\r\n       <use x=\"557.8125\" xlink:href=\"#MalgunGothic-48\"/>\r\n       <use x=\"612.890625\" xlink:href=\"#MalgunGothic-48\"/>\r\n       <use x=\"667.96875\" xlink:href=\"#MalgunGothic-58\"/>\r\n       <use x=\"689.84375\" xlink:href=\"#MalgunGothic-48\"/>\r\n       <use x=\"744.921875\" xlink:href=\"#MalgunGothic-48\"/>\r\n       <use x=\"800\" xlink:href=\"#MalgunGothic-58\"/>\r\n       <use x=\"821.875\" xlink:href=\"#MalgunGothic-48\"/>\r\n       <use x=\"876.953125\" xlink:href=\"#MalgunGothic-48\"/>\r\n      </g>\r\n     </g>\r\n    </g>\r\n    <g id=\"xtick_8\">\r\n     <g id=\"line2d_8\">\r\n      <g>\r\n       <use style=\"stroke:#000000;stroke-width:0.8;\" x=\"239.973437\" xlink:href=\"#mf6e7414375\" y=\"224.64\"/>\r\n      </g>\r\n     </g>\r\n     <g id=\"text_8\">\r\n      <!-- 2014-08-01 00:00:00 -->\r\n      <g transform=\"translate(208.869578 302.913049)rotate(-45)scale(0.1 -0.1)\">\r\n       <defs>\r\n        <path d=\"M 4.734375 20.015625 \r\nQ 4.734375 26.078125 8.421875 31.421875 \r\nQ 12.109375 36.765625 18.015625 38.96875 \r\nQ 13.375 41.359375 10.546875 45.546875 \r\nQ 7.71875 49.75 7.71875 54.6875 \r\nQ 7.71875 59.8125 10.296875 64.03125 \r\nQ 12.890625 68.265625 17.53125 70.65625 \r\nQ 22.171875 73.046875 27.78125 73.046875 \r\nQ 36.46875 73.046875 42.1875 67.84375 \r\nQ 47.90625 62.640625 47.90625 54.6875 \r\nQ 47.90625 49.703125 45.015625 45.53125 \r\nQ 42.140625 41.359375 37.703125 38.96875 \r\nQ 43.5625 36.71875 47.21875 31.390625 \r\nQ 50.875 26.078125 50.875 20.015625 \r\nQ 50.875 10.5 44.421875 4.640625 \r\nQ 37.984375 -1.21875 27.78125 -1.21875 \r\nQ 17.671875 -1.21875 11.203125 4.703125 \r\nQ 4.734375 10.640625 4.734375 20.015625 \r\nz\r\nM 12.640625 20.75 \r\nQ 12.640625 13.71875 16.890625 9.546875 \r\nQ 21.140625 5.375 27.828125 5.375 \r\nQ 34.46875 5.375 38.78125 9.671875 \r\nQ 43.109375 13.96875 43.109375 20.75 \r\nQ 43.109375 27.046875 38.78125 31.421875 \r\nQ 34.46875 35.796875 27.828125 35.796875 \r\nQ 21.4375 35.796875 17.03125 31.5625 \r\nQ 12.640625 27.34375 12.640625 20.75 \r\nz\r\nM 15.671875 54.046875 \r\nQ 15.671875 48.828125 19.28125 45.3125 \r\nQ 22.90625 41.796875 27.828125 41.796875 \r\nQ 32.765625 41.796875 36.40625 45.3125 \r\nQ 40.046875 48.828125 40.046875 54.046875 \r\nQ 40.046875 59.421875 36.578125 62.90625 \r\nQ 33.109375 66.40625 27.828125 66.40625 \r\nQ 22.65625 66.40625 19.15625 62.953125 \r\nQ 15.671875 59.515625 15.671875 54.046875 \r\nz\r\n\" id=\"MalgunGothic-56\"/>\r\n       </defs>\r\n       <use xlink:href=\"#MalgunGothic-50\"/>\r\n       <use x=\"55.078125\" xlink:href=\"#MalgunGothic-48\"/>\r\n       <use x=\"110.15625\" xlink:href=\"#MalgunGothic-49\"/>\r\n       <use x=\"165.234375\" xlink:href=\"#MalgunGothic-52\"/>\r\n       <use x=\"220.3125\" xlink:href=\"#MalgunGothic-45\"/>\r\n       <use x=\"261.328125\" xlink:href=\"#MalgunGothic-48\"/>\r\n       <use x=\"316.40625\" xlink:href=\"#MalgunGothic-56\"/>\r\n       <use x=\"371.484375\" xlink:href=\"#MalgunGothic-45\"/>\r\n       <use x=\"412.5\" xlink:href=\"#MalgunGothic-48\"/>\r\n       <use x=\"467.578125\" xlink:href=\"#MalgunGothic-49\"/>\r\n       <use x=\"522.65625\" xlink:href=\"#MalgunGothic-32\"/>\r\n       <use x=\"557.8125\" xlink:href=\"#MalgunGothic-48\"/>\r\n       <use x=\"612.890625\" xlink:href=\"#MalgunGothic-48\"/>\r\n       <use x=\"667.96875\" xlink:href=\"#MalgunGothic-58\"/>\r\n       <use x=\"689.84375\" xlink:href=\"#MalgunGothic-48\"/>\r\n       <use x=\"744.921875\" xlink:href=\"#MalgunGothic-48\"/>\r\n       <use x=\"800\" xlink:href=\"#MalgunGothic-58\"/>\r\n       <use x=\"821.875\" xlink:href=\"#MalgunGothic-48\"/>\r\n       <use x=\"876.953125\" xlink:href=\"#MalgunGothic-48\"/>\r\n      </g>\r\n     </g>\r\n    </g>\r\n    <g id=\"xtick_9\">\r\n     <g id=\"line2d_9\">\r\n      <g>\r\n       <use style=\"stroke:#000000;stroke-width:0.8;\" x=\"267.873438\" xlink:href=\"#mf6e7414375\" y=\"224.64\"/>\r\n      </g>\r\n     </g>\r\n     <g id=\"text_9\">\r\n      <!-- 2014-09-01 00:00:00 -->\r\n      <g transform=\"translate(236.769578 302.913049)rotate(-45)scale(0.1 -0.1)\">\r\n       <defs>\r\n        <path d=\"M 8.6875 8.796875 \r\nQ 14.703125 5.375 21.34375 5.375 \r\nQ 31.15625 5.375 36.671875 13.359375 \r\nQ 42.1875 21.34375 42.1875 36.140625 \r\nQ 42.09375 36.03125 42 36.140625 \r\nQ 37.3125 26.765625 25.828125 26.765625 \r\nQ 16.546875 26.765625 10.65625 33.125 \r\nQ 4.78125 39.5 4.78125 49.125 \r\nQ 4.78125 59.46875 11.109375 66.25 \r\nQ 17.4375 73.046875 27.6875 73.046875 \r\nQ 38.53125 73.046875 44.265625 64.546875 \r\nQ 50 56.0625 50 40.28125 \r\nQ 50 20.609375 42.453125 9.6875 \r\nQ 34.90625 -1.21875 21 -1.21875 \r\nQ 13.765625 -1.21875 8.6875 1.21875 \r\nz\r\nM 12.703125 50.296875 \r\nQ 12.703125 42.828125 16.609375 38.28125 \r\nQ 20.515625 33.734375 27.484375 33.734375 \r\nQ 33.546875 33.734375 37.59375 37.765625 \r\nQ 41.65625 41.796875 41.65625 47.609375 \r\nQ 41.65625 55.5625 37.671875 60.984375 \r\nQ 33.6875 66.40625 26.953125 66.40625 \r\nQ 20.65625 66.40625 16.671875 61.6875 \r\nQ 12.703125 56.984375 12.703125 50.296875 \r\nz\r\n\" id=\"MalgunGothic-57\"/>\r\n       </defs>\r\n       <use xlink:href=\"#MalgunGothic-50\"/>\r\n       <use x=\"55.078125\" xlink:href=\"#MalgunGothic-48\"/>\r\n       <use x=\"110.15625\" xlink:href=\"#MalgunGothic-49\"/>\r\n       <use x=\"165.234375\" xlink:href=\"#MalgunGothic-52\"/>\r\n       <use x=\"220.3125\" xlink:href=\"#MalgunGothic-45\"/>\r\n       <use x=\"261.328125\" xlink:href=\"#MalgunGothic-48\"/>\r\n       <use x=\"316.40625\" xlink:href=\"#MalgunGothic-57\"/>\r\n       <use x=\"371.484375\" xlink:href=\"#MalgunGothic-45\"/>\r\n       <use x=\"412.5\" xlink:href=\"#MalgunGothic-48\"/>\r\n       <use x=\"467.578125\" xlink:href=\"#MalgunGothic-49\"/>\r\n       <use x=\"522.65625\" xlink:href=\"#MalgunGothic-32\"/>\r\n       <use x=\"557.8125\" xlink:href=\"#MalgunGothic-48\"/>\r\n       <use x=\"612.890625\" xlink:href=\"#MalgunGothic-48\"/>\r\n       <use x=\"667.96875\" xlink:href=\"#MalgunGothic-58\"/>\r\n       <use x=\"689.84375\" xlink:href=\"#MalgunGothic-48\"/>\r\n       <use x=\"744.921875\" xlink:href=\"#MalgunGothic-48\"/>\r\n       <use x=\"800\" xlink:href=\"#MalgunGothic-58\"/>\r\n       <use x=\"821.875\" xlink:href=\"#MalgunGothic-48\"/>\r\n       <use x=\"876.953125\" xlink:href=\"#MalgunGothic-48\"/>\r\n      </g>\r\n     </g>\r\n    </g>\r\n    <g id=\"xtick_10\">\r\n     <g id=\"line2d_10\">\r\n      <g>\r\n       <use style=\"stroke:#000000;stroke-width:0.8;\" x=\"295.773438\" xlink:href=\"#mf6e7414375\" y=\"224.64\"/>\r\n      </g>\r\n     </g>\r\n     <g id=\"text_10\">\r\n      <!-- 2014-10-01 00:00:00 -->\r\n      <g transform=\"translate(264.669578 302.913049)rotate(-45)scale(0.1 -0.1)\">\r\n       <use xlink:href=\"#MalgunGothic-50\"/>\r\n       <use x=\"55.078125\" xlink:href=\"#MalgunGothic-48\"/>\r\n       <use x=\"110.15625\" xlink:href=\"#MalgunGothic-49\"/>\r\n       <use x=\"165.234375\" xlink:href=\"#MalgunGothic-52\"/>\r\n       <use x=\"220.3125\" xlink:href=\"#MalgunGothic-45\"/>\r\n       <use x=\"261.328125\" xlink:href=\"#MalgunGothic-49\"/>\r\n       <use x=\"316.40625\" xlink:href=\"#MalgunGothic-48\"/>\r\n       <use x=\"371.484375\" xlink:href=\"#MalgunGothic-45\"/>\r\n       <use x=\"412.5\" xlink:href=\"#MalgunGothic-48\"/>\r\n       <use x=\"467.578125\" xlink:href=\"#MalgunGothic-49\"/>\r\n       <use x=\"522.65625\" xlink:href=\"#MalgunGothic-32\"/>\r\n       <use x=\"557.8125\" xlink:href=\"#MalgunGothic-48\"/>\r\n       <use x=\"612.890625\" xlink:href=\"#MalgunGothic-48\"/>\r\n       <use x=\"667.96875\" xlink:href=\"#MalgunGothic-58\"/>\r\n       <use x=\"689.84375\" xlink:href=\"#MalgunGothic-48\"/>\r\n       <use x=\"744.921875\" xlink:href=\"#MalgunGothic-48\"/>\r\n       <use x=\"800\" xlink:href=\"#MalgunGothic-58\"/>\r\n       <use x=\"821.875\" xlink:href=\"#MalgunGothic-48\"/>\r\n       <use x=\"876.953125\" xlink:href=\"#MalgunGothic-48\"/>\r\n      </g>\r\n     </g>\r\n    </g>\r\n    <g id=\"xtick_11\">\r\n     <g id=\"line2d_11\">\r\n      <g>\r\n       <use style=\"stroke:#000000;stroke-width:0.8;\" x=\"323.673437\" xlink:href=\"#mf6e7414375\" y=\"224.64\"/>\r\n      </g>\r\n     </g>\r\n     <g id=\"text_11\">\r\n      <!-- 2014-11-01 00:00:00 -->\r\n      <g transform=\"translate(292.569578 302.913049)rotate(-45)scale(0.1 -0.1)\">\r\n       <use xlink:href=\"#MalgunGothic-50\"/>\r\n       <use x=\"55.078125\" xlink:href=\"#MalgunGothic-48\"/>\r\n       <use x=\"110.15625\" xlink:href=\"#MalgunGothic-49\"/>\r\n       <use x=\"165.234375\" xlink:href=\"#MalgunGothic-52\"/>\r\n       <use x=\"220.3125\" xlink:href=\"#MalgunGothic-45\"/>\r\n       <use x=\"261.328125\" xlink:href=\"#MalgunGothic-49\"/>\r\n       <use x=\"316.40625\" xlink:href=\"#MalgunGothic-49\"/>\r\n       <use x=\"371.484375\" xlink:href=\"#MalgunGothic-45\"/>\r\n       <use x=\"412.5\" xlink:href=\"#MalgunGothic-48\"/>\r\n       <use x=\"467.578125\" xlink:href=\"#MalgunGothic-49\"/>\r\n       <use x=\"522.65625\" xlink:href=\"#MalgunGothic-32\"/>\r\n       <use x=\"557.8125\" xlink:href=\"#MalgunGothic-48\"/>\r\n       <use x=\"612.890625\" xlink:href=\"#MalgunGothic-48\"/>\r\n       <use x=\"667.96875\" xlink:href=\"#MalgunGothic-58\"/>\r\n       <use x=\"689.84375\" xlink:href=\"#MalgunGothic-48\"/>\r\n       <use x=\"744.921875\" xlink:href=\"#MalgunGothic-48\"/>\r\n       <use x=\"800\" xlink:href=\"#MalgunGothic-58\"/>\r\n       <use x=\"821.875\" xlink:href=\"#MalgunGothic-48\"/>\r\n       <use x=\"876.953125\" xlink:href=\"#MalgunGothic-48\"/>\r\n      </g>\r\n     </g>\r\n    </g>\r\n    <g id=\"xtick_12\">\r\n     <g id=\"line2d_12\">\r\n      <g>\r\n       <use style=\"stroke:#000000;stroke-width:0.8;\" x=\"351.573437\" xlink:href=\"#mf6e7414375\" y=\"224.64\"/>\r\n      </g>\r\n     </g>\r\n     <g id=\"text_12\">\r\n      <!-- 2014-12-01 00:00:00 -->\r\n      <g transform=\"translate(320.469578 302.913049)rotate(-45)scale(0.1 -0.1)\">\r\n       <use xlink:href=\"#MalgunGothic-50\"/>\r\n       <use x=\"55.078125\" xlink:href=\"#MalgunGothic-48\"/>\r\n       <use x=\"110.15625\" xlink:href=\"#MalgunGothic-49\"/>\r\n       <use x=\"165.234375\" xlink:href=\"#MalgunGothic-52\"/>\r\n       <use x=\"220.3125\" xlink:href=\"#MalgunGothic-45\"/>\r\n       <use x=\"261.328125\" xlink:href=\"#MalgunGothic-49\"/>\r\n       <use x=\"316.40625\" xlink:href=\"#MalgunGothic-50\"/>\r\n       <use x=\"371.484375\" xlink:href=\"#MalgunGothic-45\"/>\r\n       <use x=\"412.5\" xlink:href=\"#MalgunGothic-48\"/>\r\n       <use x=\"467.578125\" xlink:href=\"#MalgunGothic-49\"/>\r\n       <use x=\"522.65625\" xlink:href=\"#MalgunGothic-32\"/>\r\n       <use x=\"557.8125\" xlink:href=\"#MalgunGothic-48\"/>\r\n       <use x=\"612.890625\" xlink:href=\"#MalgunGothic-48\"/>\r\n       <use x=\"667.96875\" xlink:href=\"#MalgunGothic-58\"/>\r\n       <use x=\"689.84375\" xlink:href=\"#MalgunGothic-48\"/>\r\n       <use x=\"744.921875\" xlink:href=\"#MalgunGothic-48\"/>\r\n       <use x=\"800\" xlink:href=\"#MalgunGothic-58\"/>\r\n       <use x=\"821.875\" xlink:href=\"#MalgunGothic-48\"/>\r\n       <use x=\"876.953125\" xlink:href=\"#MalgunGothic-48\"/>\r\n      </g>\r\n     </g>\r\n    </g>\r\n    <g id=\"text_13\">\r\n     <!-- 구분 -->\r\n     <g transform=\"translate(188.123438 316.176881)scale(0.1 -0.1)\">\r\n      <defs>\r\n       <path d=\"M 45.515625 -8.796875 \r\nL 45.515625 34.8125 \r\nL 6.296875 34.8125 \r\nL 6.296875 41.40625 \r\nL 71.78125 41.40625 \r\nQ 72.90625 52.984375 72.90625 74.8125 \r\nL 20.515625 74.8125 \r\nL 20.515625 81.296875 \r\nL 80.171875 81.296875 \r\nQ 80.171875 57.125 78.8125 41.40625 \r\nL 93.703125 41.40625 \r\nL 93.703125 34.8125 \r\nL 52.78125 34.8125 \r\nL 52.78125 -8.796875 \r\nz\r\n\" id=\"MalgunGothic-44396\"/>\r\n       <path d=\"M 20.90625 46.78125 \r\nL 20.90625 82.90625 \r\nL 28.21875 82.90625 \r\nL 28.21875 70.703125 \r\nL 71.78125 70.703125 \r\nL 71.78125 82.90625 \r\nL 79 82.90625 \r\nL 79 46.78125 \r\nz\r\nM 71.78125 64.203125 \r\nL 28.21875 64.203125 \r\nL 28.21875 53.21875 \r\nL 71.78125 53.21875 \r\nz\r\nM 54 29.109375 \r\nL 54 7.71875 \r\nL 46.6875 7.71875 \r\nL 46.6875 29.109375 \r\nL 6.296875 29.109375 \r\nL 6.296875 35.59375 \r\nL 93.703125 35.59375 \r\nL 93.703125 29.109375 \r\nz\r\nM 20.125 -6 \r\nL 20.125 21 \r\nL 27.390625 21 \r\nL 27.390625 0.484375 \r\nL 81.5 0.484375 \r\nL 81.5 -6 \r\nz\r\n\" id=\"MalgunGothic-48516\"/>\r\n      </defs>\r\n      <use xlink:href=\"#MalgunGothic-44396\"/>\r\n      <use x=\"100\" xlink:href=\"#MalgunGothic-48516\"/>\r\n     </g>\r\n    </g>\r\n   </g>\r\n   <g id=\"matplotlib.axis_2\">\r\n    <g id=\"ytick_1\">\r\n     <g id=\"line2d_13\">\r\n      <defs>\r\n       <path d=\"M 0 0 \r\nL -3.5 0 \r\n\" id=\"ma210dca5c8\" style=\"stroke:#000000;stroke-width:0.8;\"/>\r\n      </defs>\r\n      <g>\r\n       <use style=\"stroke:#000000;stroke-width:0.8;\" x=\"30.723438\" xlink:href=\"#ma210dca5c8\" y=\"224.64\"/>\r\n      </g>\r\n     </g>\r\n     <g id=\"text_14\">\r\n      <!-- 0 -->\r\n      <g transform=\"translate(18.215625 228.436094)scale(0.1 -0.1)\">\r\n       <use xlink:href=\"#MalgunGothic-48\"/>\r\n      </g>\r\n     </g>\r\n    </g>\r\n    <g id=\"ytick_2\">\r\n     <g id=\"line2d_14\">\r\n      <g>\r\n       <use style=\"stroke:#000000;stroke-width:0.8;\" x=\"30.723438\" xlink:href=\"#ma210dca5c8\" y=\"180.951031\"/>\r\n      </g>\r\n     </g>\r\n     <g id=\"text_15\">\r\n      <!-- 100 -->\r\n      <g transform=\"translate(7.2 184.747124)scale(0.1 -0.1)\">\r\n       <use xlink:href=\"#MalgunGothic-49\"/>\r\n       <use x=\"55.078125\" xlink:href=\"#MalgunGothic-48\"/>\r\n       <use x=\"110.15625\" xlink:href=\"#MalgunGothic-48\"/>\r\n      </g>\r\n     </g>\r\n    </g>\r\n    <g id=\"ytick_3\">\r\n     <g id=\"line2d_15\">\r\n      <g>\r\n       <use style=\"stroke:#000000;stroke-width:0.8;\" x=\"30.723438\" xlink:href=\"#ma210dca5c8\" y=\"137.262061\"/>\r\n      </g>\r\n     </g>\r\n     <g id=\"text_16\">\r\n      <!-- 200 -->\r\n      <g transform=\"translate(7.2 141.058155)scale(0.1 -0.1)\">\r\n       <use xlink:href=\"#MalgunGothic-50\"/>\r\n       <use x=\"55.078125\" xlink:href=\"#MalgunGothic-48\"/>\r\n       <use x=\"110.15625\" xlink:href=\"#MalgunGothic-48\"/>\r\n      </g>\r\n     </g>\r\n    </g>\r\n    <g id=\"ytick_4\">\r\n     <g id=\"line2d_16\">\r\n      <g>\r\n       <use style=\"stroke:#000000;stroke-width:0.8;\" x=\"30.723438\" xlink:href=\"#ma210dca5c8\" y=\"93.573092\"/>\r\n      </g>\r\n     </g>\r\n     <g id=\"text_17\">\r\n      <!-- 300 -->\r\n      <g transform=\"translate(7.2 97.369186)scale(0.1 -0.1)\">\r\n       <use xlink:href=\"#MalgunGothic-51\"/>\r\n       <use x=\"55.078125\" xlink:href=\"#MalgunGothic-48\"/>\r\n       <use x=\"110.15625\" xlink:href=\"#MalgunGothic-48\"/>\r\n      </g>\r\n     </g>\r\n    </g>\r\n    <g id=\"ytick_5\">\r\n     <g id=\"line2d_17\">\r\n      <g>\r\n       <use style=\"stroke:#000000;stroke-width:0.8;\" x=\"30.723438\" xlink:href=\"#ma210dca5c8\" y=\"49.884123\"/>\r\n      </g>\r\n     </g>\r\n     <g id=\"text_18\">\r\n      <!-- 400 -->\r\n      <g transform=\"translate(7.2 53.680217)scale(0.1 -0.1)\">\r\n       <use xlink:href=\"#MalgunGothic-52\"/>\r\n       <use x=\"55.078125\" xlink:href=\"#MalgunGothic-48\"/>\r\n       <use x=\"110.15625\" xlink:href=\"#MalgunGothic-48\"/>\r\n      </g>\r\n     </g>\r\n    </g>\r\n   </g>\r\n   <g id=\"patch_27\">\r\n    <path d=\"M 30.723438 224.64 \r\nL 30.723438 7.2 \r\n\" style=\"fill:none;stroke:#000000;stroke-linecap:square;stroke-linejoin:miter;stroke-width:0.8;\"/>\r\n   </g>\r\n   <g id=\"patch_28\">\r\n    <path d=\"M 365.523438 224.64 \r\nL 365.523438 7.2 \r\n\" style=\"fill:none;stroke:#000000;stroke-linecap:square;stroke-linejoin:miter;stroke-width:0.8;\"/>\r\n   </g>\r\n   <g id=\"patch_29\">\r\n    <path d=\"M 30.723438 224.64 \r\nL 365.523438 224.64 \r\n\" style=\"fill:none;stroke:#000000;stroke-linecap:square;stroke-linejoin:miter;stroke-width:0.8;\"/>\r\n   </g>\r\n   <g id=\"patch_30\">\r\n    <path d=\"M 30.723438 7.2 \r\nL 365.523438 7.2 \r\n\" style=\"fill:none;stroke:#000000;stroke-linecap:square;stroke-linejoin:miter;stroke-width:0.8;\"/>\r\n   </g>\r\n   <g id=\"legend_1\">\r\n    <g id=\"patch_31\">\r\n     <path d=\"M 290.429688 45.54375 \r\nL 358.523438 45.54375 \r\nQ 360.523438 45.54375 360.523438 43.54375 \r\nL 360.523438 14.2 \r\nQ 360.523438 12.2 358.523438 12.2 \r\nL 290.429688 12.2 \r\nQ 288.429688 12.2 288.429688 14.2 \r\nL 288.429688 43.54375 \r\nQ 288.429688 45.54375 290.429688 45.54375 \r\nz\r\n\" style=\"fill:#ffffff;opacity:0.8;stroke:#cccccc;stroke-linejoin:miter;\"/>\r\n    </g>\r\n    <g id=\"patch_32\">\r\n     <path d=\"M 292.429688 24.007812 \r\nL 312.429688 24.007812 \r\nL 312.429688 17.007812 \r\nL 292.429688 17.007812 \r\nz\r\n\" style=\"fill:#1f77b4;\"/>\r\n    </g>\r\n    <g id=\"text_19\">\r\n     <!-- 사망(명) -->\r\n     <g transform=\"translate(320.429688 24.007812)scale(0.1 -0.1)\">\r\n      <defs>\r\n       <path d=\"M 79.59375 40.625 \r\nL 79.59375 -8.796875 \r\nL 72.3125 -8.796875 \r\nL 72.3125 85.40625 \r\nL 79.59375 85.40625 \r\nL 79.59375 47.125 \r\nL 95.90625 47.125 \r\nL 95.90625 40.625 \r\nz\r\nM 58.5 15.09375 \r\nQ 50.53125 21.1875 43.75 30.25 \r\nQ 36.96875 39.3125 34.90625 46.09375 \r\nQ 32.71875 38.625 26.125 29.421875 \r\nQ 19.53125 20.21875 11.53125 13.921875 \r\nL 5.90625 18.796875 \r\nQ 17.4375 26.609375 24.3125 38.734375 \r\nQ 31.203125 50.875 31.203125 63.484375 \r\nL 31.203125 78.90625 \r\nL 38.484375 78.90625 \r\nL 38.484375 63.8125 \r\nQ 38.484375 51.515625 45.28125 39.890625 \r\nQ 52.09375 28.265625 63.625 20.796875 \r\nz\r\n\" id=\"MalgunGothic-49324\"/>\r\n       <path d=\"M 80.078125 52.78125 \r\nL 80.078125 31.109375 \r\nL 72.796875 31.109375 \r\nL 72.796875 85.40625 \r\nL 80.078125 85.40625 \r\nL 80.078125 59.28125 \r\nL 94.28125 59.28125 \r\nL 94.28125 52.78125 \r\nz\r\nM 11.921875 36.921875 \r\nL 11.921875 80.21875 \r\nL 54.59375 80.21875 \r\nL 54.59375 36.921875 \r\nz\r\nM 47.40625 73.78125 \r\nL 19.09375 73.78125 \r\nL 19.09375 43.40625 \r\nL 47.40625 43.40625 \r\nz\r\nM 51.3125 -7.421875 \r\nQ 36.578125 -7.421875 28.546875 -2.3125 \r\nQ 20.515625 2.78125 20.515625 10.890625 \r\nQ 20.515625 19 28.515625 24.046875 \r\nQ 36.53125 29.109375 51.3125 29.109375 \r\nQ 66.15625 29.109375 74.109375 24.046875 \r\nQ 82.078125 19 82.078125 10.890625 \r\nQ 82.078125 2.78125 74.09375 -2.3125 \r\nQ 66.109375 -7.421875 51.3125 -7.421875 \r\nz\r\nM 51.3125 22.90625 \r\nQ 40.140625 22.90625 34.234375 19.5 \r\nQ 28.328125 16.109375 28.328125 10.890625 \r\nQ 28.328125 5.609375 34.25 2.234375 \r\nQ 40.1875 -1.125 51.3125 -1.125 \r\nQ 62.40625 -1.125 68.359375 2.21875 \r\nQ 74.3125 5.5625 74.3125 10.890625 \r\nQ 74.3125 16.15625 68.40625 19.53125 \r\nQ 62.5 22.90625 51.3125 22.90625 \r\nz\r\n\" id=\"MalgunGothic-47581\"/>\r\n       <path d=\"M 22.46875 -16.3125 \r\nQ 6.984375 1.375 6.984375 27.390625 \r\nQ 6.984375 53.609375 22.46875 71.875 \r\nL 29.5 71.875 \r\nQ 13.71875 52.6875 13.71875 27.484375 \r\nQ 13.71875 2.390625 29.390625 -16.3125 \r\nz\r\n\" id=\"MalgunGothic-40\"/>\r\n       <path d=\"M 15.375 36.28125 \r\nL 15.375 81.109375 \r\nL 58.6875 81.109375 \r\nL 58.6875 71.6875 \r\nL 77.390625 71.6875 \r\nL 77.390625 85.40625 \r\nL 84.71875 85.40625 \r\nL 84.71875 27.875 \r\nL 77.390625 27.875 \r\nL 77.390625 45.515625 \r\nL 58.6875 45.515625 \r\nL 58.6875 36.28125 \r\nz\r\nM 51.515625 74.609375 \r\nL 22.703125 74.609375 \r\nL 22.703125 42.828125 \r\nL 51.515625 42.828125 \r\nz\r\nM 58.6875 51.8125 \r\nL 77.390625 51.8125 \r\nL 77.390625 65.375 \r\nL 58.6875 65.375 \r\nz\r\nM 54.6875 -7.90625 \r\nQ 39.9375 -7.90625 31.90625 -2.796875 \r\nQ 23.875 2.296875 23.875 10.40625 \r\nQ 23.875 18.5 31.90625 23.609375 \r\nQ 39.9375 28.71875 54.6875 28.71875 \r\nQ 69.4375 28.71875 77.46875 23.609375 \r\nQ 85.5 18.5 85.5 10.40625 \r\nQ 85.5 2.296875 77.46875 -2.796875 \r\nQ 69.4375 -7.90625 54.6875 -7.90625 \r\nz\r\nM 54.6875 22.515625 \r\nQ 43.453125 22.515625 37.5625 19.09375 \r\nQ 31.6875 15.671875 31.6875 10.40625 \r\nQ 31.6875 5.125 37.625 1.75 \r\nQ 43.5625 -1.609375 54.6875 -1.609375 \r\nQ 65.765625 -1.609375 71.71875 1.734375 \r\nQ 77.6875 5.078125 77.6875 10.40625 \r\nQ 77.6875 15.71875 71.796875 19.109375 \r\nQ 65.921875 22.515625 54.6875 22.515625 \r\nz\r\n\" id=\"MalgunGothic-47749\"/>\r\n       <path d=\"M 1.265625 -16.3125 \r\nQ 16.890625 2.34375 16.890625 27.484375 \r\nQ 16.890625 52.78125 1.125 71.875 \r\nL 8.203125 71.875 \r\nQ 23.78125 53.609375 23.78125 27.390625 \r\nQ 23.78125 1.375 8.203125 -16.3125 \r\nz\r\n\" id=\"MalgunGothic-41\"/>\r\n      </defs>\r\n      <use xlink:href=\"#MalgunGothic-49324\"/>\r\n      <use x=\"100\" xlink:href=\"#MalgunGothic-47581\"/>\r\n      <use x=\"200\" xlink:href=\"#MalgunGothic-40\"/>\r\n      <use x=\"230.46875\" xlink:href=\"#MalgunGothic-47749\"/>\r\n      <use x=\"330.46875\" xlink:href=\"#MalgunGothic-41\"/>\r\n     </g>\r\n    </g>\r\n    <g id=\"patch_33\">\r\n     <path d=\"M 292.429688 39.179688 \r\nL 312.429688 39.179688 \r\nL 312.429688 32.179688 \r\nL 292.429688 32.179688 \r\nz\r\n\" style=\"fill:#ff7f0e;\"/>\r\n    </g>\r\n    <g id=\"text_20\">\r\n     <!-- 부상(명) -->\r\n     <g transform=\"translate(320.429688 39.179688)scale(0.1 -0.1)\">\r\n      <defs>\r\n       <path d=\"M 20.40625 44.09375 \r\nL 20.40625 82.625 \r\nL 27.59375 82.625 \r\nL 27.59375 69.1875 \r\nL 72.40625 69.1875 \r\nL 72.40625 82.625 \r\nL 79.59375 82.625 \r\nL 79.59375 44.09375 \r\nz\r\nM 72.40625 62.796875 \r\nL 27.59375 62.796875 \r\nL 27.59375 50.484375 \r\nL 72.40625 50.484375 \r\nz\r\nM 53.609375 25.296875 \r\nL 53.609375 -8.796875 \r\nL 46.296875 -8.796875 \r\nL 46.296875 25.296875 \r\nL 6.296875 25.296875 \r\nL 6.296875 31.890625 \r\nL 93.703125 31.890625 \r\nL 93.703125 25.296875 \r\nz\r\n\" id=\"MalgunGothic-48512\"/>\r\n       <path d=\"M 80.078125 52.984375 \r\nL 80.078125 31.109375 \r\nL 72.796875 31.109375 \r\nL 72.796875 85.40625 \r\nL 80.078125 85.40625 \r\nL 80.078125 59.625 \r\nL 94.28125 59.625 \r\nL 94.28125 52.984375 \r\nz\r\nM 56.296875 36.1875 \r\nQ 50.09375 39.5 43.40625 45.84375 \r\nQ 36.71875 52.203125 34.1875 57.515625 \r\nQ 31.59375 51.421875 25.140625 44.5625 \r\nQ 18.703125 37.703125 11.71875 33.796875 \r\nL 6.390625 38.8125 \r\nQ 16.75 43.84375 23.625 53.078125 \r\nQ 30.515625 62.3125 30.515625 72.3125 \r\nL 30.515625 82.171875 \r\nL 37.5 82.171875 \r\nL 37.5 72.3125 \r\nQ 37.5 62.890625 44.453125 54.25 \r\nQ 51.421875 45.609375 61.078125 41.5 \r\nz\r\nM 50.984375 -8.015625 \r\nQ 36.28125 -8.015625 28.296875 -2.90625 \r\nQ 20.3125 2.203125 20.3125 10.296875 \r\nQ 20.3125 18.359375 28.3125 23.4375 \r\nQ 36.328125 28.515625 50.984375 28.515625 \r\nQ 65.671875 28.515625 73.671875 23.453125 \r\nQ 81.6875 18.40625 81.6875 10.296875 \r\nQ 81.6875 2.15625 73.703125 -2.921875 \r\nQ 65.71875 -8.015625 50.984375 -8.015625 \r\nz\r\nM 50.984375 22.3125 \r\nQ 40.046875 22.3125 34.0625 18.984375 \r\nQ 28.078125 15.671875 28.078125 10.296875 \r\nQ 28.078125 4.828125 34.078125 1.5 \r\nQ 40.09375 -1.8125 50.984375 -1.8125 \r\nQ 62.015625 -1.8125 68.015625 1.53125 \r\nQ 74.03125 4.890625 74.03125 10.296875 \r\nQ 74.03125 15.625 68.015625 18.96875 \r\nQ 62.015625 22.3125 50.984375 22.3125 \r\nz\r\n\" id=\"MalgunGothic-49345\"/>\r\n      </defs>\r\n      <use xlink:href=\"#MalgunGothic-48512\"/>\r\n      <use x=\"100\" xlink:href=\"#MalgunGothic-49345\"/>\r\n      <use x=\"200\" xlink:href=\"#MalgunGothic-40\"/>\r\n      <use x=\"230.46875\" xlink:href=\"#MalgunGothic-47749\"/>\r\n      <use x=\"330.46875\" xlink:href=\"#MalgunGothic-41\"/>\r\n     </g>\r\n    </g>\r\n   </g>\r\n  </g>\r\n </g>\r\n <defs>\r\n  <clipPath id=\"p7bb0c51b10\">\r\n   <rect height=\"217.44\" width=\"334.8\" x=\"30.723438\" y=\"7.2\"/>\r\n  </clipPath>\r\n </defs>\r\n</svg>\r\n",
      "image/png": "[encoded data removed]"
     },
     "metadata": {
      "needs_background": "light"
     }
    }
   ],
   "source": [
    "df6.plot(kind='bar', rot=45)"
   ]
  },
  {
   "source": [
    "### 6. 2015년 대비  사망이 가장 많이 증가한 2016년 도 월을 구하시요"
   ],
   "cell_type": "markdown",
   "metadata": {}
  },
  {
   "cell_type": "code",
   "execution_count": 81,
   "metadata": {},
   "outputs": [
    {
     "output_type": "execute_result",
     "data": {
      "text/plain": [
       "구분\n",
       "2016-05-01    4\n",
       "2016-06-01    4\n",
       "Name: 사망(명), dtype: int64"
      ]
     },
     "metadata": {},
     "execution_count": 81
    }
   ],
   "source": [
    "df6 = df5['2016']['사망(명)']-df5['2015']['사망(명)'].values\n",
    "df6.nlargest(1, keep='all')"
   ]
  }
 ]
}