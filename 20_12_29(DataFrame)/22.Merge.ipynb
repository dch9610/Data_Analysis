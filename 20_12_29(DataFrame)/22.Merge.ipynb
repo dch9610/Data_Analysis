{
 "metadata": {
  "language_info": {
   "codemirror_mode": {
    "name": "ipython",
    "version": 3
   },
   "file_extension": ".py",
   "mimetype": "text/x-python",
   "name": "python",
   "nbconvert_exporter": "python",
   "pygments_lexer": "ipython3",
   "version": "3.8.5-final"
  },
  "orig_nbformat": 2,
  "kernelspec": {
   "name": "python3",
   "display_name": "Python 3",
   "language": "python"
  }
 },
 "nbformat": 4,
 "nbformat_minor": 2,
 "cells": [
  {
   "cell_type": "code",
   "execution_count": 1,
   "metadata": {},
   "outputs": [],
   "source": [
    "import pandas as pd\n",
    "import numpy as np\n",
    "\n",
    "import matplotlib.pyplot as plt\n",
    "import matplotlib\n",
    "matplotlib.rcParams['font.family']='Malgun Gothic'\n",
    "matplotlib.rcParams['axes.unicode_minus']=False\n"
   ]
  },
  {
   "cell_type": "code",
   "execution_count": 2,
   "metadata": {},
   "outputs": [],
   "source": [
    "employee = [{'empno':1, 'ename':'kim', 'dept':1},\n",
    "            {'empno':2, 'ename':'lee', 'dept':2},\n",
    "            {'empno':3, 'ename':'park', 'dept':1},\n",
    "            {'empno':4, 'ename':'song', 'dept':3},\n",
    "            {'empno':5, 'ename':'min', 'dept':2}\n",
    "           ]\n",
    "dept=[{'dept':1, 'deptname':'관리직'},\n",
    "      {'dept':2, 'deptname':'영업직'},\n",
    "      {'dept':3, 'deptname':'개발직'}\n",
    "     ]\n",
    "info =[{'empno':1, 'addr':'서울시','phone':'010-1111-1111'},\n",
    "       {'empno':3, 'addr':'부산시','phone':'010-2222-2222'},\n",
    "       {'empno':2, 'addr':'광주시','phone':'010-3333-3333'},\n",
    "       {'empno':5, 'addr':'광주시','phone':'010-4444-4444'},\n",
    "       {'empno':4, 'addr':'광주시','phone':'010-5555-5555'}\n",
    "      ]\n"
   ]
  },
  {
   "cell_type": "code",
   "execution_count": 3,
   "metadata": {},
   "outputs": [],
   "source": [
    "emp = pd.DataFrame(employee)\n",
    "dept = pd.DataFrame(dept)\n",
    "info = pd.DataFrame(info)"
   ]
  },
  {
   "cell_type": "code",
   "execution_count": 4,
   "metadata": {},
   "outputs": [
    {
     "output_type": "execute_result",
     "data": {
      "text/plain": [
       "   empno ename  dept\n",
       "0      1   kim     1\n",
       "1      2   lee     2\n",
       "2      3  park     1\n",
       "3      4  song     3\n",
       "4      5   min     2"
      ],
      "text/html": "<div>\n<style scoped>\n    .dataframe tbody tr th:only-of-type {\n        vertical-align: middle;\n    }\n\n    .dataframe tbody tr th {\n        vertical-align: top;\n    }\n\n    .dataframe thead th {\n        text-align: right;\n    }\n</style>\n<table border=\"1\" class=\"dataframe\">\n  <thead>\n    <tr style=\"text-align: right;\">\n      <th></th>\n      <th>empno</th>\n      <th>ename</th>\n      <th>dept</th>\n    </tr>\n  </thead>\n  <tbody>\n    <tr>\n      <th>0</th>\n      <td>1</td>\n      <td>kim</td>\n      <td>1</td>\n    </tr>\n    <tr>\n      <th>1</th>\n      <td>2</td>\n      <td>lee</td>\n      <td>2</td>\n    </tr>\n    <tr>\n      <th>2</th>\n      <td>3</td>\n      <td>park</td>\n      <td>1</td>\n    </tr>\n    <tr>\n      <th>3</th>\n      <td>4</td>\n      <td>song</td>\n      <td>3</td>\n    </tr>\n    <tr>\n      <th>4</th>\n      <td>5</td>\n      <td>min</td>\n      <td>2</td>\n    </tr>\n  </tbody>\n</table>\n</div>"
     },
     "metadata": {},
     "execution_count": 4
    }
   ],
   "source": [
    "emp"
   ]
  },
  {
   "cell_type": "code",
   "execution_count": 5,
   "metadata": {},
   "outputs": [
    {
     "output_type": "execute_result",
     "data": {
      "text/plain": [
       "   dept deptname\n",
       "0     1      관리직\n",
       "1     2      영업직\n",
       "2     3      개발직"
      ],
      "text/html": "<div>\n<style scoped>\n    .dataframe tbody tr th:only-of-type {\n        vertical-align: middle;\n    }\n\n    .dataframe tbody tr th {\n        vertical-align: top;\n    }\n\n    .dataframe thead th {\n        text-align: right;\n    }\n</style>\n<table border=\"1\" class=\"dataframe\">\n  <thead>\n    <tr style=\"text-align: right;\">\n      <th></th>\n      <th>dept</th>\n      <th>deptname</th>\n    </tr>\n  </thead>\n  <tbody>\n    <tr>\n      <th>0</th>\n      <td>1</td>\n      <td>관리직</td>\n    </tr>\n    <tr>\n      <th>1</th>\n      <td>2</td>\n      <td>영업직</td>\n    </tr>\n    <tr>\n      <th>2</th>\n      <td>3</td>\n      <td>개발직</td>\n    </tr>\n  </tbody>\n</table>\n</div>"
     },
     "metadata": {},
     "execution_count": 5
    }
   ],
   "source": [
    "dept"
   ]
  },
  {
   "cell_type": "code",
   "execution_count": 6,
   "metadata": {},
   "outputs": [
    {
     "output_type": "execute_result",
     "data": {
      "text/plain": [
       "   empno addr          phone\n",
       "0      1  서울시  010-1111-1111\n",
       "1      3  부산시  010-2222-2222\n",
       "2      2  광주시  010-3333-3333\n",
       "3      5  광주시  010-4444-4444\n",
       "4      4  광주시  010-5555-5555"
      ],
      "text/html": "<div>\n<style scoped>\n    .dataframe tbody tr th:only-of-type {\n        vertical-align: middle;\n    }\n\n    .dataframe tbody tr th {\n        vertical-align: top;\n    }\n\n    .dataframe thead th {\n        text-align: right;\n    }\n</style>\n<table border=\"1\" class=\"dataframe\">\n  <thead>\n    <tr style=\"text-align: right;\">\n      <th></th>\n      <th>empno</th>\n      <th>addr</th>\n      <th>phone</th>\n    </tr>\n  </thead>\n  <tbody>\n    <tr>\n      <th>0</th>\n      <td>1</td>\n      <td>서울시</td>\n      <td>010-1111-1111</td>\n    </tr>\n    <tr>\n      <th>1</th>\n      <td>3</td>\n      <td>부산시</td>\n      <td>010-2222-2222</td>\n    </tr>\n    <tr>\n      <th>2</th>\n      <td>2</td>\n      <td>광주시</td>\n      <td>010-3333-3333</td>\n    </tr>\n    <tr>\n      <th>3</th>\n      <td>5</td>\n      <td>광주시</td>\n      <td>010-4444-4444</td>\n    </tr>\n    <tr>\n      <th>4</th>\n      <td>4</td>\n      <td>광주시</td>\n      <td>010-5555-5555</td>\n    </tr>\n  </tbody>\n</table>\n</div>"
     },
     "metadata": {},
     "execution_count": 6
    }
   ],
   "source": [
    "info"
   ]
  },
  {
   "source": [
    "### merge(병합)\n",
    "- 반드시 공통 컬럼이 있어야함"
   ],
   "cell_type": "markdown",
   "metadata": {}
  },
  {
   "cell_type": "code",
   "execution_count": 20,
   "metadata": {},
   "outputs": [],
   "source": [
    "# merge(왼쪽, 오른쪽, on=병합할 기준컬럼)\n",
    "mg = pd.merge(emp,dept, on='dept')\n",
    "mg.drop(columns=['dept'], inplace=True)"
   ]
  },
  {
   "cell_type": "code",
   "execution_count": 21,
   "metadata": {},
   "outputs": [
    {
     "output_type": "execute_result",
     "data": {
      "text/plain": [
       "   empno ename deptname\n",
       "0      1   kim      관리직\n",
       "1      3  park      관리직\n",
       "2      2   lee      영업직\n",
       "3      5   min      영업직\n",
       "4      4  song      개발직"
      ],
      "text/html": "<div>\n<style scoped>\n    .dataframe tbody tr th:only-of-type {\n        vertical-align: middle;\n    }\n\n    .dataframe tbody tr th {\n        vertical-align: top;\n    }\n\n    .dataframe thead th {\n        text-align: right;\n    }\n</style>\n<table border=\"1\" class=\"dataframe\">\n  <thead>\n    <tr style=\"text-align: right;\">\n      <th></th>\n      <th>empno</th>\n      <th>ename</th>\n      <th>deptname</th>\n    </tr>\n  </thead>\n  <tbody>\n    <tr>\n      <th>0</th>\n      <td>1</td>\n      <td>kim</td>\n      <td>관리직</td>\n    </tr>\n    <tr>\n      <th>1</th>\n      <td>3</td>\n      <td>park</td>\n      <td>관리직</td>\n    </tr>\n    <tr>\n      <th>2</th>\n      <td>2</td>\n      <td>lee</td>\n      <td>영업직</td>\n    </tr>\n    <tr>\n      <th>3</th>\n      <td>5</td>\n      <td>min</td>\n      <td>영업직</td>\n    </tr>\n    <tr>\n      <th>4</th>\n      <td>4</td>\n      <td>song</td>\n      <td>개발직</td>\n    </tr>\n  </tbody>\n</table>\n</div>"
     },
     "metadata": {},
     "execution_count": 21
    }
   ],
   "source": [
    "mg"
   ]
  },
  {
   "cell_type": "code",
   "execution_count": 24,
   "metadata": {},
   "outputs": [],
   "source": [
    "mg1 = pd.merge(mg, info, on='empno')\n",
    "mg1.drop(columns=['empno'], inplace=True)"
   ]
  },
  {
   "cell_type": "code",
   "execution_count": 25,
   "metadata": {},
   "outputs": [
    {
     "output_type": "execute_result",
     "data": {
      "text/plain": [
       "  ename deptname addr          phone\n",
       "0   kim      관리직  서울시  010-1111-1111\n",
       "1  park      관리직  부산시  010-2222-2222\n",
       "2   lee      영업직  광주시  010-3333-3333\n",
       "3   min      영업직  광주시  010-4444-4444\n",
       "4  song      개발직  광주시  010-5555-5555"
      ],
      "text/html": "<div>\n<style scoped>\n    .dataframe tbody tr th:only-of-type {\n        vertical-align: middle;\n    }\n\n    .dataframe tbody tr th {\n        vertical-align: top;\n    }\n\n    .dataframe thead th {\n        text-align: right;\n    }\n</style>\n<table border=\"1\" class=\"dataframe\">\n  <thead>\n    <tr style=\"text-align: right;\">\n      <th></th>\n      <th>ename</th>\n      <th>deptname</th>\n      <th>addr</th>\n      <th>phone</th>\n    </tr>\n  </thead>\n  <tbody>\n    <tr>\n      <th>0</th>\n      <td>kim</td>\n      <td>관리직</td>\n      <td>서울시</td>\n      <td>010-1111-1111</td>\n    </tr>\n    <tr>\n      <th>1</th>\n      <td>park</td>\n      <td>관리직</td>\n      <td>부산시</td>\n      <td>010-2222-2222</td>\n    </tr>\n    <tr>\n      <th>2</th>\n      <td>lee</td>\n      <td>영업직</td>\n      <td>광주시</td>\n      <td>010-3333-3333</td>\n    </tr>\n    <tr>\n      <th>3</th>\n      <td>min</td>\n      <td>영업직</td>\n      <td>광주시</td>\n      <td>010-4444-4444</td>\n    </tr>\n    <tr>\n      <th>4</th>\n      <td>song</td>\n      <td>개발직</td>\n      <td>광주시</td>\n      <td>010-5555-5555</td>\n    </tr>\n  </tbody>\n</table>\n</div>"
     },
     "metadata": {},
     "execution_count": 25
    }
   ],
   "source": [
    "mg1"
   ]
  },
  {
   "source": [
    "### 결합\n",
    "- 공통컬럼 X"
   ],
   "cell_type": "markdown",
   "metadata": {}
  },
  {
   "cell_type": "code",
   "execution_count": 28,
   "metadata": {},
   "outputs": [
    {
     "output_type": "execute_result",
     "data": {
      "text/plain": [
       "   empno ename  dept deptname\n",
       "0    1.0   kim     1      NaN\n",
       "1    2.0   lee     2      NaN\n",
       "2    3.0  park     1      NaN\n",
       "3    4.0  song     3      NaN\n",
       "4    5.0   min     2      NaN\n",
       "0    NaN   NaN     1      관리직\n",
       "1    NaN   NaN     2      영업직\n",
       "2    NaN   NaN     3      개발직"
      ],
      "text/html": "<div>\n<style scoped>\n    .dataframe tbody tr th:only-of-type {\n        vertical-align: middle;\n    }\n\n    .dataframe tbody tr th {\n        vertical-align: top;\n    }\n\n    .dataframe thead th {\n        text-align: right;\n    }\n</style>\n<table border=\"1\" class=\"dataframe\">\n  <thead>\n    <tr style=\"text-align: right;\">\n      <th></th>\n      <th>empno</th>\n      <th>ename</th>\n      <th>dept</th>\n      <th>deptname</th>\n    </tr>\n  </thead>\n  <tbody>\n    <tr>\n      <th>0</th>\n      <td>1.0</td>\n      <td>kim</td>\n      <td>1</td>\n      <td>NaN</td>\n    </tr>\n    <tr>\n      <th>1</th>\n      <td>2.0</td>\n      <td>lee</td>\n      <td>2</td>\n      <td>NaN</td>\n    </tr>\n    <tr>\n      <th>2</th>\n      <td>3.0</td>\n      <td>park</td>\n      <td>1</td>\n      <td>NaN</td>\n    </tr>\n    <tr>\n      <th>3</th>\n      <td>4.0</td>\n      <td>song</td>\n      <td>3</td>\n      <td>NaN</td>\n    </tr>\n    <tr>\n      <th>4</th>\n      <td>5.0</td>\n      <td>min</td>\n      <td>2</td>\n      <td>NaN</td>\n    </tr>\n    <tr>\n      <th>0</th>\n      <td>NaN</td>\n      <td>NaN</td>\n      <td>1</td>\n      <td>관리직</td>\n    </tr>\n    <tr>\n      <th>1</th>\n      <td>NaN</td>\n      <td>NaN</td>\n      <td>2</td>\n      <td>영업직</td>\n    </tr>\n    <tr>\n      <th>2</th>\n      <td>NaN</td>\n      <td>NaN</td>\n      <td>3</td>\n      <td>개발직</td>\n    </tr>\n  </tbody>\n</table>\n</div>"
     },
     "metadata": {},
     "execution_count": 28
    }
   ],
   "source": [
    "# 행으로 결합\n",
    "pd.concat([emp,dept]) "
   ]
  },
  {
   "cell_type": "code",
   "execution_count": 29,
   "metadata": {},
   "outputs": [
    {
     "output_type": "execute_result",
     "data": {
      "text/plain": [
       "   empno ename  dept  dept deptname\n",
       "0      1   kim     1   1.0      관리직\n",
       "1      2   lee     2   2.0      영업직\n",
       "2      3  park     1   3.0      개발직\n",
       "3      4  song     3   NaN      NaN\n",
       "4      5   min     2   NaN      NaN"
      ],
      "text/html": "<div>\n<style scoped>\n    .dataframe tbody tr th:only-of-type {\n        vertical-align: middle;\n    }\n\n    .dataframe tbody tr th {\n        vertical-align: top;\n    }\n\n    .dataframe thead th {\n        text-align: right;\n    }\n</style>\n<table border=\"1\" class=\"dataframe\">\n  <thead>\n    <tr style=\"text-align: right;\">\n      <th></th>\n      <th>empno</th>\n      <th>ename</th>\n      <th>dept</th>\n      <th>dept</th>\n      <th>deptname</th>\n    </tr>\n  </thead>\n  <tbody>\n    <tr>\n      <th>0</th>\n      <td>1</td>\n      <td>kim</td>\n      <td>1</td>\n      <td>1.0</td>\n      <td>관리직</td>\n    </tr>\n    <tr>\n      <th>1</th>\n      <td>2</td>\n      <td>lee</td>\n      <td>2</td>\n      <td>2.0</td>\n      <td>영업직</td>\n    </tr>\n    <tr>\n      <th>2</th>\n      <td>3</td>\n      <td>park</td>\n      <td>1</td>\n      <td>3.0</td>\n      <td>개발직</td>\n    </tr>\n    <tr>\n      <th>3</th>\n      <td>4</td>\n      <td>song</td>\n      <td>3</td>\n      <td>NaN</td>\n      <td>NaN</td>\n    </tr>\n    <tr>\n      <th>4</th>\n      <td>5</td>\n      <td>min</td>\n      <td>2</td>\n      <td>NaN</td>\n      <td>NaN</td>\n    </tr>\n  </tbody>\n</table>\n</div>"
     },
     "metadata": {},
     "execution_count": 29
    }
   ],
   "source": [
    "# 컬럼으로 결합\n",
    "pd.concat([emp,dept], axis=1)"
   ]
  },
  {
   "cell_type": "code",
   "execution_count": null,
   "metadata": {},
   "outputs": [],
   "source": []
  },
  {
   "cell_type": "code",
   "execution_count": null,
   "metadata": {},
   "outputs": [],
   "source": []
  }
 ]
}