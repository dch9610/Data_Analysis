{
 "metadata": {
  "language_info": {
   "codemirror_mode": {
    "name": "ipython",
    "version": 3
   },
   "file_extension": ".py",
   "mimetype": "text/x-python",
   "name": "python",
   "nbconvert_exporter": "python",
   "pygments_lexer": "ipython3",
   "version": "3.8.5-final"
  },
  "orig_nbformat": 2,
  "kernelspec": {
   "name": "python3",
   "display_name": "Python 3",
   "language": "python"
  }
 },
 "nbformat": 4,
 "nbformat_minor": 2,
 "cells": [
  {
   "cell_type": "code",
   "execution_count": 37,
   "metadata": {},
   "outputs": [],
   "source": [
    "import pandas as pd\n",
    "import numpy as np\n",
    "import matplotlib.pyplot as plt\n",
    "import matplotlib\n",
    "matplotlib.rcParams['font.family']='Malgun Gothic'\n",
    "matplotlib.rcParams['axes.unicode_minus']=False"
   ]
  },
  {
   "cell_type": "code",
   "execution_count": 2,
   "metadata": {},
   "outputs": [
    {
     "output_type": "execute_result",
     "data": {
      "text/plain": [
       "홍길동     90\n",
       "이순신     90\n",
       "임꺽정     55\n",
       "정난정     60\n",
       "이이      76\n",
       "이황      80\n",
       "정도전     76\n",
       "김철수1    88\n",
       "김철수2    30\n",
       "김철수3    25\n",
       "Name: 국어점수, dtype: int64"
      ]
     },
     "metadata": {},
     "execution_count": 2
    }
   ],
   "source": [
    "sr = pd.Series( [90,90,55,60,76,80,76,88,30,25],\n",
    "               name=\"국어점수\" )\n",
    "sr.index=['홍길동','이순신','임꺽정','정난정',\n",
    "         '이이','이황','정도전','김철수1',\n",
    "          '김철수2','김철수3']\n",
    "sr"
   ]
  },
  {
   "source": [
    "### 1. 이름순으로 정렬하시요"
   ],
   "cell_type": "markdown",
   "metadata": {}
  },
  {
   "cell_type": "code",
   "execution_count": 4,
   "metadata": {},
   "outputs": [
    {
     "output_type": "execute_result",
     "data": {
      "text/plain": [
       "김철수1    88\n",
       "김철수2    30\n",
       "김철수3    25\n",
       "이순신     90\n",
       "이이      76\n",
       "이황      80\n",
       "임꺽정     55\n",
       "정난정     60\n",
       "정도전     76\n",
       "홍길동     90\n",
       "Name: 국어점수, dtype: int64"
      ]
     },
     "metadata": {},
     "execution_count": 4
    }
   ],
   "source": [
    "sr.sort_index(ascending=True)"
   ]
  },
  {
   "source": [
    "### 2. 키보드로 입력받아 검색된 이름의 점수를 구하시요"
   ],
   "cell_type": "markdown",
   "metadata": {}
  },
  {
   "cell_type": "code",
   "execution_count": 13,
   "metadata": {},
   "outputs": [
    {
     "output_type": "execute_result",
     "data": {
      "text/plain": [
       "이이    76\n",
       "Name: 국어점수, dtype: int64"
      ]
     },
     "metadata": {},
     "execution_count": 13
    }
   ],
   "source": [
    "name = input('이름을 입력하시오: ')\n",
    "sr[sr.index==name]"
   ]
  },
  {
   "source": [
    "### 3.데이터를 다음과 같이 출력하시요\n"
   ],
   "cell_type": "markdown",
   "metadata": {}
  },
  {
   "cell_type": "code",
   "execution_count": null,
   "metadata": {},
   "outputs": [],
   "source": [
    "# (0~59:F , 60~69:D, 70~79:C, 80~89:B, 90~100:A\n",
    "# ---------------------\n",
    "#     이름    국어   학점\n",
    "# ---------------------\n",
    "#     홍길동  70\t    C\n",
    "#     ...\n",
    "#     김철수3 25      F"
   ]
  },
  {
   "cell_type": "code",
   "execution_count": 104,
   "metadata": {},
   "outputs": [
    {
     "output_type": "stream",
     "name": "stdout",
     "text": [
      "------------------------------\n이름\t국어\t학점\n------------------------------\n홍길동\t90\tA\n이순신\t90\tA\n임꺽정\t55\tF\n정난정\t60\tD\n이이\t76\tC\n이황\t80\tB\n정도전\t76\tC\n김철수1\t88\tB\n김철수2\t30\tF\n김철수3\t25\tF\n"
     ]
    }
   ],
   "source": [
    "sr_cut = pd.cut(sr, [0,59,69,79,89,100], labels=['F','D','C','B','A'])\n",
    "print('-'*30)\n",
    "print('이름','국어','학점',sep='\\t')\n",
    "print('-'*30)\n",
    "for i,v,cut_v in zip(sr.index, sr.values, sr_cut.values):\n",
    "    print(i,v,cut_v,sep='\\t')"
   ]
  },
  {
   "source": [
    "### 4. 국어 점수 50점이하는 가산점20를 부여하고 국어 점수 50점초과는 가산점10를 부여하시요\n"
   ],
   "cell_type": "markdown",
   "metadata": {}
  },
  {
   "cell_type": "code",
   "execution_count": 26,
   "metadata": {},
   "outputs": [
    {
     "output_type": "execute_result",
     "data": {
      "text/plain": [
       "홍길동     99.0\n",
       "이순신     99.0\n",
       "임꺽정     60.5\n",
       "정난정     66.0\n",
       "이이      83.6\n",
       "이황      88.0\n",
       "정도전     83.6\n",
       "김철수1    96.8\n",
       "김철수2    36.0\n",
       "김철수3    30.0\n",
       "Name: 국어점수, dtype: float64"
      ]
     },
     "metadata": {},
     "execution_count": 26
    }
   ],
   "source": [
    "sr.apply(lambda v: v*1.2 if v<=50 else v*1.1)"
   ]
  },
  {
   "source": [
    "### 5. 국어점수 10%, 50%, 90%에 해당하는 값을 구하시요"
   ],
   "cell_type": "markdown",
   "metadata": {}
  },
  {
   "cell_type": "code",
   "execution_count": 28,
   "metadata": {},
   "outputs": [
    {
     "output_type": "execute_result",
     "data": {
      "text/plain": [
       "0.1    29.5\n",
       "0.5    76.0\n",
       "0.9    90.0\n",
       "Name: 국어점수, dtype: float64"
      ]
     },
     "metadata": {},
     "execution_count": 28
    }
   ],
   "source": [
    "sr.quantile([0.1,0.5,0.9])"
   ]
  },
  {
   "source": [
    "### 6. 각 국어점수에 대한 갯수 를 구하시요."
   ],
   "cell_type": "markdown",
   "metadata": {}
  },
  {
   "cell_type": "code",
   "execution_count": 29,
   "metadata": {},
   "outputs": [
    {
     "output_type": "execute_result",
     "data": {
      "text/plain": [
       "90    2\n",
       "76    2\n",
       "30    1\n",
       "60    1\n",
       "25    1\n",
       "88    1\n",
       "55    1\n",
       "80    1\n",
       "Name: 국어점수, dtype: int64"
      ]
     },
     "metadata": {},
     "execution_count": 29
    }
   ],
   "source": [
    "sr.value_counts()"
   ]
  },
  {
   "source": [
    "### 7. 국어점수에 대한 boxplot을 그리시요."
   ],
   "cell_type": "markdown",
   "metadata": {}
  },
  {
   "cell_type": "code",
   "execution_count": 30,
   "metadata": {},
   "outputs": [
    {
     "output_type": "execute_result",
     "data": {
      "text/plain": [
       "<AxesSubplot:>"
      ]
     },
     "metadata": {},
     "execution_count": 30
    },
    {
     "output_type": "display_data",
     "data": {
      "text/plain": "<Figure size 432x288 with 1 Axes>",
      "image/svg+xml": "<?xml version=\"1.0\" encoding=\"utf-8\" standalone=\"no\"?>\r\n<!DOCTYPE svg PUBLIC \"-//W3C//DTD SVG 1.1//EN\"\r\n  \"http://www.w3.org/Graphics/SVG/1.1/DTD/svg11.dtd\">\r\n<!-- Created with matplotlib (https://matplotlib.org/) -->\r\n<svg height=\"248.79625pt\" version=\"1.1\" viewBox=\"0 0 367.215625 248.79625\" width=\"367.215625pt\" xmlns=\"http://www.w3.org/2000/svg\" xmlns:xlink=\"http://www.w3.org/1999/xlink\">\r\n <metadata>\r\n  <rdf:RDF xmlns:cc=\"http://creativecommons.org/ns#\" xmlns:dc=\"http://purl.org/dc/elements/1.1/\" xmlns:rdf=\"http://www.w3.org/1999/02/22-rdf-syntax-ns#\">\r\n   <cc:Work>\r\n    <dc:type rdf:resource=\"http://purl.org/dc/dcmitype/StillImage\"/>\r\n    <dc:date>2020-12-22T16:57:36.916687</dc:date>\r\n    <dc:format>image/svg+xml</dc:format>\r\n    <dc:creator>\r\n     <cc:Agent>\r\n      <dc:title>Matplotlib v3.3.2, https://matplotlib.org/</dc:title>\r\n     </cc:Agent>\r\n    </dc:creator>\r\n   </cc:Work>\r\n  </rdf:RDF>\r\n </metadata>\r\n <defs>\r\n  <style type=\"text/css\">*{stroke-linecap:butt;stroke-linejoin:round;}</style>\r\n </defs>\r\n <g id=\"figure_1\">\r\n  <g id=\"patch_1\">\r\n   <path d=\"M 0 248.79625 \r\nL 367.215625 248.79625 \r\nL 367.215625 0 \r\nL 0 0 \r\nz\r\n\" style=\"fill:none;\"/>\r\n  </g>\r\n  <g id=\"axes_1\">\r\n   <g id=\"patch_2\">\r\n    <path d=\"M 25.215625 224.64 \r\nL 360.015625 224.64 \r\nL 360.015625 7.2 \r\nL 25.215625 7.2 \r\nz\r\n\" style=\"fill:#ffffff;\"/>\r\n   </g>\r\n   <g id=\"matplotlib.axis_1\">\r\n    <g id=\"xtick_1\">\r\n     <g id=\"line2d_1\">\r\n      <defs>\r\n       <path d=\"M 0 0 \r\nL 0 3.5 \r\n\" id=\"m57e7d1312c\" style=\"stroke:#000000;stroke-width:0.8;\"/>\r\n      </defs>\r\n      <g>\r\n       <use style=\"stroke:#000000;stroke-width:0.8;\" x=\"192.615625\" xlink:href=\"#m57e7d1312c\" y=\"224.64\"/>\r\n      </g>\r\n     </g>\r\n     <g id=\"text_1\">\r\n      <!-- 국어점수 -->\r\n      <g transform=\"translate(172.615625 239.232187)scale(0.1 -0.1)\">\r\n       <defs>\r\n        <path d=\"M 71.921875 -8.796875 \r\nL 71.921875 19.671875 \r\nL 19.390625 19.671875 \r\nL 19.390625 26.21875 \r\nL 45.515625 26.21875 \r\nL 45.515625 43.796875 \r\nL 6.296875 43.796875 \r\nL 6.296875 50.296875 \r\nL 71.578125 50.296875 \r\nQ 72.40625 58.25 72.40625 75.78125 \r\nL 20.90625 75.78125 \r\nL 20.90625 82.328125 \r\nL 79.6875 82.328125 \r\nQ 79.6875 66.015625 78.609375 50.296875 \r\nL 93.703125 50.296875 \r\nL 93.703125 43.796875 \r\nL 52.78125 43.796875 \r\nL 52.78125 26.21875 \r\nL 79.203125 26.21875 \r\nL 79.203125 -8.796875 \r\nz\r\n\" id=\"MalgunGothic-44397\"/>\r\n        <path d=\"M 59.078125 44.09375 \r\nQ 58.296875 30.078125 51.78125 22.578125 \r\nQ 45.265625 15.09375 35.296875 15.09375 \r\nQ 24.5625 15.09375 17.96875 23.65625 \r\nQ 11.375 32.234375 11.375 47.125 \r\nQ 11.375 62.15625 17.890625 70.625 \r\nQ 24.421875 79.109375 35.296875 79.109375 \r\nQ 45.3125 79.109375 51.75 71.609375 \r\nQ 58.203125 64.109375 58.984375 50.59375 \r\nL 76.421875 50.59375 \r\nL 76.421875 85.40625 \r\nL 83.6875 85.40625 \r\nL 83.6875 -8.796875 \r\nL 76.421875 -8.796875 \r\nL 76.421875 44.09375 \r\nz\r\nM 35.296875 72.609375 \r\nQ 27.734375 72.609375 23.171875 65.71875 \r\nQ 18.609375 58.84375 18.609375 47.125 \r\nQ 18.609375 35.453125 23.234375 28.515625 \r\nQ 27.875 21.578125 35.296875 21.578125 \r\nQ 42.625 21.578125 47.3125 28.609375 \r\nQ 52 35.640625 52 47.125 \r\nQ 52 58.84375 47.40625 65.71875 \r\nQ 42.828125 72.609375 35.296875 72.609375 \r\nz\r\n\" id=\"MalgunGothic-50612\"/>\r\n        <path d=\"M 76.3125 33.015625 \r\nL 76.3125 57.421875 \r\nL 53.8125 57.421875 \r\nL 53.8125 64.015625 \r\nL 76.3125 64.015625 \r\nL 76.3125 85.40625 \r\nL 83.59375 85.40625 \r\nL 83.59375 33.015625 \r\nz\r\nM 57.078125 36.375 \r\nQ 50.6875 39.84375 44.234375 46.09375 \r\nQ 37.796875 52.34375 35.203125 57.8125 \r\nQ 32.421875 51.609375 25.921875 44.65625 \r\nQ 19.4375 37.703125 12.796875 33.984375 \r\nL 7.625 39.015625 \r\nQ 17.71875 43.84375 24.546875 53.015625 \r\nQ 31.390625 62.203125 31.390625 72.3125 \r\nL 31.390625 74.703125 \r\nL 10.6875 74.703125 \r\nL 10.6875 81.203125 \r\nL 59.1875 81.203125 \r\nL 59.1875 74.703125 \r\nL 38.484375 74.703125 \r\nL 38.484375 72.3125 \r\nQ 38.484375 62.890625 45.5625 54.25 \r\nQ 52.640625 45.609375 62.015625 41.703125 \r\nz\r\nM 25.390625 -6.203125 \r\nL 25.390625 27.59375 \r\nL 83.59375 27.59375 \r\nL 83.59375 -6.203125 \r\nz\r\nM 76.421875 21.1875 \r\nL 32.625 21.1875 \r\nL 32.625 0.203125 \r\nL 76.421875 0.203125 \r\nz\r\n\" id=\"MalgunGothic-51216\"/>\r\n        <path d=\"M 85.796875 46.78125 \r\nQ 74.21875 48.390625 63.71875 54.65625 \r\nQ 53.21875 60.9375 50 66.796875 \r\nQ 46.484375 60.796875 36.078125 54.546875 \r\nQ 25.6875 48.296875 14.40625 46.1875 \r\nL 9.90625 52.296875 \r\nQ 24.359375 53.90625 35.328125 61.59375 \r\nQ 46.296875 69.28125 46.296875 78.328125 \r\nL 46.296875 82.421875 \r\nL 53.609375 82.421875 \r\nL 53.609375 78.328125 \r\nQ 53.609375 69.234375 64.34375 61.6875 \r\nQ 75.09375 54.15625 90.09375 52.78125 \r\nz\r\nM 53.609375 28.71875 \r\nL 53.609375 -8.796875 \r\nL 46.296875 -8.796875 \r\nL 46.296875 28.71875 \r\nL 6.296875 28.71875 \r\nL 6.296875 35.203125 \r\nL 93.703125 35.203125 \r\nL 93.703125 28.71875 \r\nz\r\n\" id=\"MalgunGothic-49688\"/>\r\n       </defs>\r\n       <use xlink:href=\"#MalgunGothic-44397\"/>\r\n       <use x=\"100\" xlink:href=\"#MalgunGothic-50612\"/>\r\n       <use x=\"200\" xlink:href=\"#MalgunGothic-51216\"/>\r\n       <use x=\"300\" xlink:href=\"#MalgunGothic-49688\"/>\r\n      </g>\r\n     </g>\r\n    </g>\r\n   </g>\r\n   <g id=\"matplotlib.axis_2\">\r\n    <g id=\"ytick_1\">\r\n     <g id=\"line2d_2\">\r\n      <defs>\r\n       <path d=\"M 0 0 \r\nL -3.5 0 \r\n\" id=\"m4287d628ee\" style=\"stroke:#000000;stroke-width:0.8;\"/>\r\n      </defs>\r\n      <g>\r\n       <use style=\"stroke:#000000;stroke-width:0.8;\" x=\"25.215625\" xlink:href=\"#m4287d628ee\" y=\"199.550769\"/>\r\n      </g>\r\n     </g>\r\n     <g id=\"text_2\">\r\n      <!-- 30 -->\r\n      <g transform=\"translate(7.2 203.346863)scale(0.1 -0.1)\">\r\n       <defs>\r\n        <path d=\"M 6.5 11.234375 \r\nQ 13.921875 5.375 23.09375 5.375 \r\nQ 30.609375 5.375 35.21875 9.171875 \r\nQ 39.84375 12.984375 39.84375 19.484375 \r\nQ 39.84375 33.890625 19.578125 33.890625 \r\nL 13.625 33.890625 \r\nL 13.625 40.484375 \r\nL 19.28125 40.484375 \r\nQ 37.3125 40.484375 37.3125 53.953125 \r\nQ 37.3125 66.40625 23.578125 66.40625 \r\nQ 15.96875 66.40625 9.28125 61.1875 \r\nL 9.28125 68.953125 \r\nQ 16.109375 73.046875 25.53125 73.046875 \r\nQ 34.125 73.046875 39.671875 68.3125 \r\nQ 45.21875 63.578125 45.21875 55.953125 \r\nQ 45.21875 41.84375 30.8125 37.640625 \r\nL 30.8125 37.5 \r\nQ 38.578125 36.8125 43.1875 32.078125 \r\nQ 47.796875 27.34375 47.796875 20.3125 \r\nQ 47.796875 10.5 40.6875 4.640625 \r\nQ 33.59375 -1.21875 22.65625 -1.21875 \r\nQ 12.59375 -1.21875 6.5 2.640625 \r\nz\r\n\" id=\"MalgunGothic-51\"/>\r\n        <path d=\"M 4.34375 34.46875 \r\nQ 4.34375 53.515625 10.546875 63.28125 \r\nQ 16.75 73.046875 28.421875 73.046875 \r\nQ 50.828125 73.046875 50.828125 36.234375 \r\nQ 50.828125 18.0625 44.59375 8.421875 \r\nQ 38.375 -1.21875 26.8125 -1.21875 \r\nQ 15.875 -1.21875 10.109375 8.125 \r\nQ 4.34375 17.484375 4.34375 34.46875 \r\nz\r\nM 12.25 34.859375 \r\nQ 12.25 5.375 27.640625 5.375 \r\nQ 42.921875 5.375 42.921875 35.296875 \r\nQ 42.921875 66.40625 28.03125 66.40625 \r\nQ 12.25 66.40625 12.25 34.859375 \r\nz\r\n\" id=\"MalgunGothic-48\"/>\r\n       </defs>\r\n       <use xlink:href=\"#MalgunGothic-51\"/>\r\n       <use x=\"55.078125\" xlink:href=\"#MalgunGothic-48\"/>\r\n      </g>\r\n     </g>\r\n    </g>\r\n    <g id=\"ytick_2\">\r\n     <g id=\"line2d_3\">\r\n      <g>\r\n       <use style=\"stroke:#000000;stroke-width:0.8;\" x=\"25.215625\" xlink:href=\"#m4287d628ee\" y=\"169.13958\"/>\r\n      </g>\r\n     </g>\r\n     <g id=\"text_3\">\r\n      <!-- 40 -->\r\n      <g transform=\"translate(7.2 172.935674)scale(0.1 -0.1)\">\r\n       <defs>\r\n        <path d=\"M 42.234375 71.875 \r\nL 42.234375 24.421875 \r\nL 51.703125 24.421875 \r\nL 51.703125 17.390625 \r\nL 42.234375 17.390625 \r\nL 42.234375 0 \r\nL 34.578125 0 \r\nL 34.578125 17.390625 \r\nL 0.78125 17.390625 \r\nL 0.78125 23.96875 \r\nQ 11.375 35.890625 20.234375 48.578125 \r\nQ 29.109375 61.28125 33.9375 71.875 \r\nz\r\nM 9.765625 24.421875 \r\nL 34.578125 24.421875 \r\nL 34.578125 59.859375 \r\nQ 25.203125 43.5625 14.984375 30.953125 \r\nz\r\n\" id=\"MalgunGothic-52\"/>\r\n       </defs>\r\n       <use xlink:href=\"#MalgunGothic-52\"/>\r\n       <use x=\"55.078125\" xlink:href=\"#MalgunGothic-48\"/>\r\n      </g>\r\n     </g>\r\n    </g>\r\n    <g id=\"ytick_3\">\r\n     <g id=\"line2d_4\">\r\n      <g>\r\n       <use style=\"stroke:#000000;stroke-width:0.8;\" x=\"25.215625\" xlink:href=\"#m4287d628ee\" y=\"138.728392\"/>\r\n      </g>\r\n     </g>\r\n     <g id=\"text_4\">\r\n      <!-- 50 -->\r\n      <g transform=\"translate(7.2 142.524485)scale(0.1 -0.1)\">\r\n       <defs>\r\n        <path d=\"M 48 21.921875 \r\nQ 48 11.28125 41.1875 5.03125 \r\nQ 34.375 -1.21875 22.953125 -1.21875 \r\nQ 12.9375 -1.21875 8.0625 1.765625 \r\nL 8.0625 10.15625 \r\nQ 15.53125 5.375 23.046875 5.375 \r\nQ 30.765625 5.375 35.46875 9.84375 \r\nQ 40.1875 14.3125 40.1875 21.4375 \r\nQ 40.1875 28.71875 35.390625 32.6875 \r\nQ 30.609375 36.671875 21.578125 36.671875 \r\nQ 15.53125 36.671875 9.421875 35.9375 \r\nL 11.859375 71.875 \r\nL 44.828125 71.875 \r\nL 44.828125 64.796875 \r\nL 18.84375 64.796875 \r\nL 17.28125 43.171875 \r\nQ 21.046875 43.5 24.171875 43.5 \r\nQ 35.359375 43.5 41.671875 37.71875 \r\nQ 48 31.9375 48 21.921875 \r\nz\r\n\" id=\"MalgunGothic-53\"/>\r\n       </defs>\r\n       <use xlink:href=\"#MalgunGothic-53\"/>\r\n       <use x=\"55.078125\" xlink:href=\"#MalgunGothic-48\"/>\r\n      </g>\r\n     </g>\r\n    </g>\r\n    <g id=\"ytick_4\">\r\n     <g id=\"line2d_5\">\r\n      <g>\r\n       <use style=\"stroke:#000000;stroke-width:0.8;\" x=\"25.215625\" xlink:href=\"#m4287d628ee\" y=\"108.317203\"/>\r\n      </g>\r\n     </g>\r\n     <g id=\"text_5\">\r\n      <!-- 60 -->\r\n      <g transform=\"translate(7.2 112.113297)scale(0.1 -0.1)\">\r\n       <defs>\r\n        <path d=\"M 46.578125 63.578125 \r\nQ 40.921875 66.40625 34.8125 66.40625 \r\nQ 24.859375 66.40625 19.1875 57.640625 \r\nQ 13.53125 48.875 13.578125 34.578125 \r\nL 13.8125 34.578125 \r\nQ 18.796875 44.875 30.28125 44.875 \r\nQ 39.796875 44.875 45.359375 38.71875 \r\nQ 50.921875 32.5625 50.921875 22.65625 \r\nQ 50.921875 12.453125 44.640625 5.609375 \r\nQ 38.375 -1.21875 28.515625 -1.21875 \r\nQ 17.4375 -1.21875 11.5 7.46875 \r\nQ 5.5625 16.15625 5.5625 31.546875 \r\nQ 5.5625 49.703125 13.234375 61.375 \r\nQ 20.90625 73.046875 34.71875 73.046875 \r\nQ 42.1875 73.046875 46.578125 71 \r\nz\r\nM 14.15625 23.53125 \r\nQ 14.15625 15.96875 18.203125 10.671875 \r\nQ 22.265625 5.375 28.8125 5.375 \r\nQ 35.109375 5.375 39.03125 10.078125 \r\nQ 42.96875 14.796875 42.96875 21.6875 \r\nQ 42.96875 29.5 39.203125 33.859375 \r\nQ 35.453125 38.234375 28.71875 38.234375 \r\nQ 22.5625 38.234375 18.359375 33.953125 \r\nQ 14.15625 29.6875 14.15625 23.53125 \r\nz\r\n\" id=\"MalgunGothic-54\"/>\r\n       </defs>\r\n       <use xlink:href=\"#MalgunGothic-54\"/>\r\n       <use x=\"55.078125\" xlink:href=\"#MalgunGothic-48\"/>\r\n      </g>\r\n     </g>\r\n    </g>\r\n    <g id=\"ytick_5\">\r\n     <g id=\"line2d_6\">\r\n      <g>\r\n       <use style=\"stroke:#000000;stroke-width:0.8;\" x=\"25.215625\" xlink:href=\"#m4287d628ee\" y=\"77.906014\"/>\r\n      </g>\r\n     </g>\r\n     <g id=\"text_6\">\r\n      <!-- 70 -->\r\n      <g transform=\"translate(7.2 81.702108)scale(0.1 -0.1)\">\r\n       <defs>\r\n        <path d=\"M 50.203125 67.140625 \r\nQ 38.71875 46.96875 32.25 29.96875 \r\nQ 25.78125 12.984375 24.21875 0 \r\nL 15.765625 0 \r\nQ 16.9375 8.296875 20.15625 18.375 \r\nQ 23.390625 28.46875 28.359375 39.640625 \r\nQ 33.34375 50.828125 41.109375 64.796875 \r\nL 4.546875 64.796875 \r\nL 4.546875 71.875 \r\nL 50.203125 71.875 \r\nz\r\n\" id=\"MalgunGothic-55\"/>\r\n       </defs>\r\n       <use xlink:href=\"#MalgunGothic-55\"/>\r\n       <use x=\"55.078125\" xlink:href=\"#MalgunGothic-48\"/>\r\n      </g>\r\n     </g>\r\n    </g>\r\n    <g id=\"ytick_6\">\r\n     <g id=\"line2d_7\">\r\n      <g>\r\n       <use style=\"stroke:#000000;stroke-width:0.8;\" x=\"25.215625\" xlink:href=\"#m4287d628ee\" y=\"47.494825\"/>\r\n      </g>\r\n     </g>\r\n     <g id=\"text_7\">\r\n      <!-- 80 -->\r\n      <g transform=\"translate(7.2 51.290919)scale(0.1 -0.1)\">\r\n       <defs>\r\n        <path d=\"M 4.734375 20.015625 \r\nQ 4.734375 26.078125 8.421875 31.421875 \r\nQ 12.109375 36.765625 18.015625 38.96875 \r\nQ 13.375 41.359375 10.546875 45.546875 \r\nQ 7.71875 49.75 7.71875 54.6875 \r\nQ 7.71875 59.8125 10.296875 64.03125 \r\nQ 12.890625 68.265625 17.53125 70.65625 \r\nQ 22.171875 73.046875 27.78125 73.046875 \r\nQ 36.46875 73.046875 42.1875 67.84375 \r\nQ 47.90625 62.640625 47.90625 54.6875 \r\nQ 47.90625 49.703125 45.015625 45.53125 \r\nQ 42.140625 41.359375 37.703125 38.96875 \r\nQ 43.5625 36.71875 47.21875 31.390625 \r\nQ 50.875 26.078125 50.875 20.015625 \r\nQ 50.875 10.5 44.421875 4.640625 \r\nQ 37.984375 -1.21875 27.78125 -1.21875 \r\nQ 17.671875 -1.21875 11.203125 4.703125 \r\nQ 4.734375 10.640625 4.734375 20.015625 \r\nz\r\nM 12.640625 20.75 \r\nQ 12.640625 13.71875 16.890625 9.546875 \r\nQ 21.140625 5.375 27.828125 5.375 \r\nQ 34.46875 5.375 38.78125 9.671875 \r\nQ 43.109375 13.96875 43.109375 20.75 \r\nQ 43.109375 27.046875 38.78125 31.421875 \r\nQ 34.46875 35.796875 27.828125 35.796875 \r\nQ 21.4375 35.796875 17.03125 31.5625 \r\nQ 12.640625 27.34375 12.640625 20.75 \r\nz\r\nM 15.671875 54.046875 \r\nQ 15.671875 48.828125 19.28125 45.3125 \r\nQ 22.90625 41.796875 27.828125 41.796875 \r\nQ 32.765625 41.796875 36.40625 45.3125 \r\nQ 40.046875 48.828125 40.046875 54.046875 \r\nQ 40.046875 59.421875 36.578125 62.90625 \r\nQ 33.109375 66.40625 27.828125 66.40625 \r\nQ 22.65625 66.40625 19.15625 62.953125 \r\nQ 15.671875 59.515625 15.671875 54.046875 \r\nz\r\n\" id=\"MalgunGothic-56\"/>\r\n       </defs>\r\n       <use xlink:href=\"#MalgunGothic-56\"/>\r\n       <use x=\"55.078125\" xlink:href=\"#MalgunGothic-48\"/>\r\n      </g>\r\n     </g>\r\n    </g>\r\n    <g id=\"ytick_7\">\r\n     <g id=\"line2d_8\">\r\n      <g>\r\n       <use style=\"stroke:#000000;stroke-width:0.8;\" x=\"25.215625\" xlink:href=\"#m4287d628ee\" y=\"17.083636\"/>\r\n      </g>\r\n     </g>\r\n     <g id=\"text_8\">\r\n      <!-- 90 -->\r\n      <g transform=\"translate(7.2 20.87973)scale(0.1 -0.1)\">\r\n       <defs>\r\n        <path d=\"M 8.6875 8.796875 \r\nQ 14.703125 5.375 21.34375 5.375 \r\nQ 31.15625 5.375 36.671875 13.359375 \r\nQ 42.1875 21.34375 42.1875 36.140625 \r\nQ 42.09375 36.03125 42 36.140625 \r\nQ 37.3125 26.765625 25.828125 26.765625 \r\nQ 16.546875 26.765625 10.65625 33.125 \r\nQ 4.78125 39.5 4.78125 49.125 \r\nQ 4.78125 59.46875 11.109375 66.25 \r\nQ 17.4375 73.046875 27.6875 73.046875 \r\nQ 38.53125 73.046875 44.265625 64.546875 \r\nQ 50 56.0625 50 40.28125 \r\nQ 50 20.609375 42.453125 9.6875 \r\nQ 34.90625 -1.21875 21 -1.21875 \r\nQ 13.765625 -1.21875 8.6875 1.21875 \r\nz\r\nM 12.703125 50.296875 \r\nQ 12.703125 42.828125 16.609375 38.28125 \r\nQ 20.515625 33.734375 27.484375 33.734375 \r\nQ 33.546875 33.734375 37.59375 37.765625 \r\nQ 41.65625 41.796875 41.65625 47.609375 \r\nQ 41.65625 55.5625 37.671875 60.984375 \r\nQ 33.6875 66.40625 26.953125 66.40625 \r\nQ 20.65625 66.40625 16.671875 61.6875 \r\nQ 12.703125 56.984375 12.703125 50.296875 \r\nz\r\n\" id=\"MalgunGothic-57\"/>\r\n       </defs>\r\n       <use xlink:href=\"#MalgunGothic-57\"/>\r\n       <use x=\"55.078125\" xlink:href=\"#MalgunGothic-48\"/>\r\n      </g>\r\n     </g>\r\n    </g>\r\n   </g>\r\n   <g id=\"line2d_9\">\r\n    <path clip-path=\"url(#pafa88e286c)\" d=\"M 167.505625 119.721399 \r\nL 217.725625 119.721399 \r\nL 217.725625 29.248112 \r\nL 167.505625 29.248112 \r\nL 167.505625 119.721399 \r\n\" style=\"fill:none;stroke:#1f77b4;stroke-linecap:square;\"/>\r\n   </g>\r\n   <g id=\"line2d_10\">\r\n    <path clip-path=\"url(#pafa88e286c)\" d=\"M 192.615625 119.721399 \r\nL 192.615625 214.756364 \r\n\" style=\"fill:none;stroke:#1f77b4;stroke-linecap:square;\"/>\r\n   </g>\r\n   <g id=\"line2d_11\">\r\n    <path clip-path=\"url(#pafa88e286c)\" d=\"M 192.615625 29.248112 \r\nL 192.615625 17.083636 \r\n\" style=\"fill:none;stroke:#1f77b4;stroke-linecap:square;\"/>\r\n   </g>\r\n   <g id=\"line2d_12\">\r\n    <path clip-path=\"url(#pafa88e286c)\" d=\"M 180.060625 214.756364 \r\nL 205.170625 214.756364 \r\n\" style=\"fill:none;stroke:#000000;stroke-linecap:square;\"/>\r\n   </g>\r\n   <g id=\"line2d_13\">\r\n    <path clip-path=\"url(#pafa88e286c)\" d=\"M 180.060625 17.083636 \r\nL 205.170625 17.083636 \r\n\" style=\"fill:none;stroke:#000000;stroke-linecap:square;\"/>\r\n   </g>\r\n   <g id=\"line2d_14\"/>\r\n   <g id=\"line2d_15\">\r\n    <path clip-path=\"url(#pafa88e286c)\" d=\"M 167.505625 59.659301 \r\nL 217.725625 59.659301 \r\n\" style=\"fill:none;stroke:#2ca02c;stroke-linecap:square;\"/>\r\n   </g>\r\n   <g id=\"patch_3\">\r\n    <path d=\"M 25.215625 224.64 \r\nL 25.215625 7.2 \r\n\" style=\"fill:none;stroke:#000000;stroke-linecap:square;stroke-linejoin:miter;stroke-width:0.8;\"/>\r\n   </g>\r\n   <g id=\"patch_4\">\r\n    <path d=\"M 360.015625 224.64 \r\nL 360.015625 7.2 \r\n\" style=\"fill:none;stroke:#000000;stroke-linecap:square;stroke-linejoin:miter;stroke-width:0.8;\"/>\r\n   </g>\r\n   <g id=\"patch_5\">\r\n    <path d=\"M 25.215625 224.64 \r\nL 360.015625 224.64 \r\n\" style=\"fill:none;stroke:#000000;stroke-linecap:square;stroke-linejoin:miter;stroke-width:0.8;\"/>\r\n   </g>\r\n   <g id=\"patch_6\">\r\n    <path d=\"M 25.215625 7.2 \r\nL 360.015625 7.2 \r\n\" style=\"fill:none;stroke:#000000;stroke-linecap:square;stroke-linejoin:miter;stroke-width:0.8;\"/>\r\n   </g>\r\n  </g>\r\n </g>\r\n <defs>\r\n  <clipPath id=\"pafa88e286c\">\r\n   <rect height=\"217.44\" width=\"334.8\" x=\"25.215625\" y=\"7.2\"/>\r\n  </clipPath>\r\n </defs>\r\n</svg>\r\n",
      "image/png": "[encoded data removed]"
     },
     "metadata": {
      "needs_background": "light"
     }
    }
   ],
   "source": [
    "sr.plot(kind='box')"
   ]
  },
  {
   "source": [
    "### 8. 국어 점수를 10개(0~100점을) 로 분할한 경우 각 점수별  도수분포표를 구하고(아래이미지참조) 히스토그램을 구하시요\r\n"
   ],
   "cell_type": "markdown",
   "metadata": {}
  },
  {
   "cell_type": "code",
   "execution_count": 100,
   "metadata": {},
   "outputs": [],
   "source": [
    "sr_cut1=pd.cut(sr,10).values\n"
   ]
  },
  {
   "cell_type": "code",
   "execution_count": 101,
   "metadata": {},
   "outputs": [
    {
     "output_type": "execute_result",
     "data": {
      "text/plain": [
       "array([3, 1, 2, 0, 1, 1, 0, 0, 0, 2], dtype=int64)"
      ]
     },
     "metadata": {},
     "execution_count": 101
    }
   ],
   "source": [
    "sr_cut_do=pd.cut(sr,10).value_counts().sort_index(ascending=False).values\n",
    "\n",
    "sr_cut_do"
   ]
  },
  {
   "cell_type": "code",
   "execution_count": 102,
   "metadata": {},
   "outputs": [
    {
     "output_type": "stream",
     "name": "stdout",
     "text": [
      "계급     \t도수\t누적도수\n(83.5, 90.0]\t3\t3\n(83.5, 90.0]\t1\t4\n(51.0, 57.5]\t2\t6\n(57.5, 64.0]\t0\t6\n(70.5, 77.0]\t1\t7\n(77.0, 83.5]\t1\t8\n(70.5, 77.0]\t0\t8\n(83.5, 90.0]\t0\t8\n(24.935, 31.5]\t0\t8\n(24.935, 31.5]\t2\t10\n"
     ]
    }
   ],
   "source": [
    "# n : 계급, d : 도수, k : 누적도수 \n",
    "m=0\n",
    "print('계급     ','도수','누적도수',sep='\\t')\n",
    "for n,d in zip(sr_cut1,sr_cut_do):\n",
    "    m=m+d\n",
    "    print(n,d,m, sep='\\t')\n"
   ]
  },
  {
   "source": [
    "### 9. 과일의 비율을 파이차트로 그리시요"
   ],
   "cell_type": "markdown",
   "metadata": {}
  },
  {
   "cell_type": "code",
   "execution_count": 39,
   "metadata": {},
   "outputs": [
    {
     "output_type": "execute_result",
     "data": {
      "text/plain": [
       "사과    10\n",
       "딸기    20\n",
       "포도    30\n",
       "수박    50\n",
       "dtype: int64"
      ]
     },
     "metadata": {},
     "execution_count": 39
    }
   ],
   "source": [
    "fruit=pd.Series([10,20,30,50], index=['사과','딸기','포도','수박'] )\n",
    "fruit"
   ]
  },
  {
   "cell_type": "code",
   "execution_count": 40,
   "metadata": {},
   "outputs": [
    {
     "output_type": "display_data",
     "data": {
      "text/plain": "<Figure size 432x288 with 1 Axes>",
      "image/svg+xml": "<?xml version=\"1.0\" encoding=\"utf-8\" standalone=\"no\"?>\r\n<!DOCTYPE svg PUBLIC \"-//W3C//DTD SVG 1.1//EN\"\r\n  \"http://www.w3.org/Graphics/SVG/1.1/DTD/svg11.dtd\">\r\n<!-- Created with matplotlib (https://matplotlib.org/) -->\r\n<svg height=\"231.84pt\" version=\"1.1\" viewBox=\"0 0 248.874397 231.84\" width=\"248.874397pt\" xmlns=\"http://www.w3.org/2000/svg\" xmlns:xlink=\"http://www.w3.org/1999/xlink\">\r\n <metadata>\r\n  <rdf:RDF xmlns:cc=\"http://creativecommons.org/ns#\" xmlns:dc=\"http://purl.org/dc/elements/1.1/\" xmlns:rdf=\"http://www.w3.org/1999/02/22-rdf-syntax-ns#\">\r\n   <cc:Work>\r\n    <dc:type rdf:resource=\"http://purl.org/dc/dcmitype/StillImage\"/>\r\n    <dc:date>2020-12-22T17:02:01.463944</dc:date>\r\n    <dc:format>image/svg+xml</dc:format>\r\n    <dc:creator>\r\n     <cc:Agent>\r\n      <dc:title>Matplotlib v3.3.2, https://matplotlib.org/</dc:title>\r\n     </cc:Agent>\r\n    </dc:creator>\r\n   </cc:Work>\r\n  </rdf:RDF>\r\n </metadata>\r\n <defs>\r\n  <style type=\"text/css\">*{stroke-linecap:butt;stroke-linejoin:round;}</style>\r\n </defs>\r\n <g id=\"figure_1\">\r\n  <g id=\"patch_1\">\r\n   <path d=\"M 0 231.84 \r\nL 248.874397 231.84 \r\nL 248.874397 0 \r\nL 0 0 \r\nz\r\n\" style=\"fill:none;\"/>\r\n  </g>\r\n  <g id=\"axes_1\">\r\n   <g id=\"patch_2\">\r\n    <path d=\"M 216.85225 115.92 \r\nC 216.85225 107.625859 215.66584 99.374199 213.329111 91.416028 \r\nC 210.992381 83.457858 207.529268 75.874699 203.045116 68.897223 \r\nL 129.87625 115.92 \r\nL 216.85225 115.92 \r\nz\r\n\" style=\"fill:#1f77b4;\"/>\r\n   </g>\r\n   <g id=\"patch_3\">\r\n    <path d=\"M 203.045116 68.897223 \r\nC 194.031596 54.871912 181.172695 43.729611 166.007383 36.803846 \r\nC 150.842072 29.878081 134.000493 27.456629 117.49827 29.829291 \r\nL 129.87625 115.92 \r\nL 203.045116 68.897223 \r\nz\r\n\" style=\"fill:#ff7f0e;\"/>\r\n   </g>\r\n   <g id=\"patch_4\">\r\n    <path d=\"M 117.49827 29.829291 \r\nC 105.157734 31.603593 93.341744 36.01073 82.85347 42.751136 \r\nC 72.365195 49.491542 63.447784 58.408954 56.707379 68.89723 \r\nC 49.966975 79.385506 45.559839 91.201496 43.785539 103.542032 \r\nC 42.011239 115.882569 42.910908 128.461562 46.423392 140.423979 \r\nL 129.87625 115.92 \r\nL 117.49827 29.829291 \r\nz\r\n\" style=\"fill:#2ca02c;\"/>\r\n   </g>\r\n   <g id=\"patch_5\">\r\n    <path d=\"M 46.423392 140.423979 \r\nC 52.316528 160.494153 65.256579 177.780032 82.853483 189.088873 \r\nC 100.450388 200.397714 121.549669 204.987579 142.254238 202.010708 \r\nC 162.958806 199.033837 181.910302 188.685534 195.608334 172.877156 \r\nC 209.306367 157.068778 216.852254 136.837462 216.85225 115.919984 \r\nL 129.87625 115.92 \r\nL 46.423392 140.423979 \r\nz\r\n\" style=\"fill:#d62728;\"/>\r\n   </g>\r\n   <g id=\"matplotlib.axis_1\"/>\r\n   <g id=\"matplotlib.axis_2\">\r\n    <g id=\"text_1\">\r\n     <!-- None -->\r\n     <g transform=\"translate(14.792188 128.3075)rotate(-90)scale(0.1 -0.1)\">\r\n      <defs>\r\n       <path d=\"M 67 0 \r\nL 57.078125 0 \r\nL 19.578125 58.015625 \r\nQ 18.40625 59.8125 17.328125 62.5 \r\nL 17.09375 62.5 \r\nQ 17.4375 59.71875 17.4375 52.6875 \r\nL 17.4375 0 \r\nL 9.515625 0 \r\nL 9.515625 71.875 \r\nL 19.96875 71.875 \r\nL 56.453125 14.65625 \r\nQ 58.984375 10.6875 59.328125 9.90625 \r\nL 59.515625 9.90625 \r\nQ 58.984375 13.484375 58.984375 20.5625 \r\nL 58.984375 71.875 \r\nL 67 71.875 \r\nz\r\n\" id=\"MalgunGothic-78\"/>\r\n       <path d=\"M 4.9375 25 \r\nQ 4.9375 37.796875 11.890625 45.140625 \r\nQ 18.84375 52.484375 30.90625 52.484375 \r\nQ 42.140625 52.484375 48.609375 45.421875 \r\nQ 55.078125 38.375 55.078125 25.78125 \r\nQ 55.078125 13.578125 48.09375 6.171875 \r\nQ 41.109375 -1.21875 29.6875 -1.21875 \r\nQ 18.5 -1.21875 11.71875 6 \r\nQ 4.9375 13.234375 4.9375 25 \r\nz\r\nM 12.796875 25.34375 \r\nQ 12.796875 16.265625 17.546875 10.8125 \r\nQ 22.3125 5.375 30.21875 5.375 \r\nQ 38.421875 5.375 42.796875 10.625 \r\nQ 47.171875 15.875 47.171875 25.53125 \r\nQ 47.171875 35.25 42.765625 40.59375 \r\nQ 38.375 45.953125 30.21875 45.953125 \r\nQ 22.265625 45.953125 17.53125 40.421875 \r\nQ 12.796875 34.90625 12.796875 25.34375 \r\nz\r\n\" id=\"MalgunGothic-111\"/>\r\n       <path d=\"M 50.59375 0 \r\nL 42.828125 0 \r\nL 42.828125 29.296875 \r\nQ 42.828125 45.953125 30.671875 45.953125 \r\nQ 24.421875 45.953125 20.28125 41.234375 \r\nQ 16.15625 36.53125 16.15625 29.25 \r\nL 16.15625 0 \r\nL 8.40625 0 \r\nL 8.40625 51.3125 \r\nL 16.15625 51.3125 \r\nL 16.15625 42.71875 \r\nL 16.359375 42.71875 \r\nQ 22.125 52.484375 33.203125 52.484375 \r\nQ 41.65625 52.484375 46.125 47.0625 \r\nQ 50.59375 41.65625 50.59375 31.34375 \r\nz\r\n\" id=\"MalgunGothic-110\"/>\r\n       <path d=\"M 49.3125 23.734375 \r\nL 12.9375 23.734375 \r\nQ 13.1875 14.84375 17.703125 10.125 \r\nQ 22.21875 5.421875 29.828125 5.421875 \r\nQ 38.625 5.421875 45.84375 11.234375 \r\nL 45.84375 3.8125 \r\nQ 38.96875 -1.21875 28.03125 -1.21875 \r\nQ 17.1875 -1.21875 11.0625 5.875 \r\nQ 4.9375 12.984375 4.9375 25.53125 \r\nQ 4.9375 37.203125 11.671875 44.84375 \r\nQ 18.40625 52.484375 28.375 52.484375 \r\nQ 38.328125 52.484375 43.8125 45.96875 \r\nQ 49.3125 39.453125 49.3125 27.9375 \r\nz\r\nM 41.3125 30.5625 \r\nQ 41.3125 37.75 37.859375 41.796875 \r\nQ 34.421875 45.84375 28.265625 45.84375 \r\nQ 22.46875 45.84375 18.265625 41.671875 \r\nQ 14.0625 37.5 13.03125 30.5625 \r\nz\r\n\" id=\"MalgunGothic-101\"/>\r\n      </defs>\r\n      <use xlink:href=\"#MalgunGothic-78\"/>\r\n      <use x=\"76.513672\" xlink:href=\"#MalgunGothic-111\"/>\r\n      <use x=\"136.425781\" xlink:href=\"#MalgunGothic-110\"/>\r\n      <use x=\"194.238281\" xlink:href=\"#MalgunGothic-101\"/>\r\n     </g>\r\n    </g>\r\n   </g>\r\n   <g id=\"text_2\">\r\n    <!-- 사과 -->\r\n    <g transform=\"translate(221.674397 91.579694)scale(0.1 -0.1)\">\r\n     <defs>\r\n      <path d=\"M 79.59375 40.625 \r\nL 79.59375 -8.796875 \r\nL 72.3125 -8.796875 \r\nL 72.3125 85.40625 \r\nL 79.59375 85.40625 \r\nL 79.59375 47.125 \r\nL 95.90625 47.125 \r\nL 95.90625 40.625 \r\nz\r\nM 58.5 15.09375 \r\nQ 50.53125 21.1875 43.75 30.25 \r\nQ 36.96875 39.3125 34.90625 46.09375 \r\nQ 32.71875 38.625 26.125 29.421875 \r\nQ 19.53125 20.21875 11.53125 13.921875 \r\nL 5.90625 18.796875 \r\nQ 17.4375 26.609375 24.3125 38.734375 \r\nQ 31.203125 50.875 31.203125 63.484375 \r\nL 31.203125 78.90625 \r\nL 38.484375 78.90625 \r\nL 38.484375 63.8125 \r\nQ 38.484375 51.515625 45.28125 39.890625 \r\nQ 52.09375 28.265625 63.625 20.796875 \r\nz\r\n\" id=\"MalgunGothic-49324\"/>\r\n      <path d=\"M 96.6875 41.609375 \r\nL 81.296875 41.609375 \r\nL 81.296875 -8.796875 \r\nL 73.875 -8.796875 \r\nL 73.875 85.40625 \r\nL 81.203125 85.40625 \r\nL 81.203125 48.09375 \r\nL 96.6875 48.09375 \r\nz\r\nM 59.8125 76.515625 \r\nQ 59.8125 49.125 58.015625 28.125 \r\nL 50.875 28.609375 \r\nQ 51.46875 33.796875 51.96875 48.078125 \r\nQ 52.484375 62.359375 52.484375 70.015625 \r\nL 12.5 70.015625 \r\nL 12.5 76.515625 \r\nz\r\nM 67.484375 10.40625 \r\nQ 42 8.984375 4.390625 8.984375 \r\nL 3.71875 15.375 \r\nQ 8.734375 15.375 27.296875 15.625 \r\nL 27.296875 48.1875 \r\nL 34.625 48.1875 \r\nL 34.625 15.71875 \r\nL 67 16.703125 \r\nz\r\n\" id=\"MalgunGothic-44284\"/>\r\n     </defs>\r\n     <use xlink:href=\"#MalgunGothic-49324\"/>\r\n     <use x=\"100\" xlink:href=\"#MalgunGothic-44284\"/>\r\n    </g>\r\n   </g>\r\n   <g id=\"text_3\">\r\n    <!-- 9.09 -->\r\n    <g transform=\"translate(170.592498 103.83168)scale(0.1 -0.1)\">\r\n     <defs>\r\n      <path d=\"M 8.6875 8.796875 \r\nQ 14.703125 5.375 21.34375 5.375 \r\nQ 31.15625 5.375 36.671875 13.359375 \r\nQ 42.1875 21.34375 42.1875 36.140625 \r\nQ 42.09375 36.03125 42 36.140625 \r\nQ 37.3125 26.765625 25.828125 26.765625 \r\nQ 16.546875 26.765625 10.65625 33.125 \r\nQ 4.78125 39.5 4.78125 49.125 \r\nQ 4.78125 59.46875 11.109375 66.25 \r\nQ 17.4375 73.046875 27.6875 73.046875 \r\nQ 38.53125 73.046875 44.265625 64.546875 \r\nQ 50 56.0625 50 40.28125 \r\nQ 50 20.609375 42.453125 9.6875 \r\nQ 34.90625 -1.21875 21 -1.21875 \r\nQ 13.765625 -1.21875 8.6875 1.21875 \r\nz\r\nM 12.703125 50.296875 \r\nQ 12.703125 42.828125 16.609375 38.28125 \r\nQ 20.515625 33.734375 27.484375 33.734375 \r\nQ 33.546875 33.734375 37.59375 37.765625 \r\nQ 41.65625 41.796875 41.65625 47.609375 \r\nQ 41.65625 55.5625 37.671875 60.984375 \r\nQ 33.6875 66.40625 26.953125 66.40625 \r\nQ 20.65625 66.40625 16.671875 61.6875 \r\nQ 12.703125 56.984375 12.703125 50.296875 \r\nz\r\n\" id=\"MalgunGothic-57\"/>\r\n      <path d=\"M 5.5625 4.296875 \r\nQ 5.5625 6.59375 7.171875 8.171875 \r\nQ 8.796875 9.765625 10.9375 9.765625 \r\nQ 13.09375 9.765625 14.703125 8.171875 \r\nQ 16.3125 6.59375 16.3125 4.296875 \r\nQ 16.3125 2.15625 14.71875 0.515625 \r\nQ 13.140625 -1.125 10.9375 -1.125 \r\nQ 8.734375 -1.125 7.140625 0.453125 \r\nQ 5.5625 2.046875 5.5625 4.296875 \r\nz\r\n\" id=\"MalgunGothic-46\"/>\r\n      <path d=\"M 4.34375 34.46875 \r\nQ 4.34375 53.515625 10.546875 63.28125 \r\nQ 16.75 73.046875 28.421875 73.046875 \r\nQ 50.828125 73.046875 50.828125 36.234375 \r\nQ 50.828125 18.0625 44.59375 8.421875 \r\nQ 38.375 -1.21875 26.8125 -1.21875 \r\nQ 15.875 -1.21875 10.109375 8.125 \r\nQ 4.34375 17.484375 4.34375 34.46875 \r\nz\r\nM 12.25 34.859375 \r\nQ 12.25 5.375 27.640625 5.375 \r\nQ 42.921875 5.375 42.921875 35.296875 \r\nQ 42.921875 66.40625 28.03125 66.40625 \r\nQ 12.25 66.40625 12.25 34.859375 \r\nz\r\n\" id=\"MalgunGothic-48\"/>\r\n     </defs>\r\n     <use xlink:href=\"#MalgunGothic-57\"/>\r\n     <use x=\"55.078125\" xlink:href=\"#MalgunGothic-46\"/>\r\n     <use x=\"76.953125\" xlink:href=\"#MalgunGothic-48\"/>\r\n     <use x=\"132.03125\" xlink:href=\"#MalgunGothic-57\"/>\r\n    </g>\r\n   </g>\r\n   <g id=\"text_4\">\r\n    <!-- 딸기 -->\r\n    <g transform=\"translate(169.620497 31.506293)scale(0.1 -0.1)\">\r\n     <defs>\r\n      <path d=\"M 81.109375 58.796875 \r\nL 81.109375 39.3125 \r\nL 73.78125 39.3125 \r\nL 73.78125 85.40625 \r\nL 81.109375 85.40625 \r\nL 81.109375 65.375 \r\nL 95.015625 65.375 \r\nL 95.015625 58.796875 \r\nz\r\nM 68.796875 46.296875 \r\nQ 61.8125 44.921875 40.09375 44.921875 \r\nL 40.09375 81.203125 \r\nL 64.796875 81.203125 \r\nL 64.796875 74.8125 \r\nL 47.40625 74.8125 \r\nL 47.40625 51.3125 \r\nQ 62.9375 51.3125 68.109375 52.59375 \r\nz\r\nM 36.53125 46.78125 \r\nQ 27.640625 45.015625 10.015625 45.015625 \r\nL 10.015625 81.203125 \r\nL 34.28125 81.203125 \r\nL 34.28125 74.8125 \r\nL 17.1875 74.8125 \r\nL 17.1875 51.421875 \r\nQ 30.03125 51.421875 35.5 52.875 \r\nz\r\nM 23 -6.6875 \r\nL 23 17.390625 \r\nL 73.875 17.390625 \r\nL 73.875 27.59375 \r\nL 23 27.59375 \r\nL 23 33.984375 \r\nL 81.109375 33.984375 \r\nL 81.109375 10.984375 \r\nL 30.171875 10.984375 \r\nL 30.171875 -0.203125 \r\nL 83.6875 -0.203125 \r\nL 83.6875 -6.6875 \r\nz\r\n\" id=\"MalgunGothic-46392\"/>\r\n      <path d=\"M 76.3125 -8.796875 \r\nL 76.3125 85.40625 \r\nL 83.59375 85.40625 \r\nL 83.59375 -8.796875 \r\nz\r\nM 57.421875 76.703125 \r\nQ 57.078125 57.125 46.1875 40.796875 \r\nQ 35.296875 24.46875 14.984375 13.1875 \r\nL 9.421875 19.09375 \r\nQ 24.359375 25.296875 35.828125 38.71875 \r\nQ 47.3125 52.15625 49.609375 70.21875 \r\nL 13.28125 70.21875 \r\nL 13.28125 76.703125 \r\nz\r\n\" id=\"MalgunGothic-44592\"/>\r\n     </defs>\r\n     <use xlink:href=\"#MalgunGothic-46392\"/>\r\n     <use x=\"100\" xlink:href=\"#MalgunGothic-44592\"/>\r\n    </g>\r\n   </g>\r\n   <g id=\"text_5\">\r\n    <!-- 18.18 -->\r\n    <g transform=\"translate(139.445555 71.06437)scale(0.1 -0.1)\">\r\n     <defs>\r\n      <path d=\"M 34.859375 0 \r\nL 27.09375 0 \r\nL 27.09375 62.0625 \r\nQ 24.859375 59.8125 19.78125 57.203125 \r\nQ 14.703125 54.59375 10.5 53.5625 \r\nL 10.5 61.859375 \r\nQ 15.875 63.375 22.015625 66.796875 \r\nQ 28.171875 70.21875 31.734375 73.4375 \r\nL 34.859375 73.4375 \r\nz\r\n\" id=\"MalgunGothic-49\"/>\r\n      <path d=\"M 4.734375 20.015625 \r\nQ 4.734375 26.078125 8.421875 31.421875 \r\nQ 12.109375 36.765625 18.015625 38.96875 \r\nQ 13.375 41.359375 10.546875 45.546875 \r\nQ 7.71875 49.75 7.71875 54.6875 \r\nQ 7.71875 59.8125 10.296875 64.03125 \r\nQ 12.890625 68.265625 17.53125 70.65625 \r\nQ 22.171875 73.046875 27.78125 73.046875 \r\nQ 36.46875 73.046875 42.1875 67.84375 \r\nQ 47.90625 62.640625 47.90625 54.6875 \r\nQ 47.90625 49.703125 45.015625 45.53125 \r\nQ 42.140625 41.359375 37.703125 38.96875 \r\nQ 43.5625 36.71875 47.21875 31.390625 \r\nQ 50.875 26.078125 50.875 20.015625 \r\nQ 50.875 10.5 44.421875 4.640625 \r\nQ 37.984375 -1.21875 27.78125 -1.21875 \r\nQ 17.671875 -1.21875 11.203125 4.703125 \r\nQ 4.734375 10.640625 4.734375 20.015625 \r\nz\r\nM 12.640625 20.75 \r\nQ 12.640625 13.71875 16.890625 9.546875 \r\nQ 21.140625 5.375 27.828125 5.375 \r\nQ 34.46875 5.375 38.78125 9.671875 \r\nQ 43.109375 13.96875 43.109375 20.75 \r\nQ 43.109375 27.046875 38.78125 31.421875 \r\nQ 34.46875 35.796875 27.828125 35.796875 \r\nQ 21.4375 35.796875 17.03125 31.5625 \r\nQ 12.640625 27.34375 12.640625 20.75 \r\nz\r\nM 15.671875 54.046875 \r\nQ 15.671875 48.828125 19.28125 45.3125 \r\nQ 22.90625 41.796875 27.828125 41.796875 \r\nQ 32.765625 41.796875 36.40625 45.3125 \r\nQ 40.046875 48.828125 40.046875 54.046875 \r\nQ 40.046875 59.421875 36.578125 62.90625 \r\nQ 33.109375 66.40625 27.828125 66.40625 \r\nQ 22.65625 66.40625 19.15625 62.953125 \r\nQ 15.671875 59.515625 15.671875 54.046875 \r\nz\r\n\" id=\"MalgunGothic-56\"/>\r\n     </defs>\r\n     <use xlink:href=\"#MalgunGothic-49\"/>\r\n     <use x=\"55.078125\" xlink:href=\"#MalgunGothic-56\"/>\r\n     <use x=\"110.15625\" xlink:href=\"#MalgunGothic-46\"/>\r\n     <use x=\"132.03125\" xlink:href=\"#MalgunGothic-49\"/>\r\n     <use x=\"187.109375\" xlink:href=\"#MalgunGothic-56\"/>\r\n    </g>\r\n   </g>\r\n   <g id=\"text_6\">\r\n    <!-- 포도 -->\r\n    <g transform=\"translate(29.390492 66.809015)scale(0.1 -0.1)\">\r\n     <defs>\r\n      <path d=\"M 15.578125 76.515625 \r\nL 84.421875 76.515625 \r\nL 84.421875 70.125 \r\nL 15.578125 70.125 \r\nz\r\nM 70.21875 38.71875 \r\nL 85.59375 38.71875 \r\nL 85.59375 32.171875 \r\nL 53.71875 32.171875 \r\nL 53.71875 11.8125 \r\nL 93.703125 11.8125 \r\nL 93.703125 5.328125 \r\nL 6.296875 5.328125 \r\nL 6.296875 11.8125 \r\nL 46.296875 11.8125 \r\nL 46.296875 32.171875 \r\nL 14.40625 32.171875 \r\nL 14.40625 38.71875 \r\nL 29.78125 38.71875 \r\nL 28.609375 65.1875 \r\nL 35.796875 65.1875 \r\nL 37.109375 38.71875 \r\nL 62.890625 38.71875 \r\nL 64.203125 65.1875 \r\nL 71.390625 65.1875 \r\nz\r\n\" id=\"MalgunGothic-54252\"/>\r\n      <path d=\"M 6.296875 5.8125 \r\nL 6.296875 12.3125 \r\nL 46.296875 12.3125 \r\nL 46.296875 34.078125 \r\nL 21.09375 34.078125 \r\nL 21.09375 76.515625 \r\nL 78.90625 76.515625 \r\nL 78.90625 70.015625 \r\nL 28.421875 70.015625 \r\nL 28.421875 40.625 \r\nL 80.421875 40.625 \r\nL 80.421875 34.078125 \r\nL 53.71875 34.078125 \r\nL 53.71875 12.3125 \r\nL 93.703125 12.3125 \r\nL 93.703125 5.8125 \r\nz\r\n\" id=\"MalgunGothic-46020\"/>\r\n     </defs>\r\n     <use xlink:href=\"#MalgunGothic-54252\"/>\r\n     <use x=\"100\" xlink:href=\"#MalgunGothic-46020\"/>\r\n    </g>\r\n   </g>\r\n   <g id=\"text_7\">\r\n    <!-- 27.27 -->\r\n    <g transform=\"translate(73.865552 90.3204)scale(0.1 -0.1)\">\r\n     <defs>\r\n      <path d=\"M 39.359375 52.6875 \r\nQ 39.359375 59.125 35.546875 62.78125 \r\nQ 31.734375 66.453125 25.4375 66.453125 \r\nQ 20.953125 66.453125 16.453125 64.125 \r\nQ 11.96875 61.8125 8.34375 57.765625 \r\nL 8.34375 66.15625 \r\nQ 15.328125 73.046875 26.421875 73.046875 \r\nQ 35.640625 73.046875 41.28125 67.71875 \r\nQ 46.921875 62.40625 46.921875 53.375 \r\nQ 46.921875 45.609375 43.3125 39.765625 \r\nQ 39.703125 33.9375 31 27.734375 \r\nQ 22.796875 21.96875 19.59375 18.984375 \r\nQ 16.40625 16.015625 15.109375 13.34375 \r\nQ 13.8125 10.6875 13.8125 7.03125 \r\nL 48.6875 7.03125 \r\nL 48.6875 0 \r\nL 5.5625 0 \r\nL 5.5625 3.515625 \r\nQ 5.5625 9.421875 7.203125 13.59375 \r\nQ 8.84375 17.78125 12.671875 21.75 \r\nQ 16.5 25.734375 24.953125 31.59375 \r\nQ 32.671875 36.921875 36.015625 41.71875 \r\nQ 39.359375 46.53125 39.359375 52.6875 \r\nz\r\n\" id=\"MalgunGothic-50\"/>\r\n      <path d=\"M 50.203125 67.140625 \r\nQ 38.71875 46.96875 32.25 29.96875 \r\nQ 25.78125 12.984375 24.21875 0 \r\nL 15.765625 0 \r\nQ 16.9375 8.296875 20.15625 18.375 \r\nQ 23.390625 28.46875 28.359375 39.640625 \r\nQ 33.34375 50.828125 41.109375 64.796875 \r\nL 4.546875 64.796875 \r\nL 4.546875 71.875 \r\nL 50.203125 71.875 \r\nz\r\n\" id=\"MalgunGothic-55\"/>\r\n     </defs>\r\n     <use xlink:href=\"#MalgunGothic-50\"/>\r\n     <use x=\"55.078125\" xlink:href=\"#MalgunGothic-55\"/>\r\n     <use x=\"110.15625\" xlink:href=\"#MalgunGothic-46\"/>\r\n     <use x=\"132.03125\" xlink:href=\"#MalgunGothic-50\"/>\r\n     <use x=\"187.109375\" xlink:href=\"#MalgunGothic-55\"/>\r\n    </g>\r\n   </g>\r\n   <g id=\"text_8\">\r\n    <!-- 수박 -->\r\n    <g transform=\"translate(143.492037 213.233841)scale(0.1 -0.1)\">\r\n     <defs>\r\n      <path d=\"M 85.796875 46.78125 \r\nQ 74.21875 48.390625 63.71875 54.65625 \r\nQ 53.21875 60.9375 50 66.796875 \r\nQ 46.484375 60.796875 36.078125 54.546875 \r\nQ 25.6875 48.296875 14.40625 46.1875 \r\nL 9.90625 52.296875 \r\nQ 24.359375 53.90625 35.328125 61.59375 \r\nQ 46.296875 69.28125 46.296875 78.328125 \r\nL 46.296875 82.421875 \r\nL 53.609375 82.421875 \r\nL 53.609375 78.328125 \r\nQ 53.609375 69.234375 64.34375 61.6875 \r\nQ 75.09375 54.15625 90.09375 52.78125 \r\nz\r\nM 53.609375 28.71875 \r\nL 53.609375 -8.796875 \r\nL 46.296875 -8.796875 \r\nL 46.296875 28.71875 \r\nL 6.296875 28.71875 \r\nL 6.296875 35.203125 \r\nL 93.703125 35.203125 \r\nL 93.703125 28.71875 \r\nz\r\n\" id=\"MalgunGothic-49688\"/>\r\n      <path d=\"M 79.984375 53.71875 \r\nL 79.984375 31.390625 \r\nL 72.703125 31.390625 \r\nL 72.703125 85.40625 \r\nL 79.984375 85.40625 \r\nL 79.984375 60.296875 \r\nL 94.1875 60.296875 \r\nL 94.1875 53.71875 \r\nz\r\nM 11.8125 37.59375 \r\nL 11.8125 82.078125 \r\nL 19 82.078125 \r\nL 19 66.109375 \r\nL 47.796875 66.109375 \r\nL 47.796875 82.078125 \r\nL 54.984375 82.078125 \r\nL 54.984375 37.59375 \r\nz\r\nM 47.796875 59.625 \r\nL 19 59.625 \r\nL 19 44 \r\nL 47.796875 44 \r\nz\r\nM 72.703125 -8.796875 \r\nL 72.703125 19.828125 \r\nL 19.578125 19.828125 \r\nL 19.578125 26.3125 \r\nL 79.984375 26.3125 \r\nL 79.984375 -8.796875 \r\nz\r\n\" id=\"MalgunGothic-48149\"/>\r\n     </defs>\r\n     <use xlink:href=\"#MalgunGothic-49688\"/>\r\n     <use x=\"100\" xlink:href=\"#MalgunGothic-48149\"/>\r\n    </g>\r\n   </g>\r\n   <g id=\"text_9\">\r\n    <!-- 45.45 -->\r\n    <g transform=\"translate(125.193668 170.188487)scale(0.1 -0.1)\">\r\n     <defs>\r\n      <path d=\"M 42.234375 71.875 \r\nL 42.234375 24.421875 \r\nL 51.703125 24.421875 \r\nL 51.703125 17.390625 \r\nL 42.234375 17.390625 \r\nL 42.234375 0 \r\nL 34.578125 0 \r\nL 34.578125 17.390625 \r\nL 0.78125 17.390625 \r\nL 0.78125 23.96875 \r\nQ 11.375 35.890625 20.234375 48.578125 \r\nQ 29.109375 61.28125 33.9375 71.875 \r\nz\r\nM 9.765625 24.421875 \r\nL 34.578125 24.421875 \r\nL 34.578125 59.859375 \r\nQ 25.203125 43.5625 14.984375 30.953125 \r\nz\r\n\" id=\"MalgunGothic-52\"/>\r\n      <path d=\"M 48 21.921875 \r\nQ 48 11.28125 41.1875 5.03125 \r\nQ 34.375 -1.21875 22.953125 -1.21875 \r\nQ 12.9375 -1.21875 8.0625 1.765625 \r\nL 8.0625 10.15625 \r\nQ 15.53125 5.375 23.046875 5.375 \r\nQ 30.765625 5.375 35.46875 9.84375 \r\nQ 40.1875 14.3125 40.1875 21.4375 \r\nQ 40.1875 28.71875 35.390625 32.6875 \r\nQ 30.609375 36.671875 21.578125 36.671875 \r\nQ 15.53125 36.671875 9.421875 35.9375 \r\nL 11.859375 71.875 \r\nL 44.828125 71.875 \r\nL 44.828125 64.796875 \r\nL 18.84375 64.796875 \r\nL 17.28125 43.171875 \r\nQ 21.046875 43.5 24.171875 43.5 \r\nQ 35.359375 43.5 41.671875 37.71875 \r\nQ 48 31.9375 48 21.921875 \r\nz\r\n\" id=\"MalgunGothic-53\"/>\r\n     </defs>\r\n     <use xlink:href=\"#MalgunGothic-52\"/>\r\n     <use x=\"55.078125\" xlink:href=\"#MalgunGothic-53\"/>\r\n     <use x=\"110.15625\" xlink:href=\"#MalgunGothic-46\"/>\r\n     <use x=\"132.03125\" xlink:href=\"#MalgunGothic-52\"/>\r\n     <use x=\"187.109375\" xlink:href=\"#MalgunGothic-53\"/>\r\n    </g>\r\n   </g>\r\n  </g>\r\n </g>\r\n</svg>\r\n",
      "image/png": "[encoded data removed]"
     },
     "metadata": {}
    }
   ],
   "source": [
    "fruit.plot(kind='pie', autopct='%.2f')\n",
    "plt.show()"
   ]
  }
 ]
}