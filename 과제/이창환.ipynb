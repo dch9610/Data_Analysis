{
 "cells": [
  {
   "cell_type": "code",
   "execution_count": 60,
   "metadata": {},
   "outputs": [],
   "source": [
    "import numpy as np\n",
    "# 시각화 관련된 라이브러리\n",
    "import matplotlib.pyplot as plt"
   ]
  },
  {
   "cell_type": "code",
   "execution_count": 6,
   "metadata": {},
   "outputs": [
    {
     "data": {
      "text/plain": [
       "array([[   1880,   90993,  110491],\n",
       "       [   1881,   91954,  100745],\n",
       "       [   1882,  107850,  113688],\n",
       "       [   1883,  112321,  104629],\n",
       "       [   1884,  129022,  114445],\n",
       "       [   1885,  133055,  107800],\n",
       "       [   1886,  144535,  110784],\n",
       "       [   1887,  145982,  101414],\n",
       "       [   1888,  178627,  120853],\n",
       "       [   1889,  178366,  110584],\n",
       "       [   1890,  190377,  111025],\n",
       "       [   1891,  185482,  101196],\n",
       "       [   1892,  212346,  122037],\n",
       "       [   1893,  212906,  112317],\n",
       "       [   1894,  222922,  115772],\n",
       "       [   1895,  233630,  117398],\n",
       "       [   1896,  237920,  119570],\n",
       "       [   1897,  234202,  112758],\n",
       "       [   1898,  258770,  122693],\n",
       "       [   1899,  233023,  106212],\n",
       "       [   1900,  299828,  150499],\n",
       "       [   1901,  239348,  106471],\n",
       "       [   1902,  264077,  122659],\n",
       "       [   1903,  261973,  119234],\n",
       "       [   1904,  275371,  128125],\n",
       "       [   1905,  291629,  132319],\n",
       "       [   1906,  295303,  133159],\n",
       "       [   1907,  318566,  146833],\n",
       "       [   1908,  334313,  154344],\n",
       "       [   1909,  347228,  163999],\n",
       "       [   1910,  396501,  194218],\n",
       "       [   1911,  418299,  225968],\n",
       "       [   1912,  558103,  429945],\n",
       "       [   1913,  624518,  512557],\n",
       "       [   1914,  761548,  654762],\n",
       "       [   1915,  983874,  848603],\n",
       "       [   1916, 1044323,  890099],\n",
       "       [   1917, 1081280,  925511],\n",
       "       [   1918, 1157647, 1013537],\n",
       "       [   1919, 1130145,  980149],\n",
       "       [   1920, 1198283, 1064463],\n",
       "       [   1921, 1232999, 1101457],\n",
       "       [   1922, 1200919, 1088287],\n",
       "       [   1923, 1206330, 1096168],\n",
       "       [   1924, 1248876, 1132751],\n",
       "       [   1925, 1217352, 1115958],\n",
       "       [   1926, 1185304, 1110505],\n",
       "       [   1927, 1192330, 1126717],\n",
       "       [   1928, 1153117, 1107518],\n",
       "       [   1929, 1116422, 1075313],\n",
       "       [   1930, 1125761, 1097176],\n",
       "       [   1931, 1064497, 1039127],\n",
       "       [   1932, 1066994, 1043808],\n",
       "       [   1933, 1007710,  991127],\n",
       "       [   1934, 1044039, 1032291],\n",
       "       [   1935, 1048428, 1040930],\n",
       "       [   1936, 1040202, 1036974],\n",
       "       [   1937, 1063872, 1066309],\n",
       "       [   1938, 1103277, 1108841],\n",
       "       [   1939, 1096518, 1106544],\n",
       "       [   1940, 1143325, 1158900],\n",
       "       [   1941, 1207919, 1227941],\n",
       "       [   1942, 1350545, 1380774],\n",
       "       [   1943, 1395082, 1426846],\n",
       "       [   1944, 1327104, 1362555],\n",
       "       [   1945, 1307028, 1345610],\n",
       "       [   1946, 1571184, 1623650],\n",
       "       [   1947, 1772644, 1829223],\n",
       "       [   1948, 1697814, 1754469],\n",
       "       [   1949, 1710825, 1773725],\n",
       "       [   1950, 1713180, 1790673],\n",
       "       [   1951, 1800042, 1881080],\n",
       "       [   1952, 1854698, 1944277],\n",
       "       [   1953, 1880326, 1969777],\n",
       "       [   1954, 1941682, 2037374],\n",
       "       [   1955, 1954664, 2057918],\n",
       "       [   1956, 2007512, 2113694],\n",
       "       [   1957, 2044160, 2155866],\n",
       "       [   1958, 2010884, 2120712],\n",
       "       [   1959, 2023044, 2133509],\n",
       "       [   1960, 2022093, 2132717],\n",
       "       [   1961, 2017316, 2122502],\n",
       "       [   1962, 1966548, 2068945],\n",
       "       [   1963, 1927217, 2031755],\n",
       "       [   1964, 1894594, 1993270],\n",
       "       [   1965, 1765001, 1861378],\n",
       "       [   1966, 1691868, 1783964],\n",
       "       [   1967, 1650764, 1744527],\n",
       "       [   1968, 1640103, 1738928],\n",
       "       [   1969, 1686947, 1789732],\n",
       "       [   1970, 1748147, 1859594],\n",
       "       [   1971, 1663475, 1769201],\n",
       "       [   1972, 1521185, 1622666],\n",
       "       [   1973, 1458139, 1559338],\n",
       "       [   1974, 1467413, 1573105],\n",
       "       [   1975, 1457699, 1562207],\n",
       "       [   1976, 1465096, 1569904],\n",
       "       [   1977, 1532997, 1643684],\n",
       "       [   1978, 1531658, 1642250],\n",
       "       [   1979, 1605051, 1721947],\n",
       "       [   1980, 1659933, 1783876],\n",
       "       [   1981, 1667465, 1790907],\n",
       "       [   1982, 1692678, 1813970],\n",
       "       [   1983, 1670061, 1791732],\n",
       "       [   1984, 1682973, 1803830],\n",
       "       [   1985, 1720036, 1847032],\n",
       "       [   1986, 1714664, 1840164],\n",
       "       [   1987, 1737891, 1865662],\n",
       "       [   1988, 1779839, 1912602],\n",
       "       [   1989, 1843105, 1999999],\n",
       "       [   1990, 1897709, 2052543],\n",
       "       [   1991, 1874434, 2019463],\n",
       "       [   1992, 1843304, 1996388],\n",
       "       [   1993, 1808379, 1960397],\n",
       "       [   1994, 1785074, 1931157],\n",
       "       [   1995, 1757927, 1902832],\n",
       "       [   1996, 1752249, 1893378],\n",
       "       [   1997, 1739806, 1884122],\n",
       "       [   1998, 1765915, 1910250],\n",
       "       [   1999, 1772632, 1918809],\n",
       "       [   2000, 1814601, 1962406],\n",
       "       [   2001, 1799049, 1941251],\n",
       "       [   2002, 1795206, 1939815],\n",
       "       [   2003, 1825359, 1973434],\n",
       "       [   2004, 1834145, 1982794],\n",
       "       [   2005, 1845379, 1994841],\n",
       "       [   2006, 1898463, 2052377],\n",
       "       [   2007, 1919408, 2072139],\n",
       "       [   2008, 1887234, 2036289],\n",
       "       [   2009, 1832925, 1979303],\n",
       "       [   2010, 1772738, 1913851],\n",
       "       [   2011, 1753500, 1893230]], dtype=int64)"
      ]
     },
     "execution_count": 6,
     "metadata": {},
     "output_type": "execute_result"
    }
   ],
   "source": [
    "birth = np.loadtxt('data/births.txt', delimiter=',', dtype=np.int64)\n",
    "birth"
   ]
  },
  {
   "cell_type": "markdown",
   "metadata": {},
   "source": [
    "### 1. 남아 ,여아 출생 평균을 구하시요"
   ]
  },
  {
   "cell_type": "code",
   "execution_count": 11,
   "metadata": {
    "scrolled": true
   },
   "outputs": [
    {
     "data": {
      "text/plain": [
       "array([1225776.06818182, 1245399.21212121])"
      ]
     },
     "execution_count": 11,
     "metadata": {},
     "output_type": "execute_result"
    }
   ],
   "source": [
    "np.mean(birth[:,[1,2]],axis=0)"
   ]
  },
  {
   "cell_type": "markdown",
   "metadata": {},
   "source": [
    "### 2. 2000년대 이후데이터를 구하시요\n",
    "<pre>\n",
    " 년도   남아   여아\n",
    " ==============\n",
    " 2000     xx     xx\n",
    " </pre>"
   ]
  },
  {
   "cell_type": "code",
   "execution_count": 49,
   "metadata": {},
   "outputs": [
    {
     "data": {
      "text/plain": [
       "array([   2000, 1814601, 1962406], dtype=int64)"
      ]
     },
     "execution_count": 49,
     "metadata": {},
     "output_type": "execute_result"
    }
   ],
   "source": [
    "birth_2000=birth[:,[0]]>=2000\n",
    "birth_2000=birth_2000.reshape(-1)\n",
    "\n",
    "birth[birth_2000]"
   ]
  },
  {
   "cell_type": "code",
   "execution_count": 53,
   "metadata": {},
   "outputs": [
    {
     "name": "stdout",
     "output_type": "stream",
     "text": [
      "년도  남아  여아\n",
      "====================\n",
      "2000 1814601 1962406\n",
      "2001 1799049 1941251\n",
      "2002 1795206 1939815\n",
      "2003 1825359 1973434\n",
      "2004 1834145 1982794\n",
      "2005 1845379 1994841\n",
      "2006 1898463 2052377\n",
      "2007 1919408 2072139\n",
      "2008 1887234 2036289\n",
      "2009 1832925 1979303\n",
      "2010 1772738 1913851\n",
      "2011 1753500 1893230\n"
     ]
    }
   ],
   "source": [
    "print('년도 ','남아 ','여아')\n",
    "print('='*20)\n",
    "for a,b,c in birth[birth_2000]:\n",
    "    print(a,b,c)"
   ]
  },
  {
   "cell_type": "markdown",
   "metadata": {},
   "source": [
    "### 3. 남아출생이 가장많은 년도와 남아수를 구하시요."
   ]
  },
  {
   "cell_type": "code",
   "execution_count": 85,
   "metadata": {},
   "outputs": [
    {
     "data": {
      "text/plain": [
       "2044160"
      ]
     },
     "execution_count": 85,
     "metadata": {},
     "output_type": "execute_result"
    }
   ],
   "source": [
    "birth[:,1].max()"
   ]
  },
  {
   "cell_type": "code",
   "execution_count": 86,
   "metadata": {},
   "outputs": [
    {
     "data": {
      "text/plain": [
       "array([[   1957, 2044160, 2155866]], dtype=int64)"
      ]
     },
     "execution_count": 86,
     "metadata": {},
     "output_type": "execute_result"
    }
   ],
   "source": [
    "birth[birth[:,1] == birth[:,1].max()] "
   ]
  },
  {
   "cell_type": "markdown",
   "metadata": {},
   "source": [
    "### 4. 남아출생이 가장많은 top5를 구하시요(년도와 남아수)"
   ]
  },
  {
   "cell_type": "code",
   "execution_count": 94,
   "metadata": {},
   "outputs": [
    {
     "data": {
      "text/plain": [
       "(132, 3)"
      ]
     },
     "execution_count": 94,
     "metadata": {},
     "output_type": "execute_result"
    }
   ],
   "source": [
    "birth.shape"
   ]
  },
  {
   "cell_type": "code",
   "execution_count": 128,
   "metadata": {},
   "outputs": [
    {
     "data": {
      "text/plain": [
       "array([2044160, 2023044, 2022093, 2017316, 2010884], dtype=int64)"
      ]
     },
     "execution_count": 128,
     "metadata": {},
     "output_type": "execute_result"
    }
   ],
   "source": [
    "birth_top = np.sort(birth[:,1])[-1::-1][0:5]\n",
    "birth_top"
   ]
  },
  {
   "cell_type": "code",
   "execution_count": 135,
   "metadata": {},
   "outputs": [
    {
     "name": "stdout",
     "output_type": "stream",
     "text": [
      "2044160\n",
      "2023044\n",
      "2022093\n",
      "2017316\n",
      "2010884\n"
     ]
    }
   ],
   "source": [
    "for n in birth_top:\n",
    "    print(n)"
   ]
  },
  {
   "cell_type": "markdown",
   "metadata": {},
   "source": [
    "### 5. 남아율(%) 을 구하고 각년도별\n",
    "<pre>\n",
    "남아수가 차지하는비율을 데이터로\n",
    "보여주시요.\n",
    "남아    여아    남아율\n",
    "===================\n",
    "..\n",
    "</pre>"
   ]
  },
  {
   "cell_type": "code",
   "execution_count": null,
   "metadata": {},
   "outputs": [],
   "source": []
  },
  {
   "cell_type": "code",
   "execution_count": null,
   "metadata": {},
   "outputs": [],
   "source": []
  },
  {
   "cell_type": "markdown",
   "metadata": {},
   "source": [
    "### 6. 2000년도 이후데이터 에 대해 출생량 을 구하고\n",
    "### 남아수가 1800000 이상이면 '많음'아니면 '적음'이라고 보여 주시요\n",
    "<pre>\n",
    "\t남아수 출생량\n",
    "2000   1233   '많음'\n",
    "2001   1234   '적음'\n",
    "</pre>"
   ]
  },
  {
   "cell_type": "code",
   "execution_count": 80,
   "metadata": {},
   "outputs": [
    {
     "data": {
      "text/plain": [
       "array(['많음', '적음', '적음', '많음', '많음', '많음', '많음', '많음', '많음', '많음', '적음',\n",
       "       '적음'], dtype='<U2')"
      ]
     },
     "execution_count": 80,
     "metadata": {},
     "output_type": "execute_result"
    }
   ],
   "source": [
    "birth_2000=birth_2000.reshape(-1)\n",
    "birth_180 = birth[birth_2000][:,[1]]\n",
    "birth_180 = birth_180.reshape(-1)\n",
    "\n",
    "np.where(birth_180>=1800000,'많음','적음')\n",
    "\n",
    "\n",
    "# for a,b,c in zip(birth_2000, np.where(birth_180>=1800000,'많음','적음')):\n",
    "#     print(a,b,c)"
   ]
  },
  {
   "cell_type": "markdown",
   "metadata": {},
   "source": [
    "### 7. 1800년대,1900년대,2000년대 각 남아,여야수 평균을 구하시요"
   ]
  },
  {
   "cell_type": "code",
   "execution_count": 137,
   "metadata": {
    "collapsed": true
   },
   "outputs": [
    {
     "data": {
      "text/plain": [
       "array([[  1880,  90993, 110491],\n",
       "       [  1881,  91954, 100745],\n",
       "       [  1882, 107850, 113688],\n",
       "       [  1883, 112321, 104629],\n",
       "       [  1884, 129022, 114445],\n",
       "       [  1885, 133055, 107800],\n",
       "       [  1886, 144535, 110784],\n",
       "       [  1887, 145982, 101414],\n",
       "       [  1888, 178627, 120853],\n",
       "       [  1889, 178366, 110584],\n",
       "       [  1890, 190377, 111025],\n",
       "       [  1891, 185482, 101196],\n",
       "       [  1892, 212346, 122037],\n",
       "       [  1893, 212906, 112317],\n",
       "       [  1894, 222922, 115772],\n",
       "       [  1895, 233630, 117398],\n",
       "       [  1896, 237920, 119570],\n",
       "       [  1897, 234202, 112758],\n",
       "       [  1898, 258770, 122693],\n",
       "       [  1899, 233023, 106212]], dtype=int64)"
      ]
     },
     "execution_count": 137,
     "metadata": {},
     "output_type": "execute_result"
    }
   ],
   "source": [
    "birth_1800=(birth[:,[0]]>=1800) & (birth[:,[0]]<1900)\n",
    "birth_1800=birth_1800.reshape(-1)\n",
    "\n",
    "birth[birth_1800]"
   ]
  },
  {
   "cell_type": "code",
   "execution_count": 142,
   "metadata": {},
   "outputs": [
    {
     "name": "stdout",
     "output_type": "stream",
     "text": [
      "176714.15\n",
      "111820.55\n"
     ]
    }
   ],
   "source": [
    "# 1800년대 남아수 평균\n",
    "print(birth[birth_1800][:,[1]].mean())\n",
    "\n",
    "# 1800년대 여아수 평균\n",
    "print(birth[birth_1800][:,[2]].mean())"
   ]
  },
  {
   "cell_type": "code",
   "execution_count": 143,
   "metadata": {
    "collapsed": true
   },
   "outputs": [
    {
     "data": {
      "text/plain": [
       "array([[   1900,  299828,  150499],\n",
       "       [   1901,  239348,  106471],\n",
       "       [   1902,  264077,  122659],\n",
       "       [   1903,  261973,  119234],\n",
       "       [   1904,  275371,  128125],\n",
       "       [   1905,  291629,  132319],\n",
       "       [   1906,  295303,  133159],\n",
       "       [   1907,  318566,  146833],\n",
       "       [   1908,  334313,  154344],\n",
       "       [   1909,  347228,  163999],\n",
       "       [   1910,  396501,  194218],\n",
       "       [   1911,  418299,  225968],\n",
       "       [   1912,  558103,  429945],\n",
       "       [   1913,  624518,  512557],\n",
       "       [   1914,  761548,  654762],\n",
       "       [   1915,  983874,  848603],\n",
       "       [   1916, 1044323,  890099],\n",
       "       [   1917, 1081280,  925511],\n",
       "       [   1918, 1157647, 1013537],\n",
       "       [   1919, 1130145,  980149],\n",
       "       [   1920, 1198283, 1064463],\n",
       "       [   1921, 1232999, 1101457],\n",
       "       [   1922, 1200919, 1088287],\n",
       "       [   1923, 1206330, 1096168],\n",
       "       [   1924, 1248876, 1132751],\n",
       "       [   1925, 1217352, 1115958],\n",
       "       [   1926, 1185304, 1110505],\n",
       "       [   1927, 1192330, 1126717],\n",
       "       [   1928, 1153117, 1107518],\n",
       "       [   1929, 1116422, 1075313],\n",
       "       [   1930, 1125761, 1097176],\n",
       "       [   1931, 1064497, 1039127],\n",
       "       [   1932, 1066994, 1043808],\n",
       "       [   1933, 1007710,  991127],\n",
       "       [   1934, 1044039, 1032291],\n",
       "       [   1935, 1048428, 1040930],\n",
       "       [   1936, 1040202, 1036974],\n",
       "       [   1937, 1063872, 1066309],\n",
       "       [   1938, 1103277, 1108841],\n",
       "       [   1939, 1096518, 1106544],\n",
       "       [   1940, 1143325, 1158900],\n",
       "       [   1941, 1207919, 1227941],\n",
       "       [   1942, 1350545, 1380774],\n",
       "       [   1943, 1395082, 1426846],\n",
       "       [   1944, 1327104, 1362555],\n",
       "       [   1945, 1307028, 1345610],\n",
       "       [   1946, 1571184, 1623650],\n",
       "       [   1947, 1772644, 1829223],\n",
       "       [   1948, 1697814, 1754469],\n",
       "       [   1949, 1710825, 1773725],\n",
       "       [   1950, 1713180, 1790673],\n",
       "       [   1951, 1800042, 1881080],\n",
       "       [   1952, 1854698, 1944277],\n",
       "       [   1953, 1880326, 1969777],\n",
       "       [   1954, 1941682, 2037374],\n",
       "       [   1955, 1954664, 2057918],\n",
       "       [   1956, 2007512, 2113694],\n",
       "       [   1957, 2044160, 2155866],\n",
       "       [   1958, 2010884, 2120712],\n",
       "       [   1959, 2023044, 2133509],\n",
       "       [   1960, 2022093, 2132717],\n",
       "       [   1961, 2017316, 2122502],\n",
       "       [   1962, 1966548, 2068945],\n",
       "       [   1963, 1927217, 2031755],\n",
       "       [   1964, 1894594, 1993270],\n",
       "       [   1965, 1765001, 1861378],\n",
       "       [   1966, 1691868, 1783964],\n",
       "       [   1967, 1650764, 1744527],\n",
       "       [   1968, 1640103, 1738928],\n",
       "       [   1969, 1686947, 1789732],\n",
       "       [   1970, 1748147, 1859594],\n",
       "       [   1971, 1663475, 1769201],\n",
       "       [   1972, 1521185, 1622666],\n",
       "       [   1973, 1458139, 1559338],\n",
       "       [   1974, 1467413, 1573105],\n",
       "       [   1975, 1457699, 1562207],\n",
       "       [   1976, 1465096, 1569904],\n",
       "       [   1977, 1532997, 1643684],\n",
       "       [   1978, 1531658, 1642250],\n",
       "       [   1979, 1605051, 1721947],\n",
       "       [   1980, 1659933, 1783876],\n",
       "       [   1981, 1667465, 1790907],\n",
       "       [   1982, 1692678, 1813970],\n",
       "       [   1983, 1670061, 1791732],\n",
       "       [   1984, 1682973, 1803830],\n",
       "       [   1985, 1720036, 1847032],\n",
       "       [   1986, 1714664, 1840164],\n",
       "       [   1987, 1737891, 1865662],\n",
       "       [   1988, 1779839, 1912602],\n",
       "       [   1989, 1843105, 1999999],\n",
       "       [   1990, 1897709, 2052543],\n",
       "       [   1991, 1874434, 2019463],\n",
       "       [   1992, 1843304, 1996388],\n",
       "       [   1993, 1808379, 1960397],\n",
       "       [   1994, 1785074, 1931157],\n",
       "       [   1995, 1757927, 1902832],\n",
       "       [   1996, 1752249, 1893378],\n",
       "       [   1997, 1739806, 1884122],\n",
       "       [   1998, 1765915, 1910250],\n",
       "       [   1999, 1772632, 1918809]], dtype=int64)"
      ]
     },
     "execution_count": 143,
     "metadata": {},
     "output_type": "execute_result"
    }
   ],
   "source": [
    "birth_1900=(birth[:,[0]]>=1900) & (birth[:,[0]]<2000)\n",
    "birth_1900=birth_1900.reshape(-1)\n",
    "\n",
    "birth[birth_1900]"
   ]
  },
  {
   "cell_type": "code",
   "execution_count": 144,
   "metadata": {},
   "outputs": [
    {
     "name": "stdout",
     "output_type": "stream",
     "text": [
      "1362901.51\n",
      "1384145.55\n"
     ]
    }
   ],
   "source": [
    "# 1900년대 남아수 평균\n",
    "print(birth[birth_1900][:,[1]].mean())\n",
    "\n",
    "# 1900년대 여아수 평균\n",
    "print(birth[birth_1900][:,[2]].mean())"
   ]
  },
  {
   "cell_type": "code",
   "execution_count": 145,
   "metadata": {},
   "outputs": [
    {
     "name": "stdout",
     "output_type": "stream",
     "text": [
      "1831500.5833333333\n",
      "1978477.5\n"
     ]
    }
   ],
   "source": [
    "# 2000년대 남아수 평균\n",
    "print(birth[birth_2000][:,[1]].mean())\n",
    "\n",
    "# 2000년대 여아수 평균\n",
    "print(birth[birth_2000][:,[2]].mean())"
   ]
  },
  {
   "cell_type": "markdown",
   "metadata": {},
   "source": [
    "### 8. 여아 25%~75%사이의 값을 구하시요"
   ]
  },
  {
   "cell_type": "code",
   "execution_count": 150,
   "metadata": {},
   "outputs": [
    {
     "data": {
      "text/plain": [
       "array([ 491904. , 1904686.5])"
      ]
     },
     "execution_count": 150,
     "metadata": {},
     "output_type": "execute_result"
    }
   ],
   "source": [
    "birth_girl = birth[:,[2]]\n",
    "np.quantile(birth_girl,[0.25,0.75])"
   ]
  },
  {
   "cell_type": "markdown",
   "metadata": {},
   "source": [
    "### 9. 2000년대 남아데이터를 바차트로 그리시요."
   ]
  },
  {
   "cell_type": "code",
   "execution_count": 62,
   "metadata": {},
   "outputs": [],
   "source": [
    "year = birth[birth_2000][:,[0]]\n",
    "year = year.reshape(-1)\n",
    "boy = birth[birth_2000][:,[1]]\n",
    "boy = boy.reshape(-1)"
   ]
  },
  {
   "cell_type": "code",
   "execution_count": 63,
   "metadata": {},
   "outputs": [
    {
     "data": {
      "text/plain": [
       "<BarContainer object of 12 artists>"
      ]
     },
     "execution_count": 63,
     "metadata": {},
     "output_type": "execute_result"
    },
    {
     "data": {
      "image/png": "[encoded data removed]",
      "text/plain": [
       "<Figure size 432x288 with 1 Axes>"
      ]
     },
     "metadata": {
      "needs_background": "light"
     },
     "output_type": "display_data"
    }
   ],
   "source": [
    "plt.bar(year,boy)"
   ]
  }
 ],
 "metadata": {
  "kernelspec": {
   "display_name": "Python 3",
   "language": "python",
   "name": "python3"
  },
  "language_info": {
   "codemirror_mode": {
    "name": "ipython",
    "version": 3
   },
   "file_extension": ".py",
   "mimetype": "text/x-python",
   "name": "python",
   "nbconvert_exporter": "python",
   "pygments_lexer": "ipython3",
   "version": "3.8.5"
  }
 },
 "nbformat": 4,
 "nbformat_minor": 4
}
