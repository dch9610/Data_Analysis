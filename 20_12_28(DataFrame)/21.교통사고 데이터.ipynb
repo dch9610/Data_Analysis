{
 "metadata": {
  "language_info": {
   "codemirror_mode": {
    "name": "ipython",
    "version": 3
   },
   "file_extension": ".py",
   "mimetype": "text/x-python",
   "name": "python",
   "nbconvert_exporter": "python",
   "pygments_lexer": "ipython3",
   "version": "3.8.5-final"
  },
  "orig_nbformat": 2,
  "kernelspec": {
   "name": "python3",
   "display_name": "Python 3",
   "language": "python"
  }
 },
 "nbformat": 4,
 "nbformat_minor": 2,
 "cells": [
  {
   "cell_type": "code",
   "execution_count": 1,
   "metadata": {},
   "outputs": [
    {
     "output_type": "stream",
     "name": "stdout",
     "text": [
      "Requirement already satisfied: folium in c:\\users\\pnu\\anaconda3\\lib\\site-packages (0.11.0)\nRequirement already satisfied: numpy in c:\\users\\pnu\\anaconda3\\lib\\site-packages (from folium) (1.19.2)\nRequirement already satisfied: requests in c:\\users\\pnu\\anaconda3\\lib\\site-packages (from folium) (2.24.0)\nRequirement already satisfied: branca>=0.3.0 in c:\\users\\pnu\\anaconda3\\lib\\site-packages (from folium) (0.4.1)\nRequirement already satisfied: jinja2>=2.9 in c:\\users\\pnu\\anaconda3\\lib\\site-packages (from folium) (2.11.2)\nRequirement already satisfied: jinja2>=2.9 in c:\\users\\pnu\\anaconda3\\lib\\site-packages (from folium) (2.11.2)\nRequirement already satisfied: MarkupSafe>=0.23 in c:\\users\\pnu\\anaconda3\\lib\\site-packages (from jinja2>=2.9->folium) (1.1.1)\nRequirement already satisfied: idna<3,>=2.5 in c:\\users\\pnu\\anaconda3\\lib\\site-packages (from requests->folium) (2.10)\nRequirement already satisfied: chardet<4,>=3.0.2 in c:\\users\\pnu\\anaconda3\\lib\\site-packages (from requests->folium) (3.0.4)\nRequirement already satisfied: certifi>=2017.4.17 in c:\\users\\pnu\\anaconda3\\lib\\site-packages (from requests->folium) (2020.12.5)\nRequirement already satisfied: urllib3!=1.25.0,!=1.25.1,<1.26,>=1.21.1 in c:\\users\\pnu\\anaconda3\\lib\\site-packages (from requests->folium) (1.25.11)\n"
     ]
    }
   ],
   "source": [
    "!pip install folium"
   ]
  },
  {
   "cell_type": "code",
   "execution_count": 2,
   "metadata": {},
   "outputs": [],
   "source": [
    "import folium"
   ]
  },
  {
   "cell_type": "code",
   "execution_count": 11,
   "metadata": {},
   "outputs": [
    {
     "output_type": "execute_result",
     "data": {
      "text/plain": [
       "<folium.folium.Map at 0x15f77f46070>"
      ],
      "text/html": "<div style=\"width:100%;\"><div style=\"position:relative;width:100%;height:0;padding-bottom:60%;\"><span style=\"color:#565656\">Make this Notebook Trusted to load map: File -> Trust Notebook</span><iframe src=\"about:blank\" style=\"position:absolute;width:100%;height:100%;left:0;top:0;border:none !important;\" data-html=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 onload=\"this.contentDocument.open();this.contentDocument.write(atob(this.getAttribute('data-html')));this.contentDocument.close();\" allowfullscreen webkitallowfullscreen mozallowfullscreen></iframe></div></div>"
     },
     "metadata": {},
     "execution_count": 11
    }
   ],
   "source": [
    "map = folium.Map(location=(35.23184977916883, 129.08399145559102), \n",
    "            zoom_start=17)\n",
    "mk = folium.Marker(location=(35.23184977916883, 129.08399145559102), popup='정문')\n",
    "mk.add_to(map)\n",
    "map"
   ]
  },
  {
   "cell_type": "code",
   "execution_count": 12,
   "metadata": {},
   "outputs": [],
   "source": [
    "from bs4 import BeautifulSoup\n",
    "import urllib.request as REQ # http 통신 라이브러리\n",
    "import pandas as pd\n",
    "import numpy as np\n",
    "\n",
    "import matplotlib.pyplot as plt\n",
    "import matplotlib\n",
    "matplotlib.rcParams['font.family']='Malgun Gothic'\n",
    "matplotlib.rcParams['axes.unicode_minus']=False"
   ]
  },
  {
   "cell_type": "code",
   "execution_count": 13,
   "metadata": {},
   "outputs": [
    {
     "output_type": "execute_result",
     "data": {
      "text/plain": [
       "       발생년      발생년월일시  발생분 주야 요일  사망자수  사상자수  중상자수  경상자수  부상신고자수  ...  \\\n",
       "0     2018  2018021406   35  주  수     1     1     0     0       0  ...   \n",
       "1     2018  2018090205   23  야  일     1     1     0     0       0  ...   \n",
       "2     2018  2018121522   35  야  토     1     1     0     0       0  ...   \n",
       "3     2018  2018082311   30  주  목     1     1     0     0       0  ...   \n",
       "4     2018  2018071600   50  야  월     1     1     0     0       0  ...   \n",
       "...    ...         ...  ... .. ..   ...   ...   ...   ...     ...  ...   \n",
       "3652  2018  2018052103   55  야  월     1     1     0     0       0  ...   \n",
       "3653  2018  2018060808   43  주  금     1     1     0     0       0  ...   \n",
       "3654  2018  2018012010   15  주  토     1     1     0     0       0  ...   \n",
       "3655  2018  2018020321    5  야  토     1     1     0     0       0  ...   \n",
       "3656  2018  2018120310    5  주  월     1     2     0     1       0  ...   \n",
       "\n",
       "     도로형태_대분류      도로형태 가해자_당사자종별_대분류 가해자_당사자종별 피해자_당사자종별_대분류 피해자_당사자종별  \\\n",
       "0         단일로     기타단일로           승용차       승용차           보행자       보행자   \n",
       "1         교차로  교차로횡단보도내           승용차       승용차           보행자       보행자   \n",
       "2         단일로     기타단일로           이륜차       이륜차            없음        없음   \n",
       "3         단일로     기타단일로           승합차       승합차            없음        없음   \n",
       "4         교차로  교차로횡단보도내           화물차       화물차           보행자       보행자   \n",
       "...       ...       ...           ...       ...           ...       ...   \n",
       "3652      단일로     기타단일로           승용차       승용차            없음        없음   \n",
       "3653      단일로     기타단일로           화물차       화물차           농기계       농기계   \n",
       "3654      단일로     기타단일로           승용차       승용차            없음        없음   \n",
       "3655      단일로     기타단일로           승용차       승용차           승용차       승용차   \n",
       "3656      단일로       교량위           승용차       승용차           승용차       승용차   \n",
       "\n",
       "     발생위치X_UTMK 발생위치Y_UTMK          경도         위도  \n",
       "0      950497.0  1954702.0  126.939274  37.590388  \n",
       "1      953337.0  1950150.0  126.971732  37.549508  \n",
       "2      956967.0  1954807.0  127.012552  37.591659  \n",
       "3      958020.0  1959193.0  127.024227  37.631240  \n",
       "4      957606.0  1958258.0  127.019590  37.622794  \n",
       "...         ...        ...         ...        ...  \n",
       "3652   973070.0  1988564.0  127.193701  37.896529  \n",
       "3653   979900.0  2006212.0  127.270890  38.055765  \n",
       "3654  1001226.0  1959902.0  127.513896  37.638589  \n",
       "3655  1000491.0  1988419.0  127.505584  37.895621  \n",
       "3656   962029.0  2000296.0  127.067505  38.001873  \n",
       "\n",
       "[3657 rows x 27 columns]"
      ],
      "text/html": "<div>\n<style scoped>\n    .dataframe tbody tr th:only-of-type {\n        vertical-align: middle;\n    }\n\n    .dataframe tbody tr th {\n        vertical-align: top;\n    }\n\n    .dataframe thead th {\n        text-align: right;\n    }\n</style>\n<table border=\"1\" class=\"dataframe\">\n  <thead>\n    <tr style=\"text-align: right;\">\n      <th></th>\n      <th>발생년</th>\n      <th>발생년월일시</th>\n      <th>발생분</th>\n      <th>주야</th>\n      <th>요일</th>\n      <th>사망자수</th>\n      <th>사상자수</th>\n      <th>중상자수</th>\n      <th>경상자수</th>\n      <th>부상신고자수</th>\n      <th>...</th>\n      <th>도로형태_대분류</th>\n      <th>도로형태</th>\n      <th>가해자_당사자종별_대분류</th>\n      <th>가해자_당사자종별</th>\n      <th>피해자_당사자종별_대분류</th>\n      <th>피해자_당사자종별</th>\n      <th>발생위치X_UTMK</th>\n      <th>발생위치Y_UTMK</th>\n      <th>경도</th>\n      <th>위도</th>\n    </tr>\n  </thead>\n  <tbody>\n    <tr>\n      <th>0</th>\n      <td>2018</td>\n      <td>2018021406</td>\n      <td>35</td>\n      <td>주</td>\n      <td>수</td>\n      <td>1</td>\n      <td>1</td>\n      <td>0</td>\n      <td>0</td>\n      <td>0</td>\n      <td>...</td>\n      <td>단일로</td>\n      <td>기타단일로</td>\n      <td>승용차</td>\n      <td>승용차</td>\n      <td>보행자</td>\n      <td>보행자</td>\n      <td>950497.0</td>\n      <td>1954702.0</td>\n      <td>126.939274</td>\n      <td>37.590388</td>\n    </tr>\n    <tr>\n      <th>1</th>\n      <td>2018</td>\n      <td>2018090205</td>\n      <td>23</td>\n      <td>야</td>\n      <td>일</td>\n      <td>1</td>\n      <td>1</td>\n      <td>0</td>\n      <td>0</td>\n      <td>0</td>\n      <td>...</td>\n      <td>교차로</td>\n      <td>교차로횡단보도내</td>\n      <td>승용차</td>\n      <td>승용차</td>\n      <td>보행자</td>\n      <td>보행자</td>\n      <td>953337.0</td>\n      <td>1950150.0</td>\n      <td>126.971732</td>\n      <td>37.549508</td>\n    </tr>\n    <tr>\n      <th>2</th>\n      <td>2018</td>\n      <td>2018121522</td>\n      <td>35</td>\n      <td>야</td>\n      <td>토</td>\n      <td>1</td>\n      <td>1</td>\n      <td>0</td>\n      <td>0</td>\n      <td>0</td>\n      <td>...</td>\n      <td>단일로</td>\n      <td>기타단일로</td>\n      <td>이륜차</td>\n      <td>이륜차</td>\n      <td>없음</td>\n      <td>없음</td>\n      <td>956967.0</td>\n      <td>1954807.0</td>\n      <td>127.012552</td>\n      <td>37.591659</td>\n    </tr>\n    <tr>\n      <th>3</th>\n      <td>2018</td>\n      <td>2018082311</td>\n      <td>30</td>\n      <td>주</td>\n      <td>목</td>\n      <td>1</td>\n      <td>1</td>\n      <td>0</td>\n      <td>0</td>\n      <td>0</td>\n      <td>...</td>\n      <td>단일로</td>\n      <td>기타단일로</td>\n      <td>승합차</td>\n      <td>승합차</td>\n      <td>없음</td>\n      <td>없음</td>\n      <td>958020.0</td>\n      <td>1959193.0</td>\n      <td>127.024227</td>\n      <td>37.631240</td>\n    </tr>\n    <tr>\n      <th>4</th>\n      <td>2018</td>\n      <td>2018071600</td>\n      <td>50</td>\n      <td>야</td>\n      <td>월</td>\n      <td>1</td>\n      <td>1</td>\n      <td>0</td>\n      <td>0</td>\n      <td>0</td>\n      <td>...</td>\n      <td>교차로</td>\n      <td>교차로횡단보도내</td>\n      <td>화물차</td>\n      <td>화물차</td>\n      <td>보행자</td>\n      <td>보행자</td>\n      <td>957606.0</td>\n      <td>1958258.0</td>\n      <td>127.019590</td>\n      <td>37.622794</td>\n    </tr>\n    <tr>\n      <th>...</th>\n      <td>...</td>\n      <td>...</td>\n      <td>...</td>\n      <td>...</td>\n      <td>...</td>\n      <td>...</td>\n      <td>...</td>\n      <td>...</td>\n      <td>...</td>\n      <td>...</td>\n      <td>...</td>\n      <td>...</td>\n      <td>...</td>\n      <td>...</td>\n      <td>...</td>\n      <td>...</td>\n      <td>...</td>\n      <td>...</td>\n      <td>...</td>\n      <td>...</td>\n      <td>...</td>\n    </tr>\n    <tr>\n      <th>3652</th>\n      <td>2018</td>\n      <td>2018052103</td>\n      <td>55</td>\n      <td>야</td>\n      <td>월</td>\n      <td>1</td>\n      <td>1</td>\n      <td>0</td>\n      <td>0</td>\n      <td>0</td>\n      <td>...</td>\n      <td>단일로</td>\n      <td>기타단일로</td>\n      <td>승용차</td>\n      <td>승용차</td>\n      <td>없음</td>\n      <td>없음</td>\n      <td>973070.0</td>\n      <td>1988564.0</td>\n      <td>127.193701</td>\n      <td>37.896529</td>\n    </tr>\n    <tr>\n      <th>3653</th>\n      <td>2018</td>\n      <td>2018060808</td>\n      <td>43</td>\n      <td>주</td>\n      <td>금</td>\n      <td>1</td>\n      <td>1</td>\n      <td>0</td>\n      <td>0</td>\n      <td>0</td>\n      <td>...</td>\n      <td>단일로</td>\n      <td>기타단일로</td>\n      <td>화물차</td>\n      <td>화물차</td>\n      <td>농기계</td>\n      <td>농기계</td>\n      <td>979900.0</td>\n      <td>2006212.0</td>\n      <td>127.270890</td>\n      <td>38.055765</td>\n    </tr>\n    <tr>\n      <th>3654</th>\n      <td>2018</td>\n      <td>2018012010</td>\n      <td>15</td>\n      <td>주</td>\n      <td>토</td>\n      <td>1</td>\n      <td>1</td>\n      <td>0</td>\n      <td>0</td>\n      <td>0</td>\n      <td>...</td>\n      <td>단일로</td>\n      <td>기타단일로</td>\n      <td>승용차</td>\n      <td>승용차</td>\n      <td>없음</td>\n      <td>없음</td>\n      <td>1001226.0</td>\n      <td>1959902.0</td>\n      <td>127.513896</td>\n      <td>37.638589</td>\n    </tr>\n    <tr>\n      <th>3655</th>\n      <td>2018</td>\n      <td>2018020321</td>\n      <td>5</td>\n      <td>야</td>\n      <td>토</td>\n      <td>1</td>\n      <td>1</td>\n      <td>0</td>\n      <td>0</td>\n      <td>0</td>\n      <td>...</td>\n      <td>단일로</td>\n      <td>기타단일로</td>\n      <td>승용차</td>\n      <td>승용차</td>\n      <td>승용차</td>\n      <td>승용차</td>\n      <td>1000491.0</td>\n      <td>1988419.0</td>\n      <td>127.505584</td>\n      <td>37.895621</td>\n    </tr>\n    <tr>\n      <th>3656</th>\n      <td>2018</td>\n      <td>2018120310</td>\n      <td>5</td>\n      <td>주</td>\n      <td>월</td>\n      <td>1</td>\n      <td>2</td>\n      <td>0</td>\n      <td>1</td>\n      <td>0</td>\n      <td>...</td>\n      <td>단일로</td>\n      <td>교량위</td>\n      <td>승용차</td>\n      <td>승용차</td>\n      <td>승용차</td>\n      <td>승용차</td>\n      <td>962029.0</td>\n      <td>2000296.0</td>\n      <td>127.067505</td>\n      <td>38.001873</td>\n    </tr>\n  </tbody>\n</table>\n<p>3657 rows × 27 columns</p>\n</div>"
     },
     "metadata": {},
     "execution_count": 13
    }
   ],
   "source": [
    "df = pd.read_csv('../data/도로교통공단_전국_사망교통사고정보(2018).csv',encoding='euc-kr')\n",
    "df\n"
   ]
  },
  {
   "source": [
    "#### 1. 부산에서 일어난 요일별 사망자수, 사상자수 를 출력하시요"
   ],
   "cell_type": "markdown",
   "metadata": {}
  },
  {
   "cell_type": "code",
   "execution_count": 63,
   "metadata": {},
   "outputs": [
    {
     "output_type": "execute_result",
     "data": {
      "text/plain": [
       "       발생년      발생년월일시  발생분 주야 요일  사망자수  사상자수  중상자수  경상자수  부상신고자수  ...  \\\n",
       "30    2018  2018081000   30  야  금     1     1     0     0       0  ...   \n",
       "31    2018  2018082219   41  야  수     1     1     0     0       0  ...   \n",
       "32    2018  2018100602   48  야  토     1     1     0     0       0  ...   \n",
       "33    2018  2018101006   20  주  수     1     2     1     0       0  ...   \n",
       "34    2018  2018041702   15  야  화     1     2     0     1       0  ...   \n",
       "...    ...         ...  ... .. ..   ...   ...   ...   ...     ...  ...   \n",
       "3216  2018  2018030806   30  주  목     1     1     0     0       0  ...   \n",
       "3217  2018  2018052202   40  야  화     1     2     1     0       0  ...   \n",
       "3218  2018  2018090515   14  주  수     1     1     0     0       0  ...   \n",
       "3219  2018  2018022218   43  야  목     1     6     1     4       0  ...   \n",
       "3220  2018  2018091320   20  야  목     1     1     0     0       0  ...   \n",
       "\n",
       "     도로형태_대분류      도로형태 가해자_당사자종별_대분류 가해자_당사자종별 피해자_당사자종별_대분류 피해자_당사자종별  \\\n",
       "30        단일로     기타단일로           승용차       승용차           보행자       보행자   \n",
       "31        교차로  교차로횡단보도내           승용차       승용차           보행자       보행자   \n",
       "32        단일로     기타단일로           승용차       승용차           보행자       보행자   \n",
       "33        교차로     교차로부근           이륜차       이륜차            없음        없음   \n",
       "34        단일로     기타단일로           승용차       승용차            없음        없음   \n",
       "...       ...       ...           ...       ...           ...       ...   \n",
       "3216      단일로     기타단일로           승용차       승용차           보행자       보행자   \n",
       "3217      단일로     기타단일로           승용차       승용차            없음        없음   \n",
       "3218      교차로      교차로내           화물차       화물차      원동기장치자전거  원동기장치자전거   \n",
       "3219      교차로     교차로부근           이륜차       이륜차           화물차       화물차   \n",
       "3220      교차로      교차로내           승용차       승용차           보행자       보행자   \n",
       "\n",
       "     발생위치X_UTMK 발생위치Y_UTMK          경도         위도  \n",
       "30    1141334.0  1682867.0  129.051251  35.131092  \n",
       "31    1145262.0  1689956.0  129.095597  35.194431  \n",
       "32    1143632.0  1690680.0  129.077825  35.201192  \n",
       "33    1142533.0  1678947.0  129.063732  35.095589  \n",
       "34    1152158.0  1688630.0  129.171072  35.181458  \n",
       "...         ...        ...         ...        ...  \n",
       "3216  1143957.0  1689244.0  129.081143  35.188201  \n",
       "3217  1127311.0  1683030.0  128.897406  35.134434  \n",
       "3218  1131666.0  1691724.0  128.946582  35.212244  \n",
       "3219  1136104.4  1684881.2  128.994202  35.149970  \n",
       "3220  1135066.0  1685389.0  128.982888  35.154687  \n",
       "\n",
       "[121 rows x 27 columns]"
      ],
      "text/html": "<div>\n<style scoped>\n    .dataframe tbody tr th:only-of-type {\n        vertical-align: middle;\n    }\n\n    .dataframe tbody tr th {\n        vertical-align: top;\n    }\n\n    .dataframe thead th {\n        text-align: right;\n    }\n</style>\n<table border=\"1\" class=\"dataframe\">\n  <thead>\n    <tr style=\"text-align: right;\">\n      <th></th>\n      <th>발생년</th>\n      <th>발생년월일시</th>\n      <th>발생분</th>\n      <th>주야</th>\n      <th>요일</th>\n      <th>사망자수</th>\n      <th>사상자수</th>\n      <th>중상자수</th>\n      <th>경상자수</th>\n      <th>부상신고자수</th>\n      <th>...</th>\n      <th>도로형태_대분류</th>\n      <th>도로형태</th>\n      <th>가해자_당사자종별_대분류</th>\n      <th>가해자_당사자종별</th>\n      <th>피해자_당사자종별_대분류</th>\n      <th>피해자_당사자종별</th>\n      <th>발생위치X_UTMK</th>\n      <th>발생위치Y_UTMK</th>\n      <th>경도</th>\n      <th>위도</th>\n    </tr>\n  </thead>\n  <tbody>\n    <tr>\n      <th>30</th>\n      <td>2018</td>\n      <td>2018081000</td>\n      <td>30</td>\n      <td>야</td>\n      <td>금</td>\n      <td>1</td>\n      <td>1</td>\n      <td>0</td>\n      <td>0</td>\n      <td>0</td>\n      <td>...</td>\n      <td>단일로</td>\n      <td>기타단일로</td>\n      <td>승용차</td>\n      <td>승용차</td>\n      <td>보행자</td>\n      <td>보행자</td>\n      <td>1141334.0</td>\n      <td>1682867.0</td>\n      <td>129.051251</td>\n      <td>35.131092</td>\n    </tr>\n    <tr>\n      <th>31</th>\n      <td>2018</td>\n      <td>2018082219</td>\n      <td>41</td>\n      <td>야</td>\n      <td>수</td>\n      <td>1</td>\n      <td>1</td>\n      <td>0</td>\n      <td>0</td>\n      <td>0</td>\n      <td>...</td>\n      <td>교차로</td>\n      <td>교차로횡단보도내</td>\n      <td>승용차</td>\n      <td>승용차</td>\n      <td>보행자</td>\n      <td>보행자</td>\n      <td>1145262.0</td>\n      <td>1689956.0</td>\n      <td>129.095597</td>\n      <td>35.194431</td>\n    </tr>\n    <tr>\n      <th>32</th>\n      <td>2018</td>\n      <td>2018100602</td>\n      <td>48</td>\n      <td>야</td>\n      <td>토</td>\n      <td>1</td>\n      <td>1</td>\n      <td>0</td>\n      <td>0</td>\n      <td>0</td>\n      <td>...</td>\n      <td>단일로</td>\n      <td>기타단일로</td>\n      <td>승용차</td>\n      <td>승용차</td>\n      <td>보행자</td>\n      <td>보행자</td>\n      <td>1143632.0</td>\n      <td>1690680.0</td>\n      <td>129.077825</td>\n      <td>35.201192</td>\n    </tr>\n    <tr>\n      <th>33</th>\n      <td>2018</td>\n      <td>2018101006</td>\n      <td>20</td>\n      <td>주</td>\n      <td>수</td>\n      <td>1</td>\n      <td>2</td>\n      <td>1</td>\n      <td>0</td>\n      <td>0</td>\n      <td>...</td>\n      <td>교차로</td>\n      <td>교차로부근</td>\n      <td>이륜차</td>\n      <td>이륜차</td>\n      <td>없음</td>\n      <td>없음</td>\n      <td>1142533.0</td>\n      <td>1678947.0</td>\n      <td>129.063732</td>\n      <td>35.095589</td>\n    </tr>\n    <tr>\n      <th>34</th>\n      <td>2018</td>\n      <td>2018041702</td>\n      <td>15</td>\n      <td>야</td>\n      <td>화</td>\n      <td>1</td>\n      <td>2</td>\n      <td>0</td>\n      <td>1</td>\n      <td>0</td>\n      <td>...</td>\n      <td>단일로</td>\n      <td>기타단일로</td>\n      <td>승용차</td>\n      <td>승용차</td>\n      <td>없음</td>\n      <td>없음</td>\n      <td>1152158.0</td>\n      <td>1688630.0</td>\n      <td>129.171072</td>\n      <td>35.181458</td>\n    </tr>\n    <tr>\n      <th>...</th>\n      <td>...</td>\n      <td>...</td>\n      <td>...</td>\n      <td>...</td>\n      <td>...</td>\n      <td>...</td>\n      <td>...</td>\n      <td>...</td>\n      <td>...</td>\n      <td>...</td>\n      <td>...</td>\n      <td>...</td>\n      <td>...</td>\n      <td>...</td>\n      <td>...</td>\n      <td>...</td>\n      <td>...</td>\n      <td>...</td>\n      <td>...</td>\n      <td>...</td>\n      <td>...</td>\n    </tr>\n    <tr>\n      <th>3216</th>\n      <td>2018</td>\n      <td>2018030806</td>\n      <td>30</td>\n      <td>주</td>\n      <td>목</td>\n      <td>1</td>\n      <td>1</td>\n      <td>0</td>\n      <td>0</td>\n      <td>0</td>\n      <td>...</td>\n      <td>단일로</td>\n      <td>기타단일로</td>\n      <td>승용차</td>\n      <td>승용차</td>\n      <td>보행자</td>\n      <td>보행자</td>\n      <td>1143957.0</td>\n      <td>1689244.0</td>\n      <td>129.081143</td>\n      <td>35.188201</td>\n    </tr>\n    <tr>\n      <th>3217</th>\n      <td>2018</td>\n      <td>2018052202</td>\n      <td>40</td>\n      <td>야</td>\n      <td>화</td>\n      <td>1</td>\n      <td>2</td>\n      <td>1</td>\n      <td>0</td>\n      <td>0</td>\n      <td>...</td>\n      <td>단일로</td>\n      <td>기타단일로</td>\n      <td>승용차</td>\n      <td>승용차</td>\n      <td>없음</td>\n      <td>없음</td>\n      <td>1127311.0</td>\n      <td>1683030.0</td>\n      <td>128.897406</td>\n      <td>35.134434</td>\n    </tr>\n    <tr>\n      <th>3218</th>\n      <td>2018</td>\n      <td>2018090515</td>\n      <td>14</td>\n      <td>주</td>\n      <td>수</td>\n      <td>1</td>\n      <td>1</td>\n      <td>0</td>\n      <td>0</td>\n      <td>0</td>\n      <td>...</td>\n      <td>교차로</td>\n      <td>교차로내</td>\n      <td>화물차</td>\n      <td>화물차</td>\n      <td>원동기장치자전거</td>\n      <td>원동기장치자전거</td>\n      <td>1131666.0</td>\n      <td>1691724.0</td>\n      <td>128.946582</td>\n      <td>35.212244</td>\n    </tr>\n    <tr>\n      <th>3219</th>\n      <td>2018</td>\n      <td>2018022218</td>\n      <td>43</td>\n      <td>야</td>\n      <td>목</td>\n      <td>1</td>\n      <td>6</td>\n      <td>1</td>\n      <td>4</td>\n      <td>0</td>\n      <td>...</td>\n      <td>교차로</td>\n      <td>교차로부근</td>\n      <td>이륜차</td>\n      <td>이륜차</td>\n      <td>화물차</td>\n      <td>화물차</td>\n      <td>1136104.4</td>\n      <td>1684881.2</td>\n      <td>128.994202</td>\n      <td>35.149970</td>\n    </tr>\n    <tr>\n      <th>3220</th>\n      <td>2018</td>\n      <td>2018091320</td>\n      <td>20</td>\n      <td>야</td>\n      <td>목</td>\n      <td>1</td>\n      <td>1</td>\n      <td>0</td>\n      <td>0</td>\n      <td>0</td>\n      <td>...</td>\n      <td>교차로</td>\n      <td>교차로내</td>\n      <td>승용차</td>\n      <td>승용차</td>\n      <td>보행자</td>\n      <td>보행자</td>\n      <td>1135066.0</td>\n      <td>1685389.0</td>\n      <td>128.982888</td>\n      <td>35.154687</td>\n    </tr>\n  </tbody>\n</table>\n<p>121 rows × 27 columns</p>\n</div>"
     },
     "metadata": {},
     "execution_count": 63
    }
   ],
   "source": [
    "df2 = df[df['발생지시도']=='부산']\n",
    "df2"
   ]
  },
  {
   "cell_type": "code",
   "execution_count": 64,
   "metadata": {},
   "outputs": [
    {
     "output_type": "execute_result",
     "data": {
      "text/plain": [
       "    사망자수  사상자수\n",
       "요일            \n",
       "월     16    22\n",
       "화     13    17\n",
       "수     19    48\n",
       "목     22    33\n",
       "금     14    14\n",
       "토     28    39\n",
       "일     11    15"
      ],
      "text/html": "<div>\n<style scoped>\n    .dataframe tbody tr th:only-of-type {\n        vertical-align: middle;\n    }\n\n    .dataframe tbody tr th {\n        vertical-align: top;\n    }\n\n    .dataframe thead th {\n        text-align: right;\n    }\n</style>\n<table border=\"1\" class=\"dataframe\">\n  <thead>\n    <tr style=\"text-align: right;\">\n      <th></th>\n      <th>사망자수</th>\n      <th>사상자수</th>\n    </tr>\n    <tr>\n      <th>요일</th>\n      <th></th>\n      <th></th>\n    </tr>\n  </thead>\n  <tbody>\n    <tr>\n      <th>월</th>\n      <td>16</td>\n      <td>22</td>\n    </tr>\n    <tr>\n      <th>화</th>\n      <td>13</td>\n      <td>17</td>\n    </tr>\n    <tr>\n      <th>수</th>\n      <td>19</td>\n      <td>48</td>\n    </tr>\n    <tr>\n      <th>목</th>\n      <td>22</td>\n      <td>33</td>\n    </tr>\n    <tr>\n      <th>금</th>\n      <td>14</td>\n      <td>14</td>\n    </tr>\n    <tr>\n      <th>토</th>\n      <td>28</td>\n      <td>39</td>\n    </tr>\n    <tr>\n      <th>일</th>\n      <td>11</td>\n      <td>15</td>\n    </tr>\n  </tbody>\n</table>\n</div>"
     },
     "metadata": {},
     "execution_count": 64
    }
   ],
   "source": [
    "df2.groupby('요일')['사망자수','사상자수'].sum().loc[['월','화','수','목','금','토','일']]"
   ]
  },
  {
   "source": [
    "#### 2.부산 사하구 지역의 교통사고 위치를 지도로 표시하고 각마커에는 법규위반내용을 표시하시요"
   ],
   "cell_type": "markdown",
   "metadata": {}
  },
  {
   "cell_type": "code",
   "execution_count": 75,
   "metadata": {},
   "outputs": [
    {
     "output_type": "execute_result",
     "data": {
      "text/plain": [
       "             법규위반         위도          경도\n",
       "42    보행자 보호의무 위반  35.092209  128.960255\n",
       "944      안전거리 미확보  35.106171  128.963631\n",
       "1390         신호위반  35.064719  128.979537"
      ],
      "text/html": "<div>\n<style scoped>\n    .dataframe tbody tr th:only-of-type {\n        vertical-align: middle;\n    }\n\n    .dataframe tbody tr th {\n        vertical-align: top;\n    }\n\n    .dataframe thead th {\n        text-align: right;\n    }\n</style>\n<table border=\"1\" class=\"dataframe\">\n  <thead>\n    <tr style=\"text-align: right;\">\n      <th></th>\n      <th>법규위반</th>\n      <th>위도</th>\n      <th>경도</th>\n    </tr>\n  </thead>\n  <tbody>\n    <tr>\n      <th>42</th>\n      <td>보행자 보호의무 위반</td>\n      <td>35.092209</td>\n      <td>128.960255</td>\n    </tr>\n    <tr>\n      <th>944</th>\n      <td>안전거리 미확보</td>\n      <td>35.106171</td>\n      <td>128.963631</td>\n    </tr>\n    <tr>\n      <th>1390</th>\n      <td>신호위반</td>\n      <td>35.064719</td>\n      <td>128.979537</td>\n    </tr>\n  </tbody>\n</table>\n</div>"
     },
     "metadata": {},
     "execution_count": 75
    }
   ],
   "source": [
    "df3 = df[df['발생지시군구']=='사하구']\n",
    "df3 = df3[['법규위반','위도','경도']]\n",
    "df3"
   ]
  },
  {
   "cell_type": "code",
   "execution_count": 78,
   "metadata": {},
   "outputs": [
    {
     "output_type": "execute_result",
     "data": {
      "text/plain": [
       "<folium.folium.Map at 0x15f7a664dc0>"
      ],
      "text/html": "<div style=\"width:100%;\"><div style=\"position:relative;width:100%;height:0;padding-bottom:60%;\"><span style=\"color:#565656\">Make this Notebook Trusted to load map: File -> Trust Notebook</span><iframe src=\"about:blank\" style=\"position:absolute;width:100%;height:100%;left:0;top:0;border:none !important;\" data-html=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 onload=\"this.contentDocument.open();this.contentDocument.write(atob(this.getAttribute('data-html')));this.contentDocument.close();\" allowfullscreen webkitallowfullscreen mozallowfullscreen></iframe></div></div>"
     },
     "metadata": {},
     "execution_count": 78
    }
   ],
   "source": [
    "map =folium.Map(location=[df3['위도'].mean(),df3['경도'].mean()], zoom_start = 13)\n",
    "\n",
    "for a,b,c in df3.values:\n",
    "    folium.Marker( location = (b,c) , popup = a).add_to(map)\n",
    "    \n",
    "map\n",
    "# map.save('사하구 사고.html')"
   ]
  },
  {
   "source": [
    "#### 3. 부산에서 발생한 총 사망자수를 구하시요"
   ],
   "cell_type": "markdown",
   "metadata": {}
  },
  {
   "cell_type": "code",
   "execution_count": null,
   "metadata": {},
   "outputs": [],
   "source": [
    "df[df['발생지시도'] == '부산']['사망자수'].sum()"
   ]
  },
  {
   "source": [
    "#### 4. 부산지역 월요일에 발생한 사상자수 사고유형 법규위반을 구하시요"
   ],
   "cell_type": "markdown",
   "metadata": {}
  },
  {
   "cell_type": "code",
   "execution_count": 62,
   "metadata": {},
   "outputs": [
    {
     "output_type": "execute_result",
     "data": {
      "text/plain": [
       "       사고유형  사상자수         법규위반\n",
       "37      횡단중     1  안전운전 의무 불이행\n",
       "467     횡단중     1  안전운전 의무 불이행\n",
       "468      기타     1  안전운전 의무 불이행\n",
       "937    측면충돌     1         신호위반\n",
       "944    측면충돌     1     안전거리 미확보\n",
       "1391  차도통행중     1           과속\n",
       "1392   측면충돌     3       중앙선 침범\n",
       "1393    횡단중     1           과속\n",
       "1816  공작물충돌     2  안전운전 의무 불이행\n",
       "1821    횡단중     1           과속\n",
       "2280     기타     1           과속\n",
       "2282    횡단중     1  안전운전 의무 불이행\n",
       "2283  공작물충돌     1  안전운전 의무 불이행\n",
       "2746   측면충돌     1         신호위반\n",
       "2754  공작물충돌     5           과속"
      ],
      "text/html": "<div>\n<style scoped>\n    .dataframe tbody tr th:only-of-type {\n        vertical-align: middle;\n    }\n\n    .dataframe tbody tr th {\n        vertical-align: top;\n    }\n\n    .dataframe thead th {\n        text-align: right;\n    }\n</style>\n<table border=\"1\" class=\"dataframe\">\n  <thead>\n    <tr style=\"text-align: right;\">\n      <th></th>\n      <th>사고유형</th>\n      <th>사상자수</th>\n      <th>법규위반</th>\n    </tr>\n  </thead>\n  <tbody>\n    <tr>\n      <th>37</th>\n      <td>횡단중</td>\n      <td>1</td>\n      <td>안전운전 의무 불이행</td>\n    </tr>\n    <tr>\n      <th>467</th>\n      <td>횡단중</td>\n      <td>1</td>\n      <td>안전운전 의무 불이행</td>\n    </tr>\n    <tr>\n      <th>468</th>\n      <td>기타</td>\n      <td>1</td>\n      <td>안전운전 의무 불이행</td>\n    </tr>\n    <tr>\n      <th>937</th>\n      <td>측면충돌</td>\n      <td>1</td>\n      <td>신호위반</td>\n    </tr>\n    <tr>\n      <th>944</th>\n      <td>측면충돌</td>\n      <td>1</td>\n      <td>안전거리 미확보</td>\n    </tr>\n    <tr>\n      <th>1391</th>\n      <td>차도통행중</td>\n      <td>1</td>\n      <td>과속</td>\n    </tr>\n    <tr>\n      <th>1392</th>\n      <td>측면충돌</td>\n      <td>3</td>\n      <td>중앙선 침범</td>\n    </tr>\n    <tr>\n      <th>1393</th>\n      <td>횡단중</td>\n      <td>1</td>\n      <td>과속</td>\n    </tr>\n    <tr>\n      <th>1816</th>\n      <td>공작물충돌</td>\n      <td>2</td>\n      <td>안전운전 의무 불이행</td>\n    </tr>\n    <tr>\n      <th>1821</th>\n      <td>횡단중</td>\n      <td>1</td>\n      <td>과속</td>\n    </tr>\n    <tr>\n      <th>2280</th>\n      <td>기타</td>\n      <td>1</td>\n      <td>과속</td>\n    </tr>\n    <tr>\n      <th>2282</th>\n      <td>횡단중</td>\n      <td>1</td>\n      <td>안전운전 의무 불이행</td>\n    </tr>\n    <tr>\n      <th>2283</th>\n      <td>공작물충돌</td>\n      <td>1</td>\n      <td>안전운전 의무 불이행</td>\n    </tr>\n    <tr>\n      <th>2746</th>\n      <td>측면충돌</td>\n      <td>1</td>\n      <td>신호위반</td>\n    </tr>\n    <tr>\n      <th>2754</th>\n      <td>공작물충돌</td>\n      <td>5</td>\n      <td>과속</td>\n    </tr>\n  </tbody>\n</table>\n</div>"
     },
     "metadata": {},
     "execution_count": 62
    }
   ],
   "source": [
    "# bu = df[df['발생지시도'] =='부산']\n",
    "# bu = bu[bu['요일'] =='월']\n",
    "# bu[['사고유형','사상자수','법규위반']]\n"
   ]
  },
  {
   "cell_type": "code",
   "execution_count": 67,
   "metadata": {},
   "outputs": [
    {
     "output_type": "execute_result",
     "data": {
      "text/plain": [
       "      사상자수   사고유형         법규위반\n",
       "37       1    횡단중  안전운전 의무 불이행\n",
       "467      1    횡단중  안전운전 의무 불이행\n",
       "468      1     기타  안전운전 의무 불이행\n",
       "937      1   측면충돌         신호위반\n",
       "944      1   측면충돌     안전거리 미확보\n",
       "1391     1  차도통행중           과속\n",
       "1392     3   측면충돌       중앙선 침범\n",
       "1393     1    횡단중           과속\n",
       "1816     2  공작물충돌  안전운전 의무 불이행\n",
       "1821     1    횡단중           과속\n",
       "2280     1     기타           과속\n",
       "2282     1    횡단중  안전운전 의무 불이행\n",
       "2283     1  공작물충돌  안전운전 의무 불이행\n",
       "2746     1   측면충돌         신호위반\n",
       "2754     5  공작물충돌           과속"
      ],
      "text/html": "<div>\n<style scoped>\n    .dataframe tbody tr th:only-of-type {\n        vertical-align: middle;\n    }\n\n    .dataframe tbody tr th {\n        vertical-align: top;\n    }\n\n    .dataframe thead th {\n        text-align: right;\n    }\n</style>\n<table border=\"1\" class=\"dataframe\">\n  <thead>\n    <tr style=\"text-align: right;\">\n      <th></th>\n      <th>사상자수</th>\n      <th>사고유형</th>\n      <th>법규위반</th>\n    </tr>\n  </thead>\n  <tbody>\n    <tr>\n      <th>37</th>\n      <td>1</td>\n      <td>횡단중</td>\n      <td>안전운전 의무 불이행</td>\n    </tr>\n    <tr>\n      <th>467</th>\n      <td>1</td>\n      <td>횡단중</td>\n      <td>안전운전 의무 불이행</td>\n    </tr>\n    <tr>\n      <th>468</th>\n      <td>1</td>\n      <td>기타</td>\n      <td>안전운전 의무 불이행</td>\n    </tr>\n    <tr>\n      <th>937</th>\n      <td>1</td>\n      <td>측면충돌</td>\n      <td>신호위반</td>\n    </tr>\n    <tr>\n      <th>944</th>\n      <td>1</td>\n      <td>측면충돌</td>\n      <td>안전거리 미확보</td>\n    </tr>\n    <tr>\n      <th>1391</th>\n      <td>1</td>\n      <td>차도통행중</td>\n      <td>과속</td>\n    </tr>\n    <tr>\n      <th>1392</th>\n      <td>3</td>\n      <td>측면충돌</td>\n      <td>중앙선 침범</td>\n    </tr>\n    <tr>\n      <th>1393</th>\n      <td>1</td>\n      <td>횡단중</td>\n      <td>과속</td>\n    </tr>\n    <tr>\n      <th>1816</th>\n      <td>2</td>\n      <td>공작물충돌</td>\n      <td>안전운전 의무 불이행</td>\n    </tr>\n    <tr>\n      <th>1821</th>\n      <td>1</td>\n      <td>횡단중</td>\n      <td>과속</td>\n    </tr>\n    <tr>\n      <th>2280</th>\n      <td>1</td>\n      <td>기타</td>\n      <td>과속</td>\n    </tr>\n    <tr>\n      <th>2282</th>\n      <td>1</td>\n      <td>횡단중</td>\n      <td>안전운전 의무 불이행</td>\n    </tr>\n    <tr>\n      <th>2283</th>\n      <td>1</td>\n      <td>공작물충돌</td>\n      <td>안전운전 의무 불이행</td>\n    </tr>\n    <tr>\n      <th>2746</th>\n      <td>1</td>\n      <td>측면충돌</td>\n      <td>신호위반</td>\n    </tr>\n    <tr>\n      <th>2754</th>\n      <td>5</td>\n      <td>공작물충돌</td>\n      <td>과속</td>\n    </tr>\n  </tbody>\n</table>\n</div>"
     },
     "metadata": {},
     "execution_count": 67
    }
   ],
   "source": [
    "df[(df['발생지시도'] == '부산')&(df['요일'] == '월')][['사상자수', '사고유형', '법규위반']]"
   ]
  },
  {
   "source": [
    "#### 5.횡단중 일어난 사고의 요일 발생지시도, 법규위반, 피해자_당사자종별을 구하시요"
   ],
   "cell_type": "markdown",
   "metadata": {}
  },
  {
   "cell_type": "code",
   "execution_count": 74,
   "metadata": {},
   "outputs": [
    {
     "output_type": "execute_result",
     "data": {
      "text/plain": [
       "     요일 발생지시도         법규위반 피해자_당사자종별\n",
       "0     수    서울  안전운전 의무 불이행       보행자\n",
       "1     일    서울  안전운전 의무 불이행       보행자\n",
       "5     일    서울  안전운전 의무 불이행       보행자\n",
       "6     월    서울         신호위반       보행자\n",
       "7     금    서울           과속       보행자\n",
       "...  ..   ...          ...       ...\n",
       "3636  목    경기  보행자 보호의무 위반       보행자\n",
       "3639  금    경기         신호위반       보행자\n",
       "3643  토    경기  안전운전 의무 불이행       보행자\n",
       "3646  화    경기  안전운전 의무 불이행       보행자\n",
       "3647  월    경기  안전운전 의무 불이행       보행자\n",
       "\n",
       "[791 rows x 4 columns]"
      ],
      "text/html": "<div>\n<style scoped>\n    .dataframe tbody tr th:only-of-type {\n        vertical-align: middle;\n    }\n\n    .dataframe tbody tr th {\n        vertical-align: top;\n    }\n\n    .dataframe thead th {\n        text-align: right;\n    }\n</style>\n<table border=\"1\" class=\"dataframe\">\n  <thead>\n    <tr style=\"text-align: right;\">\n      <th></th>\n      <th>요일</th>\n      <th>발생지시도</th>\n      <th>법규위반</th>\n      <th>피해자_당사자종별</th>\n    </tr>\n  </thead>\n  <tbody>\n    <tr>\n      <th>0</th>\n      <td>수</td>\n      <td>서울</td>\n      <td>안전운전 의무 불이행</td>\n      <td>보행자</td>\n    </tr>\n    <tr>\n      <th>1</th>\n      <td>일</td>\n      <td>서울</td>\n      <td>안전운전 의무 불이행</td>\n      <td>보행자</td>\n    </tr>\n    <tr>\n      <th>5</th>\n      <td>일</td>\n      <td>서울</td>\n      <td>안전운전 의무 불이행</td>\n      <td>보행자</td>\n    </tr>\n    <tr>\n      <th>6</th>\n      <td>월</td>\n      <td>서울</td>\n      <td>신호위반</td>\n      <td>보행자</td>\n    </tr>\n    <tr>\n      <th>7</th>\n      <td>금</td>\n      <td>서울</td>\n      <td>과속</td>\n      <td>보행자</td>\n    </tr>\n    <tr>\n      <th>...</th>\n      <td>...</td>\n      <td>...</td>\n      <td>...</td>\n      <td>...</td>\n    </tr>\n    <tr>\n      <th>3636</th>\n      <td>목</td>\n      <td>경기</td>\n      <td>보행자 보호의무 위반</td>\n      <td>보행자</td>\n    </tr>\n    <tr>\n      <th>3639</th>\n      <td>금</td>\n      <td>경기</td>\n      <td>신호위반</td>\n      <td>보행자</td>\n    </tr>\n    <tr>\n      <th>3643</th>\n      <td>토</td>\n      <td>경기</td>\n      <td>안전운전 의무 불이행</td>\n      <td>보행자</td>\n    </tr>\n    <tr>\n      <th>3646</th>\n      <td>화</td>\n      <td>경기</td>\n      <td>안전운전 의무 불이행</td>\n      <td>보행자</td>\n    </tr>\n    <tr>\n      <th>3647</th>\n      <td>월</td>\n      <td>경기</td>\n      <td>안전운전 의무 불이행</td>\n      <td>보행자</td>\n    </tr>\n  </tbody>\n</table>\n<p>791 rows × 4 columns</p>\n</div>"
     },
     "metadata": {},
     "execution_count": 74
    }
   ],
   "source": [
    "# 횡단중에 일어난 것만 알기 위해 .str.contatins() 사용\n",
    "df1 = df[df['사고유형'].str.contains('횡단중')]\n",
    "df2 = df1[['요일','발생지시도','법규위반','피해자_당사자종별']]\n",
    "df2"
   ]
  }
 ]
}