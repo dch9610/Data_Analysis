{
 "metadata": {
  "language_info": {
   "codemirror_mode": {
    "name": "ipython",
    "version": 3
   },
   "file_extension": ".py",
   "mimetype": "text/x-python",
   "name": "python",
   "nbconvert_exporter": "python",
   "pygments_lexer": "ipython3",
   "version": "3.8.5-final"
  },
  "orig_nbformat": 2,
  "kernelspec": {
   "name": "python3",
   "display_name": "Python 3",
   "language": "python"
  }
 },
 "nbformat": 4,
 "nbformat_minor": 2,
 "cells": [
  {
   "cell_type": "code",
   "execution_count": 1,
   "metadata": {},
   "outputs": [],
   "source": [
    "import pandas as pd\n",
    "import numpy as np\n",
    "import matplotlib.pyplot as plt\n",
    "\n",
    "import matplotlib\n",
    "matplotlib.rcParams['font.family']='Malgun Gothic'\n",
    "matplotlib.rcParams['axes.unicode_minus']=False"
   ]
  },
  {
   "cell_type": "code",
   "execution_count": 4,
   "metadata": {},
   "outputs": [
    {
     "output_type": "execute_result",
     "data": {
      "text/plain": [
       "      grade  rate  price\n",
       "호텔1      10     1   9500\n",
       "호텔2       8     2   8000\n",
       "호텔3       6     4   6000\n",
       "호텔4       9     2   8600\n",
       "호텔5       7     4   7000\n",
       "호텔6       8     2   8300\n",
       "호텔7       5     5   5000\n",
       "호텔8       5     5   5200\n",
       "호텔9       8     3   8100\n",
       "호텔10     10     1   9300\n",
       "호텔11      9     3   8800\n",
       "호텔12      7     4   7100\n",
       "호텔13      8     3   8500\n",
       "호텔14      5     4   5200\n",
       "호텔15      5     5   3200\n",
       "호텔16      6     4   6800\n",
       "호텔17      7     4   7100\n",
       "호텔18      8     3   8400\n",
       "호텔19      5     4   2200\n",
       "호텔20      5     5   4500"
      ],
      "text/html": "<div>\n<style scoped>\n    .dataframe tbody tr th:only-of-type {\n        vertical-align: middle;\n    }\n\n    .dataframe tbody tr th {\n        vertical-align: top;\n    }\n\n    .dataframe thead th {\n        text-align: right;\n    }\n</style>\n<table border=\"1\" class=\"dataframe\">\n  <thead>\n    <tr style=\"text-align: right;\">\n      <th></th>\n      <th>grade</th>\n      <th>rate</th>\n      <th>price</th>\n    </tr>\n  </thead>\n  <tbody>\n    <tr>\n      <th>호텔1</th>\n      <td>10</td>\n      <td>1</td>\n      <td>9500</td>\n    </tr>\n    <tr>\n      <th>호텔2</th>\n      <td>8</td>\n      <td>2</td>\n      <td>8000</td>\n    </tr>\n    <tr>\n      <th>호텔3</th>\n      <td>6</td>\n      <td>4</td>\n      <td>6000</td>\n    </tr>\n    <tr>\n      <th>호텔4</th>\n      <td>9</td>\n      <td>2</td>\n      <td>8600</td>\n    </tr>\n    <tr>\n      <th>호텔5</th>\n      <td>7</td>\n      <td>4</td>\n      <td>7000</td>\n    </tr>\n    <tr>\n      <th>호텔6</th>\n      <td>8</td>\n      <td>2</td>\n      <td>8300</td>\n    </tr>\n    <tr>\n      <th>호텔7</th>\n      <td>5</td>\n      <td>5</td>\n      <td>5000</td>\n    </tr>\n    <tr>\n      <th>호텔8</th>\n      <td>5</td>\n      <td>5</td>\n      <td>5200</td>\n    </tr>\n    <tr>\n      <th>호텔9</th>\n      <td>8</td>\n      <td>3</td>\n      <td>8100</td>\n    </tr>\n    <tr>\n      <th>호텔10</th>\n      <td>10</td>\n      <td>1</td>\n      <td>9300</td>\n    </tr>\n    <tr>\n      <th>호텔11</th>\n      <td>9</td>\n      <td>3</td>\n      <td>8800</td>\n    </tr>\n    <tr>\n      <th>호텔12</th>\n      <td>7</td>\n      <td>4</td>\n      <td>7100</td>\n    </tr>\n    <tr>\n      <th>호텔13</th>\n      <td>8</td>\n      <td>3</td>\n      <td>8500</td>\n    </tr>\n    <tr>\n      <th>호텔14</th>\n      <td>5</td>\n      <td>4</td>\n      <td>5200</td>\n    </tr>\n    <tr>\n      <th>호텔15</th>\n      <td>5</td>\n      <td>5</td>\n      <td>3200</td>\n    </tr>\n    <tr>\n      <th>호텔16</th>\n      <td>6</td>\n      <td>4</td>\n      <td>6800</td>\n    </tr>\n    <tr>\n      <th>호텔17</th>\n      <td>7</td>\n      <td>4</td>\n      <td>7100</td>\n    </tr>\n    <tr>\n      <th>호텔18</th>\n      <td>8</td>\n      <td>3</td>\n      <td>8400</td>\n    </tr>\n    <tr>\n      <th>호텔19</th>\n      <td>5</td>\n      <td>4</td>\n      <td>2200</td>\n    </tr>\n    <tr>\n      <th>호텔20</th>\n      <td>5</td>\n      <td>5</td>\n      <td>4500</td>\n    </tr>\n  </tbody>\n</table>\n</div>"
     },
     "metadata": {},
     "execution_count": 4
    }
   ],
   "source": [
    "df = pd.read_excel('../data/hotel.xlsx', index_col='Unnamed: 0')\n",
    "df"
   ]
  },
  {
   "cell_type": "code",
   "execution_count": 5,
   "metadata": {},
   "outputs": [
    {
     "output_type": "execute_result",
     "data": {
      "text/plain": [
       "array([10,  8,  6,  9,  7,  5], dtype=int64)"
      ]
     },
     "metadata": {},
     "execution_count": 5
    }
   ],
   "source": [
    "# 중복제거\n",
    "df['grade'].unique()"
   ]
  },
  {
   "cell_type": "code",
   "execution_count": 6,
   "metadata": {},
   "outputs": [
    {
     "output_type": "execute_result",
     "data": {
      "text/plain": [
       "5     6\n",
       "6     2\n",
       "7     3\n",
       "8     5\n",
       "9     2\n",
       "10    2\n",
       "Name: grade, dtype: int64"
      ]
     },
     "metadata": {},
     "execution_count": 6
    }
   ],
   "source": [
    "df['grade'].value_counts().sort_index()"
   ]
  },
  {
   "cell_type": "code",
   "execution_count": 12,
   "metadata": {},
   "outputs": [
    {
     "output_type": "execute_result",
     "data": {
      "text/plain": [
       "       price\n",
       "grade       \n",
       "5      25300\n",
       "6      12800\n",
       "7      21200\n",
       "8      41300\n",
       "9      17400\n",
       "10     18800"
      ],
      "text/html": "<div>\n<style scoped>\n    .dataframe tbody tr th:only-of-type {\n        vertical-align: middle;\n    }\n\n    .dataframe tbody tr th {\n        vertical-align: top;\n    }\n\n    .dataframe thead th {\n        text-align: right;\n    }\n</style>\n<table border=\"1\" class=\"dataframe\">\n  <thead>\n    <tr style=\"text-align: right;\">\n      <th></th>\n      <th>price</th>\n    </tr>\n    <tr>\n      <th>grade</th>\n      <th></th>\n    </tr>\n  </thead>\n  <tbody>\n    <tr>\n      <th>5</th>\n      <td>25300</td>\n    </tr>\n    <tr>\n      <th>6</th>\n      <td>12800</td>\n    </tr>\n    <tr>\n      <th>7</th>\n      <td>21200</td>\n    </tr>\n    <tr>\n      <th>8</th>\n      <td>41300</td>\n    </tr>\n    <tr>\n      <th>9</th>\n      <td>17400</td>\n    </tr>\n    <tr>\n      <th>10</th>\n      <td>18800</td>\n    </tr>\n  </tbody>\n</table>\n</div>"
     },
     "metadata": {},
     "execution_count": 12
    }
   ],
   "source": [
    "# 등급별 가격의 합 (~별) : groupby\n",
    "# DataFrameGrouBy (집계관련함수 : sum, mean, count, max, min, agg)\n",
    "g = df.groupby('grade')\n",
    "# [[컬럼명]] : 데이터프레임, [컬럼명] : 시리즈 형태\n",
    "g.sum()[['price']] # 집계가능 (숫자) 모든 컬럼"
   ]
  },
  {
   "cell_type": "code",
   "execution_count": 13,
   "metadata": {},
   "outputs": [
    {
     "output_type": "execute_result",
     "data": {
      "text/plain": [
       "             price\n",
       "grade             \n",
       "5      4216.666667\n",
       "6      6400.000000\n",
       "7      7066.666667\n",
       "8      8260.000000\n",
       "9      8700.000000\n",
       "10     9400.000000"
      ],
      "text/html": "<div>\n<style scoped>\n    .dataframe tbody tr th:only-of-type {\n        vertical-align: middle;\n    }\n\n    .dataframe tbody tr th {\n        vertical-align: top;\n    }\n\n    .dataframe thead th {\n        text-align: right;\n    }\n</style>\n<table border=\"1\" class=\"dataframe\">\n  <thead>\n    <tr style=\"text-align: right;\">\n      <th></th>\n      <th>price</th>\n    </tr>\n    <tr>\n      <th>grade</th>\n      <th></th>\n    </tr>\n  </thead>\n  <tbody>\n    <tr>\n      <th>5</th>\n      <td>4216.666667</td>\n    </tr>\n    <tr>\n      <th>6</th>\n      <td>6400.000000</td>\n    </tr>\n    <tr>\n      <th>7</th>\n      <td>7066.666667</td>\n    </tr>\n    <tr>\n      <th>8</th>\n      <td>8260.000000</td>\n    </tr>\n    <tr>\n      <th>9</th>\n      <td>8700.000000</td>\n    </tr>\n    <tr>\n      <th>10</th>\n      <td>9400.000000</td>\n    </tr>\n  </tbody>\n</table>\n</div>"
     },
     "metadata": {},
     "execution_count": 13
    }
   ],
   "source": [
    "g = df.groupby('grade')\n",
    "g.mean()[['price']]"
   ]
  },
  {
   "cell_type": "code",
   "execution_count": 15,
   "metadata": {},
   "outputs": [
    {
     "output_type": "execute_result",
     "data": {
      "text/plain": [
       "       price\n",
       "grade       \n",
       "5          6\n",
       "6          2\n",
       "7          3\n",
       "8          5\n",
       "9          2\n",
       "10         2"
      ],
      "text/html": "<div>\n<style scoped>\n    .dataframe tbody tr th:only-of-type {\n        vertical-align: middle;\n    }\n\n    .dataframe tbody tr th {\n        vertical-align: top;\n    }\n\n    .dataframe thead th {\n        text-align: right;\n    }\n</style>\n<table border=\"1\" class=\"dataframe\">\n  <thead>\n    <tr style=\"text-align: right;\">\n      <th></th>\n      <th>price</th>\n    </tr>\n    <tr>\n      <th>grade</th>\n      <th></th>\n    </tr>\n  </thead>\n  <tbody>\n    <tr>\n      <th>5</th>\n      <td>6</td>\n    </tr>\n    <tr>\n      <th>6</th>\n      <td>2</td>\n    </tr>\n    <tr>\n      <th>7</th>\n      <td>3</td>\n    </tr>\n    <tr>\n      <th>8</th>\n      <td>5</td>\n    </tr>\n    <tr>\n      <th>9</th>\n      <td>2</td>\n    </tr>\n    <tr>\n      <th>10</th>\n      <td>2</td>\n    </tr>\n  </tbody>\n</table>\n</div>"
     },
     "metadata": {},
     "execution_count": 15
    }
   ],
   "source": [
    "g = df.groupby('grade')\n",
    "g.count()[['price']]"
   ]
  },
  {
   "cell_type": "code",
   "execution_count": 20,
   "metadata": {},
   "outputs": [
    {
     "output_type": "execute_result",
     "data": {
      "text/plain": [
       "       가격의 총합       가격의 평균\n",
       "grade                     \n",
       "5       25300  4216.666667\n",
       "6       12800  6400.000000\n",
       "7       21200  7066.666667\n",
       "8       41300  8260.000000\n",
       "9       17400  8700.000000\n",
       "10      18800  9400.000000"
      ],
      "text/html": "<div>\n<style scoped>\n    .dataframe tbody tr th:only-of-type {\n        vertical-align: middle;\n    }\n\n    .dataframe tbody tr th {\n        vertical-align: top;\n    }\n\n    .dataframe thead th {\n        text-align: right;\n    }\n</style>\n<table border=\"1\" class=\"dataframe\">\n  <thead>\n    <tr style=\"text-align: right;\">\n      <th></th>\n      <th>가격의 총합</th>\n      <th>가격의 평균</th>\n    </tr>\n    <tr>\n      <th>grade</th>\n      <th></th>\n      <th></th>\n    </tr>\n  </thead>\n  <tbody>\n    <tr>\n      <th>5</th>\n      <td>25300</td>\n      <td>4216.666667</td>\n    </tr>\n    <tr>\n      <th>6</th>\n      <td>12800</td>\n      <td>6400.000000</td>\n    </tr>\n    <tr>\n      <th>7</th>\n      <td>21200</td>\n      <td>7066.666667</td>\n    </tr>\n    <tr>\n      <th>8</th>\n      <td>41300</td>\n      <td>8260.000000</td>\n    </tr>\n    <tr>\n      <th>9</th>\n      <td>17400</td>\n      <td>8700.000000</td>\n    </tr>\n    <tr>\n      <th>10</th>\n      <td>18800</td>\n      <td>9400.000000</td>\n    </tr>\n  </tbody>\n</table>\n</div>"
     },
     "metadata": {},
     "execution_count": 20
    }
   ],
   "source": [
    "# 집계 결과 여러개 확인 가능\n",
    "g = df.groupby('grade')\n",
    "mydf = g.agg(['sum','mean'])['price']\n",
    "mydf.columns=['가격의 총합','가격의 평균']\n",
    "mydf"
   ]
  }
 ]
}