{
 "metadata": {
  "language_info": {
   "codemirror_mode": {
    "name": "ipython",
    "version": 3
   },
   "file_extension": ".py",
   "mimetype": "text/x-python",
   "name": "python",
   "nbconvert_exporter": "python",
   "pygments_lexer": "ipython3",
   "version": "3.8.5-final"
  },
  "orig_nbformat": 2,
  "kernelspec": {
   "name": "python3",
   "display_name": "Python 3",
   "language": "python"
  }
 },
 "nbformat": 4,
 "nbformat_minor": 2,
 "cells": [
  {
   "cell_type": "code",
   "execution_count": 2,
   "metadata": {},
   "outputs": [],
   "source": [
    "import pandas as pd\n",
    "import numpy as np\n",
    "import matplotlib.pyplot as plt\n",
    "\n",
    "import matplotlib\n",
    "matplotlib.rcParams['font.family']='Malgun Gothic'\n",
    "matplotlib.rcParams['axes.unicode_minus']=False"
   ]
  },
  {
   "cell_type": "code",
   "execution_count": 39,
   "metadata": {},
   "outputs": [
    {
     "output_type": "execute_result",
     "data": {
      "text/plain": [
       "     과목   결과  중간  기말\n",
       "학년                  \n",
       "1학년  국어   좋음  80  90\n",
       "1학년  국어   나쁨  50  40\n",
       "1학년  국어   나쁨  20  50\n",
       "1학년  수학   좋음  83  95\n",
       "1학년  수학   좋음  93  86\n",
       "2학년  국어   나쁨  44  65\n",
       "2학년  국어   좋음  95  98\n",
       "2학년  수학   좋음  96  99\n",
       "2학년  수학   나쁨  57  69"
      ],
      "text/html": "<div>\n<style scoped>\n    .dataframe tbody tr th:only-of-type {\n        vertical-align: middle;\n    }\n\n    .dataframe tbody tr th {\n        vertical-align: top;\n    }\n\n    .dataframe thead th {\n        text-align: right;\n    }\n</style>\n<table border=\"1\" class=\"dataframe\">\n  <thead>\n    <tr style=\"text-align: right;\">\n      <th></th>\n      <th>과목</th>\n      <th>결과</th>\n      <th>중간</th>\n      <th>기말</th>\n    </tr>\n    <tr>\n      <th>학년</th>\n      <th></th>\n      <th></th>\n      <th></th>\n      <th></th>\n    </tr>\n  </thead>\n  <tbody>\n    <tr>\n      <th>1학년</th>\n      <td>국어</td>\n      <td>좋음</td>\n      <td>80</td>\n      <td>90</td>\n    </tr>\n    <tr>\n      <th>1학년</th>\n      <td>국어</td>\n      <td>나쁨</td>\n      <td>50</td>\n      <td>40</td>\n    </tr>\n    <tr>\n      <th>1학년</th>\n      <td>국어</td>\n      <td>나쁨</td>\n      <td>20</td>\n      <td>50</td>\n    </tr>\n    <tr>\n      <th>1학년</th>\n      <td>수학</td>\n      <td>좋음</td>\n      <td>83</td>\n      <td>95</td>\n    </tr>\n    <tr>\n      <th>1학년</th>\n      <td>수학</td>\n      <td>좋음</td>\n      <td>93</td>\n      <td>86</td>\n    </tr>\n    <tr>\n      <th>2학년</th>\n      <td>국어</td>\n      <td>나쁨</td>\n      <td>44</td>\n      <td>65</td>\n    </tr>\n    <tr>\n      <th>2학년</th>\n      <td>국어</td>\n      <td>좋음</td>\n      <td>95</td>\n      <td>98</td>\n    </tr>\n    <tr>\n      <th>2학년</th>\n      <td>수학</td>\n      <td>좋음</td>\n      <td>96</td>\n      <td>99</td>\n    </tr>\n    <tr>\n      <th>2학년</th>\n      <td>수학</td>\n      <td>나쁨</td>\n      <td>57</td>\n      <td>69</td>\n    </tr>\n  </tbody>\n</table>\n</div>"
     },
     "metadata": {},
     "execution_count": 39
    }
   ],
   "source": [
    "df = pd.read_csv('../data/grade.csv',index_col=['학년'])\n",
    "df"
   ]
  },
  {
   "cell_type": "code",
   "execution_count": 38,
   "metadata": {},
   "outputs": [
    {
     "output_type": "execute_result",
     "data": {
      "text/plain": [
       "       중간     기말\n",
       "학년              \n",
       "1학년  65.2  72.20\n",
       "2학년  73.0  82.75"
      ],
      "text/html": "<div>\n<style scoped>\n    .dataframe tbody tr th:only-of-type {\n        vertical-align: middle;\n    }\n\n    .dataframe tbody tr th {\n        vertical-align: top;\n    }\n\n    .dataframe thead th {\n        text-align: right;\n    }\n</style>\n<table border=\"1\" class=\"dataframe\">\n  <thead>\n    <tr style=\"text-align: right;\">\n      <th></th>\n      <th>중간</th>\n      <th>기말</th>\n    </tr>\n    <tr>\n      <th>학년</th>\n      <th></th>\n      <th></th>\n    </tr>\n  </thead>\n  <tbody>\n    <tr>\n      <th>1학년</th>\n      <td>65.2</td>\n      <td>72.20</td>\n    </tr>\n    <tr>\n      <th>2학년</th>\n      <td>73.0</td>\n      <td>82.75</td>\n    </tr>\n  </tbody>\n</table>\n</div>"
     },
     "metadata": {},
     "execution_count": 38
    }
   ],
   "source": [
    "# index = 묶을 컬럼\n",
    "# aggfunc = 나타낼 값 (고정값은 mean)\n",
    "gradeDF = df.pivot_table(index=['학년'])\n",
    "gradeDF[['중간','기말']]"
   ]
  },
  {
   "cell_type": "code",
   "execution_count": 16,
   "metadata": {},
   "outputs": [
    {
     "output_type": "execute_result",
     "data": {
      "text/plain": [
       "      기말   중간\n",
       "학년           \n",
       "1학년  361  326\n",
       "2학년  331  292"
      ],
      "text/html": "<div>\n<style scoped>\n    .dataframe tbody tr th:only-of-type {\n        vertical-align: middle;\n    }\n\n    .dataframe tbody tr th {\n        vertical-align: top;\n    }\n\n    .dataframe thead th {\n        text-align: right;\n    }\n</style>\n<table border=\"1\" class=\"dataframe\">\n  <thead>\n    <tr style=\"text-align: right;\">\n      <th></th>\n      <th>기말</th>\n      <th>중간</th>\n    </tr>\n    <tr>\n      <th>학년</th>\n      <th></th>\n      <th></th>\n    </tr>\n  </thead>\n  <tbody>\n    <tr>\n      <th>1학년</th>\n      <td>361</td>\n      <td>326</td>\n    </tr>\n    <tr>\n      <th>2학년</th>\n      <td>331</td>\n      <td>292</td>\n    </tr>\n  </tbody>\n</table>\n</div>"
     },
     "metadata": {},
     "execution_count": 16
    }
   ],
   "source": [
    "# index = 묶을 컬럼\n",
    "# aggfunc = 나타낼 값 \n",
    "gradeDF = df.pivot_table(index=['학년'], aggfunc=sum)\n",
    "gradeDF"
   ]
  },
  {
   "cell_type": "code",
   "execution_count": 21,
   "metadata": {},
   "outputs": [
    {
     "output_type": "execute_result",
     "data": {
      "text/plain": [
       "         기말   중간\n",
       "학년  과목          \n",
       "1학년 국어  180  150\n",
       "    수학  181  176\n",
       "2학년 국어  163  139\n",
       "    수학  168  153"
      ],
      "text/html": "<div>\n<style scoped>\n    .dataframe tbody tr th:only-of-type {\n        vertical-align: middle;\n    }\n\n    .dataframe tbody tr th {\n        vertical-align: top;\n    }\n\n    .dataframe thead th {\n        text-align: right;\n    }\n</style>\n<table border=\"1\" class=\"dataframe\">\n  <thead>\n    <tr style=\"text-align: right;\">\n      <th></th>\n      <th></th>\n      <th>기말</th>\n      <th>중간</th>\n    </tr>\n    <tr>\n      <th>학년</th>\n      <th>과목</th>\n      <th></th>\n      <th></th>\n    </tr>\n  </thead>\n  <tbody>\n    <tr>\n      <th rowspan=\"2\" valign=\"top\">1학년</th>\n      <th>국어</th>\n      <td>180</td>\n      <td>150</td>\n    </tr>\n    <tr>\n      <th>수학</th>\n      <td>181</td>\n      <td>176</td>\n    </tr>\n    <tr>\n      <th rowspan=\"2\" valign=\"top\">2학년</th>\n      <th>국어</th>\n      <td>163</td>\n      <td>139</td>\n    </tr>\n    <tr>\n      <th>수학</th>\n      <td>168</td>\n      <td>153</td>\n    </tr>\n  </tbody>\n</table>\n</div>"
     },
     "metadata": {},
     "execution_count": 21
    }
   ],
   "source": [
    "# 학년별, 과목별 (멀티인덱스)\n",
    "\n",
    "# g = df.groupby(['학년','과목'])\n",
    "# g.mean()\n",
    "\n",
    "gradeDF = df.pivot_table(index=['학년','과목'], aggfunc=sum)\n",
    "gradeDF"
   ]
  },
  {
   "cell_type": "code",
   "execution_count": 26,
   "metadata": {},
   "outputs": [
    {
     "output_type": "execute_result",
     "data": {
      "text/plain": [
       "          중간    기말\n",
       "학년  과목            \n",
       "1학년 국어  50.0  60.0\n",
       "    수학  88.0  90.5\n",
       "2학년 국어  69.5  81.5\n",
       "    수학  76.5  84.0"
      ],
      "text/html": "<div>\n<style scoped>\n    .dataframe tbody tr th:only-of-type {\n        vertical-align: middle;\n    }\n\n    .dataframe tbody tr th {\n        vertical-align: top;\n    }\n\n    .dataframe thead th {\n        text-align: right;\n    }\n</style>\n<table border=\"1\" class=\"dataframe\">\n  <thead>\n    <tr style=\"text-align: right;\">\n      <th></th>\n      <th></th>\n      <th>중간</th>\n      <th>기말</th>\n    </tr>\n    <tr>\n      <th>학년</th>\n      <th>과목</th>\n      <th></th>\n      <th></th>\n    </tr>\n  </thead>\n  <tbody>\n    <tr>\n      <th rowspan=\"2\" valign=\"top\">1학년</th>\n      <th>국어</th>\n      <td>50.0</td>\n      <td>60.0</td>\n    </tr>\n    <tr>\n      <th>수학</th>\n      <td>88.0</td>\n      <td>90.5</td>\n    </tr>\n    <tr>\n      <th rowspan=\"2\" valign=\"top\">2학년</th>\n      <th>국어</th>\n      <td>69.5</td>\n      <td>81.5</td>\n    </tr>\n    <tr>\n      <th>수학</th>\n      <td>76.5</td>\n      <td>84.0</td>\n    </tr>\n  </tbody>\n</table>\n</div>"
     },
     "metadata": {},
     "execution_count": 26
    }
   ],
   "source": [
    "g = df.groupby(['학년','과목'])\n",
    "g.mean()"
   ]
  },
  {
   "cell_type": "code",
   "execution_count": 36,
   "metadata": {},
   "outputs": [
    {
     "output_type": "execute_result",
     "data": {
      "text/plain": [
       "결과        나쁨    좋음\n",
       "학년  과목            \n",
       "1학년 국어  35.0  80.0\n",
       "    수학   NaN  88.0\n",
       "2학년 국어  44.0  95.0\n",
       "    수학  57.0  96.0"
      ],
      "text/html": "<div>\n<style scoped>\n    .dataframe tbody tr th:only-of-type {\n        vertical-align: middle;\n    }\n\n    .dataframe tbody tr th {\n        vertical-align: top;\n    }\n\n    .dataframe thead th {\n        text-align: right;\n    }\n</style>\n<table border=\"1\" class=\"dataframe\">\n  <thead>\n    <tr style=\"text-align: right;\">\n      <th></th>\n      <th>결과</th>\n      <th>나쁨</th>\n      <th>좋음</th>\n    </tr>\n    <tr>\n      <th>학년</th>\n      <th>과목</th>\n      <th></th>\n      <th></th>\n    </tr>\n  </thead>\n  <tbody>\n    <tr>\n      <th rowspan=\"2\" valign=\"top\">1학년</th>\n      <th>국어</th>\n      <td>35.0</td>\n      <td>80.0</td>\n    </tr>\n    <tr>\n      <th>수학</th>\n      <td>NaN</td>\n      <td>88.0</td>\n    </tr>\n    <tr>\n      <th rowspan=\"2\" valign=\"top\">2학년</th>\n      <th>국어</th>\n      <td>44.0</td>\n      <td>95.0</td>\n    </tr>\n    <tr>\n      <th>수학</th>\n      <td>57.0</td>\n      <td>96.0</td>\n    </tr>\n  </tbody>\n</table>\n</div>"
     },
     "metadata": {},
     "execution_count": 36
    }
   ],
   "source": [
    "# value = 나타낼값\n",
    "# columns = 특정컬럼으로 구분\n",
    "gradeDF = df.pivot_table(index=['학년','과목'], values='중간',columns='결과')\n",
    "gradeDF"
   ]
  },
  {
   "cell_type": "code",
   "execution_count": 45,
   "metadata": {},
   "outputs": [
    {
     "output_type": "execute_result",
     "data": {
      "text/plain": [
       "     sum        mean      \n",
       "      기말   중간     기말    중간\n",
       "학년                        \n",
       "1학년  361  326  72.20  65.2\n",
       "2학년  331  292  82.75  73.0"
      ],
      "text/html": "<div>\n<style scoped>\n    .dataframe tbody tr th:only-of-type {\n        vertical-align: middle;\n    }\n\n    .dataframe tbody tr th {\n        vertical-align: top;\n    }\n\n    .dataframe thead tr th {\n        text-align: left;\n    }\n\n    .dataframe thead tr:last-of-type th {\n        text-align: right;\n    }\n</style>\n<table border=\"1\" class=\"dataframe\">\n  <thead>\n    <tr>\n      <th></th>\n      <th colspan=\"2\" halign=\"left\">sum</th>\n      <th colspan=\"2\" halign=\"left\">mean</th>\n    </tr>\n    <tr>\n      <th></th>\n      <th>기말</th>\n      <th>중간</th>\n      <th>기말</th>\n      <th>중간</th>\n    </tr>\n    <tr>\n      <th>학년</th>\n      <th></th>\n      <th></th>\n      <th></th>\n      <th></th>\n    </tr>\n  </thead>\n  <tbody>\n    <tr>\n      <th>1학년</th>\n      <td>361</td>\n      <td>326</td>\n      <td>72.20</td>\n      <td>65.2</td>\n    </tr>\n    <tr>\n      <th>2학년</th>\n      <td>331</td>\n      <td>292</td>\n      <td>82.75</td>\n      <td>73.0</td>\n    </tr>\n  </tbody>\n</table>\n</div>"
     },
     "metadata": {},
     "execution_count": 45
    }
   ],
   "source": [
    "gradeDF = df.pivot_table(index=['학년'], aggfunc=['sum','mean'])\n",
    "gradeDF"
   ]
  },
  {
   "cell_type": "code",
   "execution_count": 55,
   "metadata": {},
   "outputs": [],
   "source": [
    "def fn(v):\n",
    "    # print('=============')\n",
    "    # print(v)\n",
    "    # print('=============')\n",
    "    if v.mean()>=70:\n",
    "        return '합격'\n",
    "    else:\n",
    "        return '불합격'\n",
    "    return v.mean()"
   ]
  },
  {
   "cell_type": "code",
   "execution_count": 61,
   "metadata": {},
   "outputs": [
    {
     "output_type": "execute_result",
     "data": {
      "text/plain": [
       "    <lambda>  mean\n",
       "          중간    중간\n",
       "학년                \n",
       "1학년      불합격  65.2\n",
       "2학년       합격  73.0"
      ],
      "text/html": "<div>\n<style scoped>\n    .dataframe tbody tr th:only-of-type {\n        vertical-align: middle;\n    }\n\n    .dataframe tbody tr th {\n        vertical-align: top;\n    }\n\n    .dataframe thead tr th {\n        text-align: left;\n    }\n\n    .dataframe thead tr:last-of-type th {\n        text-align: right;\n    }\n</style>\n<table border=\"1\" class=\"dataframe\">\n  <thead>\n    <tr>\n      <th></th>\n      <th>&lt;lambda&gt;</th>\n      <th>mean</th>\n    </tr>\n    <tr>\n      <th></th>\n      <th>중간</th>\n      <th>중간</th>\n    </tr>\n    <tr>\n      <th>학년</th>\n      <th></th>\n      <th></th>\n    </tr>\n  </thead>\n  <tbody>\n    <tr>\n      <th>1학년</th>\n      <td>불합격</td>\n      <td>65.2</td>\n    </tr>\n    <tr>\n      <th>2학년</th>\n      <td>합격</td>\n      <td>73.0</td>\n    </tr>\n  </tbody>\n</table>\n</div>"
     },
     "metadata": {},
     "execution_count": 61
    }
   ],
   "source": [
    "# aggfunc = 함수명\n",
    "# gradeDF = df.pivot_table(index=['학년'], values=['중간'], aggfunc=['mean',fn])\n",
    "gradeDF = df.pivot_table(index=['학년'], values=['중간'], aggfunc=[lambda v: '합격' if v.mean()>=70 else '불합격','mean'])\n",
    "gradeDF"
   ]
  },
  {
   "cell_type": "code",
   "execution_count": null,
   "metadata": {},
   "outputs": [],
   "source": []
  }
 ]
}